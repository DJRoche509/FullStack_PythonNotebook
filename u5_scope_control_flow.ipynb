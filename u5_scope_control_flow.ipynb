{
 "cells": [
  {
   "cell_type": "markdown",
   "id": "57cd727b-0ebe-48c9-8255-b7af12633063",
   "metadata": {
    "tags": []
   },
   "source": [
    " # <center> **SCOPE, CONDITIONALS, AND LOOPS** "
   ]
  },
  {
   "cell_type": "markdown",
   "id": "159e13ca-faf5-4875-88db-cb993bf4f3fa",
   "metadata": {},
   "source": [
    "[Quick Markdown Guide](https://www.ibm.com/docs/en/watson-studio-local/1.2.3?topic=notebooks-markdown-jupyter-cheatsheet)"
   ]
  },
  {
   "cell_type": "markdown",
   "id": "ed7bec8e-68da-4a42-ae1b-e3278a4fa1b8",
   "metadata": {},
   "source": [
    "**Syntax for Defining Functions**\n",
    "\n",
    "**def** function_name(argument1, argument2...):  \n",
    "> transformations! math! magic!  \n",
    "**return** outcome  "
   ]
  },
  {
   "cell_type": "markdown",
   "id": "63dc08d1-95ca-4037-81d1-da467daed6aa",
   "metadata": {},
   "source": [
    "**Print vs Return**\n",
    "\n",
    "The `print` statement displays the final output of a code on the console  \n",
    "The `return` statement returns a final value of a function execution which may be used further in the code"
   ]
  },
  {
   "cell_type": "markdown",
   "id": "afbfab3f-db64-4e67-917e-2497ca2b1196",
   "metadata": {},
   "source": [
    "At first glance the two statements appear similar."
   ]
  },
  {
   "cell_type": "code",
   "execution_count": null,
   "id": "cd1325a2-a213-4868-b42b-4f7017de7892",
   "metadata": {},
   "outputs": [],
   "source": [
    "def print_double_x(x):\n",
    "    print(x * 2)\n",
    "\n",
    "print_double_x(2)"
   ]
  },
  {
   "cell_type": "code",
   "execution_count": null,
   "id": "3d548c51-1754-4a82-939a-b37b1c140dfb",
   "metadata": {},
   "outputs": [],
   "source": [
    "def return_double_x(x):\n",
    "    return(x * 2)\n",
    "\n",
    "return_double_x(2)"
   ]
  },
  {
   "cell_type": "markdown",
   "id": "9d2e3983-f000-43b9-9a19-e189f0baa9a2",
   "metadata": {},
   "source": [
    "The function that results in a print can't be used to create new variables for further calcualtions"
   ]
  },
  {
   "cell_type": "markdown",
   "id": "6f0d57f6-866e-4c9d-9226-b55c0bdb927d",
   "metadata": {},
   "source": [
    "**Print** "
   ]
  },
  {
   "cell_type": "code",
   "execution_count": null,
   "id": "5185f4f1-704d-4086-a89c-04e7d2984acb",
   "metadata": {},
   "outputs": [],
   "source": [
    "print(print_double_x(10) + 10)"
   ]
  },
  {
   "cell_type": "code",
   "execution_count": null,
   "id": "ab9a040d-b9cc-4305-b7b9-0edfe6084158",
   "metadata": {},
   "outputs": [],
   "source": [
    "double_ten = print_double_x(10)\n",
    "print(double_ten * 2)"
   ]
  },
  {
   "cell_type": "markdown",
   "id": "654e8148-4953-42ca-906a-2746a46e2c82",
   "metadata": {},
   "source": [
    "**Return**"
   ]
  },
  {
   "cell_type": "code",
   "execution_count": null,
   "id": "3f28f34e-f7ab-4703-b3f1-38c7d57ee16f",
   "metadata": {},
   "outputs": [],
   "source": [
    "print(return_double_x(10) + 10)"
   ]
  },
  {
   "cell_type": "code",
   "execution_count": null,
   "id": "798ffb07-6f6d-4526-9d6b-2e144f524470",
   "metadata": {},
   "outputs": [],
   "source": [
    "double_ten = return_double_x(10)\n",
    "print(double_ten * 2)"
   ]
  },
  {
   "cell_type": "markdown",
   "id": "6a7238fa-aee6-459e-b04c-69e645423f19",
   "metadata": {},
   "source": [
    "`return` is the preferred method of codifying the outcome of a function in all cases more complex than the single use `print`"
   ]
  },
  {
   "cell_type": "markdown",
   "id": "cb8e42ed-6689-4d1a-948c-1b8486bff3c1",
   "metadata": {},
   "source": [
    "## Scope and Indentation (LEGB Local, Enclosing, Global, Built-In)  \n",
    "\n",
    "<center><img src=\"images/gestalt_art.jpg\" width=500 height=500/>\n",
    "\n",
    "Python indentation is simply adding white spaces in python code in order to set variables, libraries, functions, and reserved words to their corresponding scope in a program"
   ]
  },
  {
   "cell_type": "markdown",
   "id": "4a3d0788-6440-482b-903e-08cd4cb2340c",
   "metadata": {},
   "source": [
    "**Global**  \n",
    "Global (or module) scope is the top-most scope in a Python program, script, or module. This Python scope contains all of the names that you define at the top level of a program or a module. Names in this Python scope are visible and actionable from everywhere in your code."
   ]
  },
  {
   "cell_type": "code",
   "execution_count": 1,
   "id": "dfb00639-4574-49f8-aab5-a36ffba9bb0d",
   "metadata": {},
   "outputs": [
    {
     "name": "stdout",
     "output_type": "stream",
     "text": [
      "The global x variable\n",
      "The global x variable\n"
     ]
    }
   ],
   "source": [
    "x = \"The global x variable\"\n",
    "\n",
    "def newfunc():\n",
    "    return x\n",
    "\n",
    "print(x)\n",
    "print(newfunc())"
   ]
  },
  {
   "cell_type": "markdown",
   "id": "d52b751b-25b7-4740-bf1b-18af92199553",
   "metadata": {},
   "source": [
    "**Local**  \n",
    "Local scope contains the variables that you define inside the function.  \n",
    "These names will only be visible from the code of the function."
   ]
  },
  {
   "cell_type": "code",
   "execution_count": 4,
   "id": "2f2662a4-f201-4478-918e-b90dc51615c8",
   "metadata": {},
   "outputs": [
    {
     "name": "stdout",
     "output_type": "stream",
     "text": [
      "The local x variable\n",
      "The global x variable\n"
     ]
    }
   ],
   "source": [
    "x = \"The global x variable\"\n",
    "\n",
    "def newfunc():\n",
    "    x = \"The local x variable\"\n",
    "    return x\n",
    "\n",
    "\n",
    "print(newfunc())\n",
    "print(x)"
   ]
  },
  {
   "cell_type": "markdown",
   "id": "ce256c78-e3e7-4205-825a-2c9fc497e97b",
   "metadata": {},
   "source": [
    "The `global` keyword allows us to modify the variable outside of the current scope.  \n",
    "It is used to create a global variable and make changes to the variable in a local context."
   ]
  },
  {
   "cell_type": "code",
   "execution_count": 5,
   "id": "93e99fbb-bb5a-4f5f-ae00-9e3aa8629da6",
   "metadata": {},
   "outputs": [
    {
     "name": "stdout",
     "output_type": "stream",
     "text": [
      "The local x variable\n",
      "The local x variable\n"
     ]
    }
   ],
   "source": [
    "x = \"The global x variable\"\n",
    "\n",
    "def newfunc():\n",
    "    global x\n",
    "    x = \"The local x variable\"\n",
    "    return x\n",
    "\n",
    "print(newfunc())\n",
    "print(x)"
   ]
  },
  {
   "cell_type": "markdown",
   "id": "1fbe301b-6503-4063-b153-b8cfdf01d2ca",
   "metadata": {},
   "source": [
    "**Enclosing**  \n",
    "Enclosing or Nonlocal scope refers to the names of a variable defined in the nested function.  \n",
    "These variables are neither present in the local scope nor in the global scope."
   ]
  },
  {
   "cell_type": "code",
   "execution_count": 6,
   "id": "0ddfa8e8-01bd-4911-8e1f-6de259326b30",
   "metadata": {},
   "outputs": [
    {
     "name": "stdout",
     "output_type": "stream",
     "text": [
      "The inner z variable, enclosing scope\n",
      "The outer z variable, local scope\n"
     ]
    }
   ],
   "source": [
    "def outer_function():\n",
    "    z = 'The outer z variable, local scope'\n",
    "    def inner_function():\n",
    "        z = 'The inner z variable, enclosing scope'\n",
    "        print(z)\n",
    "    inner_function()\n",
    "    print(z)\n",
    "    \n",
    "outer_function()"
   ]
  },
  {
   "cell_type": "code",
   "execution_count": 8,
   "id": "404910aa-32f6-4ae8-9251-bcbcf1e8e7b6",
   "metadata": {},
   "outputs": [
    {
     "name": "stdout",
     "output_type": "stream",
     "text": [
      "The outer z variable, local scope\n",
      "The outer z variable, local scope\n"
     ]
    }
   ],
   "source": [
    "def outer_function():\n",
    "    z = 'The outer z variable, local scope'\n",
    "    def inner_function():\n",
    "        #z = 'The inner z variable, enclosing scope'\n",
    "        print(z)\n",
    "    inner_function()\n",
    "    print(z)\n",
    "    \n",
    "outer_function()"
   ]
  },
  {
   "cell_type": "code",
   "execution_count": 9,
   "id": "5f8908b3-16ee-4f9e-ac0c-50273018bcd1",
   "metadata": {},
   "outputs": [
    {
     "name": "stdout",
     "output_type": "stream",
     "text": [
      "The inner z variable, enclosing scope\n"
     ]
    },
    {
     "ename": "NameError",
     "evalue": "name 'z' is not defined",
     "output_type": "error",
     "traceback": [
      "\u001b[0;31m---------------------------------------------------------------------------\u001b[0m",
      "\u001b[0;31mNameError\u001b[0m                                 Traceback (most recent call last)",
      "\u001b[0;32m/var/folders/2v/l_gfsp1112b42dwg2zms_ch00000gn/T/ipykernel_26688/3190428299.py\u001b[0m in \u001b[0;36m<module>\u001b[0;34m\u001b[0m\n\u001b[1;32m      7\u001b[0m     \u001b[0mprint\u001b[0m\u001b[0;34m(\u001b[0m\u001b[0mz\u001b[0m\u001b[0;34m)\u001b[0m\u001b[0;34m\u001b[0m\u001b[0;34m\u001b[0m\u001b[0m\n\u001b[1;32m      8\u001b[0m \u001b[0;34m\u001b[0m\u001b[0m\n\u001b[0;32m----> 9\u001b[0;31m \u001b[0mouter_function\u001b[0m\u001b[0;34m(\u001b[0m\u001b[0;34m)\u001b[0m\u001b[0;34m\u001b[0m\u001b[0;34m\u001b[0m\u001b[0m\n\u001b[0m",
      "\u001b[0;32m/var/folders/2v/l_gfsp1112b42dwg2zms_ch00000gn/T/ipykernel_26688/3190428299.py\u001b[0m in \u001b[0;36mouter_function\u001b[0;34m()\u001b[0m\n\u001b[1;32m      5\u001b[0m         \u001b[0mprint\u001b[0m\u001b[0;34m(\u001b[0m\u001b[0mz\u001b[0m\u001b[0;34m)\u001b[0m\u001b[0;34m\u001b[0m\u001b[0;34m\u001b[0m\u001b[0m\n\u001b[1;32m      6\u001b[0m     \u001b[0minner_function\u001b[0m\u001b[0;34m(\u001b[0m\u001b[0;34m)\u001b[0m\u001b[0;34m\u001b[0m\u001b[0;34m\u001b[0m\u001b[0m\n\u001b[0;32m----> 7\u001b[0;31m     \u001b[0mprint\u001b[0m\u001b[0;34m(\u001b[0m\u001b[0mz\u001b[0m\u001b[0;34m)\u001b[0m\u001b[0;34m\u001b[0m\u001b[0;34m\u001b[0m\u001b[0m\n\u001b[0m\u001b[1;32m      8\u001b[0m \u001b[0;34m\u001b[0m\u001b[0m\n\u001b[1;32m      9\u001b[0m \u001b[0mouter_function\u001b[0m\u001b[0;34m(\u001b[0m\u001b[0;34m)\u001b[0m\u001b[0;34m\u001b[0m\u001b[0;34m\u001b[0m\u001b[0m\n",
      "\u001b[0;31mNameError\u001b[0m: name 'z' is not defined"
     ]
    }
   ],
   "source": [
    "def outer_function():\n",
    "    #z = 'The outer z variable, local scope'\n",
    "    def inner_function():\n",
    "        z = 'The inner z variable, enclosing scope'\n",
    "        print(z)\n",
    "    inner_function()\n",
    "    print(z)\n",
    "    \n",
    "outer_function()"
   ]
  },
  {
   "cell_type": "markdown",
   "id": "61d31b16-7fa5-4839-85a8-9962caa18138",
   "metadata": {},
   "source": [
    "`nonlocal` keyword is used to work with variables inside nested functions, where the variable should not belong to the inner function."
   ]
  },
  {
   "cell_type": "code",
   "execution_count": 10,
   "id": "1b2ac56c-17ae-4a13-ae79-f44e8ef84f88",
   "metadata": {},
   "outputs": [
    {
     "name": "stdout",
     "output_type": "stream",
     "text": [
      "The inner z variable, enclosing scope\n",
      "The inner z variable, enclosing scope\n"
     ]
    }
   ],
   "source": [
    "def outer_function():\n",
    "    z = 'The outer z variable, local scope'\n",
    "    def inner_function():\n",
    "        nonlocal z\n",
    "        z = 'The inner z variable, enclosing scope'\n",
    "        print(z)\n",
    "    inner_function()\n",
    "    print(z)\n",
    "    \n",
    "outer_function()"
   ]
  },
  {
   "cell_type": "markdown",
   "id": "814732b2-15f4-470c-8e62-f293e57236c2",
   "metadata": {},
   "source": [
    "Putting it all together"
   ]
  },
  {
   "cell_type": "code",
   "execution_count": 14,
   "id": "f2172e1a-1a9e-458e-a324-ae24cb65d79e",
   "metadata": {},
   "outputs": [
    {
     "name": "stdout",
     "output_type": "stream",
     "text": [
      "The global z variable\n",
      "The inner z variable, enclosing scope\n",
      "The outer z variable, local scope\n"
     ]
    }
   ],
   "source": [
    "z = \"The global z variable\"\n",
    "\n",
    "def outer_function():\n",
    "    z = 'The outer z variable, local scope'\n",
    "    def inner_function():\n",
    "        z = 'The inner z variable, enclosing scope'\n",
    "        print(z)\n",
    "    inner_function()\n",
    "    print(z)\n",
    "\n",
    "print(z)\n",
    "outer_function()"
   ]
  },
  {
   "cell_type": "markdown",
   "id": "daffd186-dad0-49c3-96b7-6ba2c797024a",
   "metadata": {},
   "source": [
    "**Built in**"
   ]
  },
  {
   "cell_type": "code",
   "execution_count": 15,
   "id": "5327802e-9ea4-492c-a338-df3312b4b6cc",
   "metadata": {},
   "outputs": [],
   "source": [
    "import builtins"
   ]
  },
  {
   "cell_type": "code",
   "execution_count": 16,
   "id": "7f4e7ae0-5c1d-41c0-9cc0-6c5b6c3b14ce",
   "metadata": {},
   "outputs": [
    {
     "name": "stdout",
     "output_type": "stream",
     "text": [
      "['ArithmeticError', 'AssertionError', 'AttributeError', 'BaseException', 'BlockingIOError', 'BrokenPipeError', 'BufferError', 'BytesWarning', 'ChildProcessError', 'ConnectionAbortedError', 'ConnectionError', 'ConnectionRefusedError', 'ConnectionResetError', 'DeprecationWarning', 'EOFError', 'Ellipsis', 'EnvironmentError', 'Exception', 'False', 'FileExistsError', 'FileNotFoundError', 'FloatingPointError', 'FutureWarning', 'GeneratorExit', 'IOError', 'ImportError', 'ImportWarning', 'IndentationError', 'IndexError', 'InterruptedError', 'IsADirectoryError', 'KeyError', 'KeyboardInterrupt', 'LookupError', 'MemoryError', 'ModuleNotFoundError', 'NameError', 'None', 'NotADirectoryError', 'NotImplemented', 'NotImplementedError', 'OSError', 'OverflowError', 'PendingDeprecationWarning', 'PermissionError', 'ProcessLookupError', 'RecursionError', 'ReferenceError', 'ResourceWarning', 'RuntimeError', 'RuntimeWarning', 'StopAsyncIteration', 'StopIteration', 'SyntaxError', 'SyntaxWarning', 'SystemError', 'SystemExit', 'TabError', 'TimeoutError', 'True', 'TypeError', 'UnboundLocalError', 'UnicodeDecodeError', 'UnicodeEncodeError', 'UnicodeError', 'UnicodeTranslateError', 'UnicodeWarning', 'UserWarning', 'ValueError', 'Warning', 'ZeroDivisionError', '__IPYTHON__', '__build_class__', '__debug__', '__doc__', '__import__', '__loader__', '__name__', '__package__', '__spec__', 'abs', 'all', 'any', 'ascii', 'bin', 'bool', 'breakpoint', 'bytearray', 'bytes', 'callable', 'chr', 'classmethod', 'compile', 'complex', 'copyright', 'credits', 'delattr', 'dict', 'dir', 'display', 'divmod', 'enumerate', 'eval', 'exec', 'execfile', 'filter', 'float', 'format', 'frozenset', 'get_ipython', 'getattr', 'globals', 'hasattr', 'hash', 'help', 'hex', 'id', 'input', 'int', 'isinstance', 'issubclass', 'iter', 'len', 'license', 'list', 'locals', 'map', 'max', 'memoryview', 'min', 'next', 'object', 'oct', 'open', 'ord', 'pow', 'print', 'property', 'range', 'repr', 'reversed', 'round', 'runfile', 'set', 'setattr', 'slice', 'sorted', 'staticmethod', 'str', 'sum', 'super', 'tuple', 'type', 'vars', 'zip']\n"
     ]
    }
   ],
   "source": [
    "print(dir(builtins))"
   ]
  },
  {
   "cell_type": "markdown",
   "id": "99991c71-b5fb-4bae-bd55-5cf7bd0b8a5b",
   "metadata": {},
   "source": [
    "**LEGB**, Local, Enclosing, Global, Built-In is is the PEMDAS of python scope. "
   ]
  },
  {
   "cell_type": "markdown",
   "id": "6a00060b-6b27-4d12-a18f-23a4bcc68ab7",
   "metadata": {},
   "source": [
    "# Control Flow\n",
    "\n",
    "Control flow is the order in which the computer executes statements in a script. Code is run in order from the first line in the file to the last line, unless the computer runs across the (extremely frequent) structures that change the control flow, such as **conditionals** and **loops**. Deliberate selection of the order of the execution of statements and the tools used to achieve it is called contol flow."
   ]
  },
  {
   "cell_type": "markdown",
   "id": "4729a41a-859e-4e30-a3fd-a414da75fef3",
   "metadata": {},
   "source": [
    "[Guide to Control Flow with Python](https://docs.python.org/3/tutorial/controlflow.html)"
   ]
  },
  {
   "cell_type": "markdown",
   "id": "8a115ddc-0e0f-4d09-acc5-668279638440",
   "metadata": {},
   "source": [
    "## Condidtionals"
   ]
  },
  {
   "cell_type": "markdown",
   "id": "67eecf2d-456c-4fad-8751-ae86fb817f54",
   "metadata": {},
   "source": [
    "#### Simple if:  \n",
    "**If** statements are control flow statements that run a code when a condition is met.  \n",
    "A simple **if** only has one condition to check.  \n",
    "A simple **if** provdes a determined output when a condition is met and no output when it is not met.  "
   ]
  },
  {
   "cell_type": "markdown",
   "id": "a9a81553-c150-4ce6-842e-f0004bc01ca6",
   "metadata": {},
   "source": [
    "<center><img src=\"images/py_control_flow1.jpeg\" width=300 height=300/>"
   ]
  },
  {
   "cell_type": "code",
   "execution_count": 18,
   "id": "93cbcf12-e941-4592-a289-16ab2566643c",
   "metadata": {},
   "outputs": [],
   "source": [
    "x = 5\n",
    "\n",
    "if x >= 10:\n",
    "    print(\"Big Number\")"
   ]
  },
  {
   "cell_type": "code",
   "execution_count": 21,
   "id": "865ab0a1-2f86-4258-87b7-a794f45f1053",
   "metadata": {},
   "outputs": [
    {
     "name": "stdout",
     "output_type": "stream",
     "text": [
      "Big word\n"
     ]
    }
   ],
   "source": [
    "x = \"Onomatopeia\"\n",
    "\n",
    "if len(x) >= 10:\n",
    "    print(\"Big word\")"
   ]
  },
  {
   "cell_type": "markdown",
   "id": "89667741-0e71-4d9e-87f6-2e9402cc7a5c",
   "metadata": {},
   "source": [
    "**Even basic examples can contain hidden complexity.**   \n",
    "  \n",
    "Be sure to consider:\n",
    "- Scope Indentation\n",
    "- Data Types\n",
    "- Interactions Between functions"
   ]
  },
  {
   "cell_type": "code",
   "execution_count": 25,
   "id": "cd1c5b40-d6fe-4655-93bd-969588676533",
   "metadata": {},
   "outputs": [
    {
     "name": "stdin",
     "output_type": "stream",
     "text": [
      "Enter Number:  8.5\n"
     ]
    }
   ],
   "source": [
    "# n = 10\n",
    "# n = 3\n",
    "# n = input(\"Enter Number: \")\n",
    "# n = int(input(\"Enter Number: \"))\n",
    "n = float(input(\"Enter Number: \"))\n",
    "\n",
    "if n % 2 == 0:\n",
    "    print(\"n is an even number\")"
   ]
  },
  {
   "cell_type": "markdown",
   "id": "31e1d5a2-24a2-4084-9289-13762d7d2553",
   "metadata": {},
   "source": [
    "**Arbitrary Complexity in Logic**"
   ]
  },
  {
   "cell_type": "code",
   "execution_count": 28,
   "id": "0d4e53cb-6c1e-4e5d-9af7-25f38f008a39",
   "metadata": {},
   "outputs": [
    {
     "name": "stdout",
     "output_type": "stream",
     "text": [
      "a floor divided by 3 is more than 20 and b is not on the list and the list is long\n"
     ]
    }
   ],
   "source": [
    "a = 100\n",
    "b = 333\n",
    "lst = [3,100,25,888,1001,2,96,1999]\n",
    "\n",
    "#if a > 10 and b % 2 == 0:\n",
    "#    print(\"a is big and b is even\")\n",
    "\n",
    "#if a > 10 or b % 2 == 0:\n",
    "#    print(\"a is big or b is even\")\n",
    "    \n",
    "if a // 3 > 20 and b not in lst and len(lst) > 3:\n",
    "     print(\"a floor divided by 3 is more than 20 and b is not on the list and the list is long\")"
   ]
  },
  {
   "cell_type": "markdown",
   "id": "13c06442-50cf-4bfe-9228-7e954356d954",
   "metadata": {},
   "source": [
    "**if-else:**  \n",
    "\n",
    "The **if-else** statement evaluates the condition and will execute the body of if, if the test condition is True, but if the condition is False, then the body of else is executed."
   ]
  },
  {
   "cell_type": "markdown",
   "id": "8c1dd169-a599-4f14-9f76-88ec49a40351",
   "metadata": {},
   "source": [
    "<center><img src=\"images/py_control_flow2.jpeg\" width=300 height=300 />"
   ]
  },
  {
   "cell_type": "code",
   "execution_count": 26,
   "id": "0ae77784-e19f-496d-83da-52c4b5c258ed",
   "metadata": {},
   "outputs": [
    {
     "name": "stdout",
     "output_type": "stream",
     "text": [
      "n is odd\n"
     ]
    }
   ],
   "source": [
    "# n = 4\n",
    "n = 3\n",
    "\n",
    "if n % 2 == 0:\n",
    "    print(\"n is even\")\n",
    "else:\n",
    "    print(\"n is odd\")"
   ]
  },
  {
   "cell_type": "markdown",
   "id": "62a2f141-e550-4816-a6e6-3f12ccb5e0ae",
   "metadata": {},
   "source": [
    "**if-elif-else:** \n",
    "\n",
    "The **if-elif-else** structure is used to conditionally execute a statement or a block of statements."
   ]
  },
  {
   "cell_type": "code",
   "execution_count": 27,
   "id": "48444095-0f94-4d61-98bd-e89207f99a7c",
   "metadata": {
    "tags": []
   },
   "outputs": [
    {
     "name": "stdout",
     "output_type": "stream",
     "text": [
      "x is smaller than y\n"
     ]
    }
   ],
   "source": [
    "x = 12\n",
    "y = 213\n",
    "\n",
    "if x == y:\n",
    "    print(\"Both are Equal\")\n",
    "elif x > y:\n",
    "    print(\"x is greater than y\")\n",
    "else: #None of the above\n",
    "    print(\"x is smaller than y\")"
   ]
  },
  {
   "cell_type": "code",
   "execution_count": 28,
   "id": "6bde393f-1576-4580-9237-60989cd77c6d",
   "metadata": {},
   "outputs": [
    {
     "name": "stdout",
     "output_type": "stream",
     "text": [
      "10  >  9\n"
     ]
    }
   ],
   "source": [
    "x, y = 10, 9\n",
    "\n",
    "# use logical operators to control the flow\n",
    "if (x > y):\n",
    "    print(x, \" > \", y)\n",
    "elif (x == y):\n",
    "    print(x, \" equals \", y)\n",
    "else:\n",
    "    print(\"None of the above\")"
   ]
  },
  {
   "cell_type": "code",
   "execution_count": 29,
   "id": "bf3f9b58-229b-452e-bcf9-b6f200ec135c",
   "metadata": {},
   "outputs": [
    {
     "name": "stdin",
     "output_type": "stream",
     "text": [
      "Input body temperature: 98.6\n"
     ]
    }
   ],
   "source": [
    "temp = float(input('Input body temperature:'))"
   ]
  },
  {
   "cell_type": "code",
   "execution_count": 31,
   "id": "ed58e711-8fc1-4a8c-8e3c-e07eb06339a0",
   "metadata": {},
   "outputs": [
    {
     "name": "stdout",
     "output_type": "stream",
     "text": [
      "Normal Temperature\n"
     ]
    }
   ],
   "source": [
    "if temp >= 100.4:               \n",
    "    print('Fever')              \n",
    "elif temp <= 97:\n",
    "    print('Hypothermia')\n",
    "else:\n",
    "    print('Normal Temperature') "
   ]
  },
  {
   "cell_type": "markdown",
   "id": "1637dffc-6ecb-44ba-89f1-82a20ba5e30d",
   "metadata": {},
   "source": [
    "**Nested if** statements are **if** statements that result in other **if** statements when a condition is met. Very useful when making more than one comparison is required."
   ]
  },
  {
   "cell_type": "markdown",
   "id": "424c5625-82f2-437d-9734-3d0974db8d14",
   "metadata": {},
   "source": [
    "<center><img src=\"images/py_control_flow3.jpeg\" width=500 height=500 />"
   ]
  },
  {
   "cell_type": "code",
   "execution_count": 36,
   "id": "7136e4b3-2a88-4b53-9f03-c2964afcec37",
   "metadata": {},
   "outputs": [
    {
     "name": "stdout",
     "output_type": "stream",
     "text": [
      "all are equal\n"
     ]
    }
   ],
   "source": [
    "a = 15\n",
    "b = 15\n",
    "c = 15\n",
    "\n",
    "# Note the indentation on the second if-else block\n",
    "\n",
    "if a > b:  \n",
    "    if a > c:\n",
    "        print(\"a value is biggest\")\n",
    "    else:\n",
    "        print(\"c value is biggest\")\n",
    "elif b > c:\n",
    "    print(\"b value is biggest\")\n",
    "elif c > a and c > b:\n",
    "    print(\"c is biggest\")\n",
    "else:\n",
    "     print(\"all are equal\")"
   ]
  },
  {
   "cell_type": "markdown",
   "id": "2b496904-8aa8-45b1-9ffd-873eccb8f206",
   "metadata": {},
   "source": [
    "## **Challenge 1**"
   ]
  },
  {
   "cell_type": "markdown",
   "id": "ce5fa0ee-69f6-4b75-9e8a-d61c9e2349d7",
   "metadata": {
    "jp-MarkdownHeadingCollapsed": true,
    "tags": []
   },
   "source": [
    "Create a program that processes a checklist for the operation of a car. \n",
    "The checklist should take the following form:   \n",
    "If I turn the ignition and there's gas in the car and the battery is working the car will start.  \n",
    "Make a series of ifs that can fail at each step resulting in the message **\"The car will not start\"**"
   ]
  },
  {
   "cell_type": "code",
   "execution_count": 43,
   "id": "05dc6b54-b41a-460b-94e2-23726f01b2ce",
   "metadata": {},
   "outputs": [
    {
     "name": "stdin",
     "output_type": "stream",
     "text": [
      "Did it work? Yes or No No\n",
      "Is there gas? Yes or No Yes\n",
      "Did it work? Yes or No Yes\n"
     ]
    },
    {
     "name": "stdout",
     "output_type": "stream",
     "text": [
      "The car will not start\n"
     ]
    }
   ],
   "source": [
    "turn_ignition = input(\"Did it work? Yes or No\")\n",
    "gas_in_car =  input(\"Is there gas? Yes or No\")\n",
    "battery_working = input(\"Did it work? Yes or No\")\n",
    "\n",
    "if turn_ignition == \"Yes\" and gas_in_car == \"Yes\" and  battery_working == \"Yes\":\n",
    "    print(\"The car started\")\n",
    "else:\n",
    "    print(\"The car will not start\")"
   ]
  },
  {
   "cell_type": "markdown",
   "id": "c6bc01ed-82d3-4b6c-9fea-46412e830b7d",
   "metadata": {},
   "source": [
    "## **Challenge 2**"
   ]
  },
  {
   "cell_type": "markdown",
   "id": "891770db-416a-4e0c-a11c-9cd17aa79c62",
   "metadata": {},
   "source": [
    "FizzBuzz is a word game designed for children to teach them about division. In the game, each number divisible by three will be returned with a Fizz and any number divisible by four will return a Buzz, if the number is divisble by 3 and 4 return FizzBuzz. This test has very little to do with data analysis, but it can help weed out weaker applicants so it is popular with interviewers."
   ]
  },
  {
   "cell_type": "code",
   "execution_count": null,
   "id": "548570f9-e1df-4f28-b6d5-d13dc2f03c25",
   "metadata": {},
   "outputs": [],
   "source": [
    "x = 10\n",
    "\n",
    "if x % 3 == 0 and x % 4 == 0:\n",
    "    print(\"FizzBuzz\")\n",
    "elif x % 3 == 0:\n",
    "    print(\"Fizz\")\n",
    "elif x % 4 == 0:\n",
    "    print(\"Buzz\")\n",
    "else:\n",
    "    print(\"No Fizz, No Buzz\")"
   ]
  },
  {
   "cell_type": "markdown",
   "id": "19dd73a4-d732-448e-8e4f-3f760df53338",
   "metadata": {},
   "source": [
    "## LOOPS"
   ]
  },
  {
   "cell_type": "markdown",
   "id": "1c8f3546-e8ad-4c0d-8d96-d85f5cd19d8d",
   "metadata": {},
   "source": [
    "A **loop** is a repetition statement is used to repeat a group(block) of programming instructions.  \n",
    "\n",
    "Two common loops in python are the **for loop** and the **while loop**"
   ]
  },
  {
   "cell_type": "markdown",
   "id": "5bf52519-02c4-46d8-8c68-2832f50297be",
   "metadata": {},
   "source": [
    "**FOR LOOP**\n",
    "\n",
    "Used For: **Iteration** and **Repetion**\n",
    "\n",
    "1. Iterate over a sequence that is either a list, tuple, dictionary, or a set. We can execute a set of statements **once for each item** in a list, tuple, or dictionary.\n",
    "2. Repeat code a number of times"
   ]
  },
  {
   "cell_type": "markdown",
   "id": "5ea054aa-3903-4f4e-a6ef-fac8fef6a4a4",
   "metadata": {},
   "source": [
    "<img src=\"images/py_control_flow4.jpeg\" width=500 height=500 />"
   ]
  },
  {
   "cell_type": "markdown",
   "id": "8c347ddc-40be-4241-8a1c-5bd05cfcfeed",
   "metadata": {},
   "source": [
    "**Iteration**\n",
    "\n",
    "Preforming the same action on multiple items."
   ]
  },
  {
   "cell_type": "code",
   "execution_count": 53,
   "id": "b8df23c1-0ccb-4eb3-bb24-c51074ba0a69",
   "metadata": {},
   "outputs": [
    {
     "name": "stdout",
     "output_type": "stream",
     "text": [
      "H\n",
      "a\n",
      "m\n",
      " \n",
      "S\n",
      "a\n",
      "n\n",
      "d\n",
      "w\n",
      "i\n",
      "c\n",
      "h\n"
     ]
    }
   ],
   "source": [
    "for each_letter in \"Ham Sandwich\":   #item i, collection iterated over\n",
    "    print(each_letter)"
   ]
  },
  {
   "cell_type": "code",
   "execution_count": 54,
   "id": "e87fadd7-af49-4a99-81d4-846e7d857e02",
   "metadata": {},
   "outputs": [
    {
     "name": "stdout",
     "output_type": "stream",
     "text": [
      "1\n",
      "1\n",
      "1\n",
      "1\n",
      "1\n",
      "1\n",
      "1\n",
      "1\n",
      "1\n",
      "1\n",
      "1\n",
      "1\n",
      "1\n"
     ]
    }
   ],
   "source": [
    "for each_letter in \"-------------\":   #item i, collection iterated over\n",
    "    print(1)"
   ]
  },
  {
   "cell_type": "code",
   "execution_count": 45,
   "id": "7216b106-9353-4dff-bf83-ed1366fb3aee",
   "metadata": {},
   "outputs": [
    {
     "name": "stdout",
     "output_type": "stream",
     "text": [
      "12\n"
     ]
    }
   ],
   "source": [
    "print(len(\"Ham Sandwich\"))"
   ]
  },
  {
   "cell_type": "markdown",
   "id": "268bbda2-cb66-4a61-b347-cebde46c5918",
   "metadata": {},
   "source": [
    "`range`"
   ]
  },
  {
   "cell_type": "code",
   "execution_count": 64,
   "id": "e8c8601e-acdb-4971-949d-b252627fd54d",
   "metadata": {},
   "outputs": [
    {
     "name": "stdout",
     "output_type": "stream",
     "text": [
      ":) :) :) :) :) :) :) :) :) :) "
     ]
    }
   ],
   "source": [
    "for item in range(1,11):\n",
    "    print(\":)\", end=\" \")"
   ]
  },
  {
   "cell_type": "markdown",
   "id": "d3028b14-7d1a-488e-80af-5bb0e9124fab",
   "metadata": {},
   "source": [
    "By default, the print function ends with a newline. Passing the whitespace to the end parameter `(end=\" \")` indicates that the end character has to be identified by whitespace and not a newline."
   ]
  },
  {
   "cell_type": "code",
   "execution_count": 68,
   "id": "92ff4856-e38b-4446-b6f9-0d6333f29209",
   "metadata": {},
   "outputs": [
    {
     "name": "stdout",
     "output_type": "stream",
     "text": [
      "1 2 3 "
     ]
    }
   ],
   "source": [
    "lst1 = [1,2,3]\n",
    "\n",
    "for num in lst1:\n",
    "    print(num, end =\" \")"
   ]
  },
  {
   "cell_type": "code",
   "execution_count": 66,
   "id": "5ffd77ed-8e11-4de2-8269-54c8ab385bc9",
   "metadata": {},
   "outputs": [
    {
     "name": "stdout",
     "output_type": "stream",
     "text": [
      "1 2 3 "
     ]
    }
   ],
   "source": [
    "tpl = (1,2,3)\n",
    "\n",
    "for num in tpl:\n",
    "    print(num, end = \" \")"
   ]
  },
  {
   "cell_type": "code",
   "execution_count": 69,
   "id": "d7c6ac49-84f6-4072-84bb-ecccbb4da5a0",
   "metadata": {},
   "outputs": [],
   "source": [
    "things_i_own = [\"ratty jacket\", \"nice jacket\", \"xbox\", \"tv\", \"ham sandwich\", \"towel\", \"pillow\", \"boots\", \"table\"]\n",
    "things_i_love = [\"xbox\",\"tv\",\"ratty jacket\",\"ham sandwich\",\"data nalysis\",\"self-righteousness\"]"
   ]
  },
  {
   "cell_type": "code",
   "execution_count": 72,
   "id": "78e3ebe4-cad0-4951-9440-7b209fffb254",
   "metadata": {},
   "outputs": [
    {
     "name": "stdout",
     "output_type": "stream",
     "text": [
      "['ratty jacket', 'xbox', 'tv', 'ham sandwich']\n"
     ]
    }
   ],
   "source": [
    "things_i_own_and_love = []\n",
    "\n",
    "for item in things_i_own:\n",
    "    if item in things_i_love:\n",
    "        things_i_own_and_love.append(item)\n",
    "print(things_i_own_and_love)"
   ]
  },
  {
   "cell_type": "markdown",
   "id": "4bbe2bd4-10dd-4bbd-84fc-4929f4130168",
   "metadata": {},
   "source": [
    "**List comprehension** List comprehension offers a shorter syntax when you want to create a new list based on the values of an existing list.  \n",
    "[Click here to learn more about list comprehensions](https://www.w3schools.com/python/python_lists_comprehension.asp)"
   ]
  },
  {
   "cell_type": "code",
   "execution_count": null,
   "id": "07c488b1-27f6-4830-a368-437df309196a",
   "metadata": {},
   "outputs": [],
   "source": [
    "things_i_own_and_love = [thing for thing in things_i_own if thing in things_i_love]\n",
    "print(things_i_own_and_love)"
   ]
  },
  {
   "cell_type": "code",
   "execution_count": 73,
   "id": "ab8b2d51-c97a-4b7d-a615-98eb54ee505d",
   "metadata": {},
   "outputs": [
    {
     "name": "stdout",
     "output_type": "stream",
     "text": [
      "['2', 3, 5]\n"
     ]
    }
   ],
   "source": [
    "a = [1,\"2\",3,5]\n",
    "b = [\"2\",3,4,5]\n",
    "\n",
    "c = [blah for blah in a if blah in b]\n",
    "print(c)\n",
    "# make a list of blah for each blah in a print a blah from b if it it matches\n",
    "# make a list of blah look for blah in a if it mataches blah in b\n",
    "# 1. list of what? Name the elements you what in new list"
   ]
  },
  {
   "cell_type": "code",
   "execution_count": 74,
   "id": "0a072512-17ca-4686-9462-c800ade16484",
   "metadata": {},
   "outputs": [
    {
     "name": "stdout",
     "output_type": "stream",
     "text": [
      "['apple', 'banana', 'mango']\n"
     ]
    }
   ],
   "source": [
    "fruits = [\"apple\", \"banana\", \"cherry\", \"kiwi\", \"mango\"]\n",
    "newlist = [fruit for fruit in fruits if \"a\" in fruit]\n",
    "\n",
    "print(newlist)"
   ]
  },
  {
   "cell_type": "markdown",
   "id": "9ee0100d-6f3c-4a95-8f77-8122688c3d38",
   "metadata": {},
   "source": [
    "**While loops** are used to execute a block of statements repeatedly until a given condition is satisfied.  \n",
    "Then, the expression is checked again and, if it is still true, the body is executed again.  \n",
    "This continues until the expression becomes false."
   ]
  },
  {
   "cell_type": "markdown",
   "id": "2f9d2a82-7b92-4524-814e-513772ffb847",
   "metadata": {},
   "source": [
    "<center><img src=\"images/py_control_flow5.jpeg\" width=500 height=500 />"
   ]
  },
  {
   "cell_type": "code",
   "execution_count": 75,
   "id": "4a5e24ba-8d11-45f6-a66c-a2c5c6386610",
   "metadata": {},
   "outputs": [
    {
     "name": "stdout",
     "output_type": "stream",
     "text": [
      "0 1 2 3 4 Hello\n"
     ]
    }
   ],
   "source": [
    "m = 5\n",
    "i = 0\n",
    "\n",
    "while i < m:\n",
    "    print(i, end = \" \")\n",
    "    i += 1\n",
    "print(\"Hello\")\n",
    "\n",
    "#1st iteration\n",
    "#0 1 2 3 4 End"
   ]
  },
  {
   "cell_type": "markdown",
   "id": "22199ec2-7427-411a-abcf-eb516265314f",
   "metadata": {},
   "source": [
    "## Combining concepts"
   ]
  },
  {
   "cell_type": "markdown",
   "id": "b108d186-f3fe-4b6e-92f3-94610ca0b87d",
   "metadata": {},
   "source": [
    "`break` allows you to terminate and exit a loop or switch command from any point other than the logical end"
   ]
  },
  {
   "cell_type": "code",
   "execution_count": 80,
   "id": "2062eaa1-fbbe-4048-abbd-5f9bee65f4b1",
   "metadata": {},
   "outputs": [
    {
     "name": "stdout",
     "output_type": "stream",
     "text": [
      "0 1 2 3 4 5 6 7 8 9 10 11 12 "
     ]
    }
   ],
   "source": [
    "for x in range(101):\n",
    "    if x == 13: \n",
    "        break\n",
    "    print(x, end = \" \")"
   ]
  },
  {
   "cell_type": "markdown",
   "id": "9163a1bb-e3dc-4298-bd1a-f0ecffd321f0",
   "metadata": {},
   "source": [
    "**Example:**\n",
    "Snack Machine"
   ]
  },
  {
   "cell_type": "code",
   "execution_count": 84,
   "id": "0fae180b-29b8-4961-89a9-97863aa14af3",
   "metadata": {},
   "outputs": [
    {
     "name": "stdin",
     "output_type": "stream",
     "text": [
      "How many snacks do you want? 6\n"
     ]
    },
    {
     "name": "stdout",
     "output_type": "stream",
     "text": [
      "Snack Purchased\n",
      "Snack Purchased\n",
      "Snack Purchased\n",
      "Snack Purchased\n",
      "Snack Purchased\n",
      "Out of Stock\n",
      "Thank you for your purchase\n"
     ]
    }
   ],
   "source": [
    "x = int(input(\"How many snacks do you want?\"))\n",
    "snacks_in_stock = 5\n",
    "\n",
    "i = 1\n",
    "\n",
    "while i <= x:\n",
    "    if i > snacks_in_stock:\n",
    "        print(\"Out of Stock\")\n",
    "        break\n",
    "    print(\"Snack Purchased\")\n",
    "    i += 1\n",
    "    \n",
    "print(\"Thank you for your purchase\")"
   ]
  },
  {
   "cell_type": "markdown",
   "id": "34f272d8-b793-41d4-8be0-c5e9904e8194",
   "metadata": {},
   "source": [
    "`continue` used to skip the remaining code inside a loop **for the current iteration only**"
   ]
  },
  {
   "cell_type": "code",
   "execution_count": 90,
   "id": "04bbd39b-ee97-458d-9fbf-2b326f010f0c",
   "metadata": {},
   "outputs": [
    {
     "name": "stdout",
     "output_type": "stream",
     "text": [
      "9 Not divisible by 2 without remaider\n",
      "7 Not divisible by 2 without remaider\n",
      "3 Not divisible by 2 without remaider\n"
     ]
    }
   ],
   "source": [
    "lst = [9,4,2,6,7,10,3,8]\n",
    "\n",
    "for val in lst:\n",
    "    if val%2==0: #if the value is even\n",
    "        continue #skip it\n",
    "    print(val, 'Not divisible by 2 without remaider') #print all odd values"
   ]
  },
  {
   "cell_type": "markdown",
   "id": "782aa52b-3cf2-492a-aeaa-5234a600670a",
   "metadata": {},
   "source": [
    "**Example** math"
   ]
  },
  {
   "cell_type": "code",
   "execution_count": 92,
   "id": "63cd7cdf-e8ae-4d71-9efe-86db012b65a3",
   "metadata": {},
   "outputs": [
    {
     "name": "stdout",
     "output_type": "stream",
     "text": [
      "3, 5, 6, 9, 10, 12, 15, 18, 20, 21, 24, 25, 27, 30, 33, 35, 36, 39, 40, 42, 45, 48, 50, 51, 54, 55, 57, 60, 63, 65, 66, 69, 70, 72, 75, 78, 80, 81, 84, 85, 87, 90, 93, 95, 96, 99, 100, are the numbers between 1 and 100 that are not divisible by 3 and 5\n"
     ]
    }
   ],
   "source": [
    "for i in range(1,101):\n",
    "    if i%3!=0 and i% 5 != 0:\n",
    "        continue\n",
    "    print(i, end = \", \")\n",
    "print(\"are the numbers between 1 and 100 that are not divisible by 3 and 5\")"
   ]
  },
  {
   "cell_type": "markdown",
   "id": "8175b4c9-37c6-45ce-929f-a5cbc043a2f4",
   "metadata": {},
   "source": [
    "`pass` tells Python to skip this line and do nothing."
   ]
  },
  {
   "cell_type": "code",
   "execution_count": 98,
   "id": "07708952-7e10-47af-b8e8-a09c635e99b2",
   "metadata": {},
   "outputs": [
    {
     "name": "stdout",
     "output_type": "stream",
     "text": [
      "1 Not divisible by 2\n",
      "3 Not divisible by 2\n",
      "5 Not divisible by 2\n",
      "7 Not divisible by 2\n",
      "9 Not divisible by 2\n"
     ]
    }
   ],
   "source": [
    "for val in range(1,11):\n",
    "    if val%2==0:\n",
    "        pass\n",
    "    else:\n",
    "        print(val, 'Not divisible by 2')"
   ]
  },
  {
   "cell_type": "markdown",
   "id": "773806a6-2c44-4f5a-8c31-9c33a6f68b88",
   "metadata": {},
   "source": [
    "**Nested Loop**"
   ]
  },
  {
   "cell_type": "code",
   "execution_count": 99,
   "id": "072bcc33-b78e-477c-9561-b968b41d443f",
   "metadata": {},
   "outputs": [
    {
     "name": "stdout",
     "output_type": "stream",
     "text": [
      "pappa chair\n",
      "pappa bed\n",
      "pappa porrige\n",
      "momma chair\n",
      "momma bed\n",
      "momma porrige\n",
      "baby chair\n",
      "baby bed\n",
      "baby porrige\n"
     ]
    }
   ],
   "source": [
    "role = [\"pappa\", \"momma\", \"baby\"]\n",
    "stuff = [\"chair\", \"bed\", \"porrige\"]\n",
    "\n",
    "for x in role:\n",
    "    for y in stuff:\n",
    "        print(x, y)"
   ]
  },
  {
   "cell_type": "code",
   "execution_count": 102,
   "id": "690f1b10-a368-4659-ab0d-91b78578ba85",
   "metadata": {},
   "outputs": [
    {
     "name": "stdout",
     "output_type": "stream",
     "text": [
      "3\n"
     ]
    }
   ],
   "source": [
    "x = 1\n",
    "x = x + 1\n",
    "x += 1\n",
    "print(x)"
   ]
  },
  {
   "cell_type": "markdown",
   "id": "047175f0-df60-45a9-b179-d1230f696f3f",
   "metadata": {},
   "source": [
    "## Challenges"
   ]
  },
  {
   "cell_type": "raw",
   "id": "02dde893-c2a4-462a-a901-e6a8b81a8687",
   "metadata": {},
   "source": [
    "1: Print First 10 natural numbers using while loop\n",
    "\n",
    "Expected Output:\n",
    "1\n",
    "2\n",
    "3\n",
    "4\n",
    "5\n",
    "6\n",
    "7\n",
    "8\n",
    "9\n",
    "10"
   ]
  },
  {
   "cell_type": "raw",
   "id": "f3f473bd-36c3-4e30-9078-3b85829cd405",
   "metadata": {},
   "source": [
    "2: Calculate the sum of all numbers from 1 to a given number\n",
    "Write a program to accept a number from a user and calculate the sum of all numbers from 1 to a given number\n",
    "For example, if the user entered 10 the output should be 55 (1+2+3+4+5+6+7+8+9+10)\n",
    "\n",
    "Expected output:\n",
    "55"
   ]
  },
  {
   "cell_type": "raw",
   "id": "26d2354e-be6c-468f-891b-733b04e0fa20",
   "metadata": {},
   "source": [
    "3: Write a program to print multiplication table of a given number\n",
    "For example, num = 2 so the output should be\n",
    "\n",
    "2\n",
    "4\n",
    "6\n",
    "8\n",
    "10\n",
    "12\n",
    "14\n",
    "16\n",
    "18\n",
    "20\n"
   ]
  },
  {
   "cell_type": "raw",
   "id": "519098fb-f826-40dd-8470-48161576b04f",
   "metadata": {},
   "source": [
    "BONUS: Print the following pattern\n",
    "\n",
    "1 \n",
    "1 2 \n",
    "1 2 3 \n",
    "1 2 3 4 \n",
    "1 2 3 4 5"
   ]
  }
 ],
 "metadata": {
  "kernelspec": {
   "display_name": "Python 3 (ipykernel)",
   "language": "python",
   "name": "python3"
  },
  "language_info": {
   "codemirror_mode": {
    "name": "ipython",
    "version": 3
   },
   "file_extension": ".py",
   "mimetype": "text/x-python",
   "name": "python",
   "nbconvert_exporter": "python",
   "pygments_lexer": "ipython3",
   "version": "3.11.3"
  }
 },
 "nbformat": 4,
 "nbformat_minor": 5
}
