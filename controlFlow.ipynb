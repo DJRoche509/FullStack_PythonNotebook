{
 "cells": [
  {
   "cell_type": "markdown",
   "id": "fd42f8dd",
   "metadata": {},
   "source": [
    "## Control Flow  -- Challenge"
   ]
  },
  {
   "cell_type": "markdown",
   "id": "2d57b5a5",
   "metadata": {},
   "source": [
    "### 1. Create an IF code block with the following elements: "
   ]
  },
  {
   "cell_type": "markdown",
   "id": "01d3198b",
   "metadata": {},
   "source": [
    "#### Creating variables & assign values\n",
    "####  Create an if statement: If weevil_a  is less than weevil_b then print \"weevil_a is the lesser of two weevils\". \n",
    "#### Elif' statement for the condition where weevil_b is smaller to print relatively\n",
    "#### 'else' for the condition that they are equal"
   ]
  },
  {
   "cell_type": "code",
   "execution_count": 1,
   "id": "7b604649",
   "metadata": {
    "scrolled": true
   },
   "outputs": [
    {
     "name": "stdout",
     "output_type": "stream",
     "text": [
      "weevil_a is the lesser of two weevils\n"
     ]
    }
   ],
   "source": [
    "weevil_a = 65\n",
    "weevil_b = 150\n",
    "\n",
    "print(\"weevil_a is the lesser of two weevils\" if weevil_a < weevil_b\n",
    "     else (\"weevil_b is the lesser of two weevils\" if weevil_a > weevil_b\n",
    "     else \"weevil_a and weevil_b are equal.\"))\n"
   ]
  },
  {
   "cell_type": "markdown",
   "id": "002a19cd",
   "metadata": {},
   "source": [
    "#### 2. Create a WHILE code block using the AND operator with the following elements:\n",
    "     1. x = 1\n",
    "     2. while x < 25 execute the following logic:\n",
    "     3. print x\n",
    "     4. IF x > 12  AND x < 20, print the statement \"the troubled teen years\". \n",
    "     5.  increment x by 1 "
   ]
  },
  {
   "cell_type": "code",
   "execution_count": 2,
   "id": "0771e0ea",
   "metadata": {},
   "outputs": [
    {
     "name": "stdout",
     "output_type": "stream",
     "text": [
      "x = 1\n",
      "x = 2\n",
      "x = 3\n",
      "x = 4\n",
      "x = 5\n",
      "x = 6\n",
      "x = 7\n",
      "x = 8\n",
      "x = 9\n",
      "x = 10\n",
      "x = 11\n",
      "x = 12\n",
      "the troubled teen years\n",
      "the troubled teen years\n",
      "the troubled teen years\n",
      "the troubled teen years\n",
      "the troubled teen years\n",
      "the troubled teen years\n",
      "the troubled teen years\n",
      "x = 20\n",
      "x = 21\n",
      "x = 22\n",
      "x = 23\n",
      "x = 24\n"
     ]
    }
   ],
   "source": [
    "x =1 \n",
    "while x < 25 :\n",
    "    print('the troubled teen years') if 12 < x < 20 else print('x =',x )\n",
    "    x += 1 \n",
    "    "
   ]
  },
  {
   "cell_type": "markdown",
   "id": "dd4aa93e",
   "metadata": {},
   "source": [
    "#### 3 .Create a FOR loop with the following elements:\n",
    "    Create a list of grocery items (e.g. groceries = ['bread', 'milk', etc...]).\n",
    "    Iterate through the list using a FOR loop and a variable 'item'.\n",
    "    Print \"I forgot the \" and then the item in the list (e.g. \"I forgot the bread\").\n",
    "    add an IF block inside the FOR loop that checks if the item == 'kale' and print \"nobody likes kale, anyway\".\n"
   ]
  },
  {
   "cell_type": "code",
   "execution_count": 3,
   "id": "1a4feebe",
   "metadata": {},
   "outputs": [
    {
     "name": "stdout",
     "output_type": "stream",
     "text": [
      "bread\n",
      "milk\n",
      "mango\n",
      "nobody likes kale, anyway\n",
      "carrot\n",
      "pineapple\n",
      "nobody likes kale, anyway\n"
     ]
    }
   ],
   "source": [
    "groceries = ['bread', 'milk', 'mango', 'kale', 'carrot', 'pineapple', 'kale']\n",
    "for item in groceries:\n",
    "    if item == \"kale\":\n",
    "        print('nobody likes kale, anyway')\n",
    "        continue\n",
    "    print(item)"
   ]
  }
 ],
 "metadata": {
  "kernelspec": {
   "display_name": "Python 3 (ipykernel)",
   "language": "python",
   "name": "python3"
  },
  "language_info": {
   "codemirror_mode": {
    "name": "ipython",
    "version": 3
   },
   "file_extension": ".py",
   "mimetype": "text/x-python",
   "name": "python",
   "nbconvert_exporter": "python",
   "pygments_lexer": "ipython3",
   "version": "3.11.3"
  }
 },
 "nbformat": 4,
 "nbformat_minor": 5
}
