{
 "cells": [
  {
   "cell_type": "markdown",
   "id": "59dcba02",
   "metadata": {},
   "source": [
    "<h1 style=\"text-align:center\">Pandas, Datasets, and DataFrames</h1>"
   ]
  },
  {
   "cell_type": "markdown",
   "id": "e3cf2ae8",
   "metadata": {},
   "source": [
    "## Part 1"
   ]
  },
  {
   "cell_type": "markdown",
   "id": "19755883",
   "metadata": {},
   "source": [
    "#### 1. Import pandas as “pd”."
   ]
  },
  {
   "cell_type": "code",
   "execution_count": 1,
   "id": "bb26f42f",
   "metadata": {},
   "outputs": [],
   "source": [
    "import pandas as pd"
   ]
  },
  {
   "cell_type": "markdown",
   "id": "1875cd45",
   "metadata": {},
   "source": [
    "#### 2. Create three lists with five elements each. The first list should contain employees' first names, the second their last names, and the third should list their ages. You can make up this data."
   ]
  },
  {
   "cell_type": "code",
   "execution_count": 2,
   "id": "db404eae",
   "metadata": {},
   "outputs": [],
   "source": [
    "first_names = ['John', 'Marc', 'Juliette', 'Anthony', 'Stephanie']"
   ]
  },
  {
   "cell_type": "code",
   "execution_count": 3,
   "id": "f69a721f",
   "metadata": {},
   "outputs": [],
   "source": [
    "last_names = ['Doe', 'Baptist', 'Jones', 'Brown', 'Saintus']"
   ]
  },
  {
   "cell_type": "code",
   "execution_count": 4,
   "id": "9cfb7175",
   "metadata": {},
   "outputs": [],
   "source": [
    "ages = [24, 37, 28, 43, 19]"
   ]
  },
  {
   "cell_type": "markdown",
   "id": "e4508b25",
   "metadata": {},
   "source": [
    "#### 3. Create a data dictionary from the three lists. "
   ]
  },
  {
   "cell_type": "code",
   "execution_count": 5,
   "id": "7909c293",
   "metadata": {},
   "outputs": [
    {
     "name": "stdout",
     "output_type": "stream",
     "text": [
      "{'Fist Name': ['John', 'Marc', 'Juliette', 'Anthony', 'Stephanie'], 'Last Name': ['Doe', 'Baptist', 'Jones', 'Brown', 'Saintus'], 'Age': [24, 37, 28, 43, 19]}\n"
     ]
    }
   ],
   "source": [
    "employeesData = {\"Fist Name\": first_names, \n",
    "                 'Last Name': last_names, \n",
    "                  'Age': ages\n",
    "                 }\n",
    "\n",
    "print (employeesData)"
   ]
  },
  {
   "cell_type": "markdown",
   "id": "643b28c9",
   "metadata": {},
   "source": [
    "#### 4. Create a pandas Series from the employee age list."
   ]
  },
  {
   "cell_type": "code",
   "execution_count": 6,
   "id": "47af0877",
   "metadata": {},
   "outputs": [
    {
     "name": "stdout",
     "output_type": "stream",
     "text": [
      "0    24\n",
      "1    37\n",
      "2    28\n",
      "3    43\n",
      "4    19\n",
      "dtype: int64\n"
     ]
    }
   ],
   "source": [
    "age_series = pd.Series(ages)\n",
    "\n",
    "print(age_series)"
   ]
  },
  {
   "cell_type": "markdown",
   "id": "1387a302",
   "metadata": {},
   "source": [
    "#### 5. Determine the average employee age.\n"
   ]
  },
  {
   "cell_type": "code",
   "execution_count": 7,
   "id": "d004d38a",
   "metadata": {},
   "outputs": [],
   "source": [
    "average_age = age_series.mean()"
   ]
  },
  {
   "cell_type": "code",
   "execution_count": 8,
   "id": "bede114e",
   "metadata": {},
   "outputs": [
    {
     "name": "stdout",
     "output_type": "stream",
     "text": [
      "The average employee age is: 30.2\n"
     ]
    }
   ],
   "source": [
    "print('The average employee age is: {}'.format(average_age))"
   ]
  },
  {
   "cell_type": "markdown",
   "id": "b68258b1",
   "metadata": {},
   "source": [
    "#### 6. Write the Series to a CSV file. "
   ]
  },
  {
   "cell_type": "code",
   "execution_count": 9,
   "id": "54bf13a8",
   "metadata": {},
   "outputs": [],
   "source": [
    "age_series.to_csv('Data/age_series.csv')"
   ]
  },
  {
   "cell_type": "markdown",
   "id": "f03b8a54",
   "metadata": {},
   "source": [
    "## Part 2"
   ]
  },
  {
   "cell_type": "markdown",
   "id": "8e296da1",
   "metadata": {},
   "source": [
    "#### 1. Import  \"21st century MLB Batting.csv\"  into Python as a data frame."
   ]
  },
  {
   "cell_type": "code",
   "execution_count": 10,
   "id": "a3247962",
   "metadata": {},
   "outputs": [],
   "source": [
    "df = pd.read_csv('Data/21st century MLB Batting.csv')"
   ]
  },
  {
   "cell_type": "markdown",
   "id": "eeb4b044",
   "metadata": {},
   "source": [
    "#### 2. Print the first five items in the data frame."
   ]
  },
  {
   "cell_type": "code",
   "execution_count": 11,
   "id": "eea71714",
   "metadata": {},
   "outputs": [
    {
     "data": {
      "text/html": [
       "<div>\n",
       "<style scoped>\n",
       "    .dataframe tbody tr th:only-of-type {\n",
       "        vertical-align: middle;\n",
       "    }\n",
       "\n",
       "    .dataframe tbody tr th {\n",
       "        vertical-align: top;\n",
       "    }\n",
       "\n",
       "    .dataframe thead th {\n",
       "        text-align: right;\n",
       "    }\n",
       "</style>\n",
       "<table border=\"1\" class=\"dataframe\">\n",
       "  <thead>\n",
       "    <tr style=\"text-align: right;\">\n",
       "      <th></th>\n",
       "      <th>playerID</th>\n",
       "      <th>yearID</th>\n",
       "      <th>stint</th>\n",
       "      <th>teamID</th>\n",
       "      <th>lgID</th>\n",
       "      <th>G</th>\n",
       "      <th>AB</th>\n",
       "      <th>R</th>\n",
       "      <th>H</th>\n",
       "      <th>2B</th>\n",
       "      <th>3B</th>\n",
       "      <th>HR</th>\n",
       "      <th>RBI</th>\n",
       "      <th>SB</th>\n",
       "      <th>CS</th>\n",
       "      <th>BB</th>\n",
       "      <th>SO</th>\n",
       "    </tr>\n",
       "  </thead>\n",
       "  <tbody>\n",
       "    <tr>\n",
       "      <th>0</th>\n",
       "      <td>abbotje01</td>\n",
       "      <td>2000</td>\n",
       "      <td>1</td>\n",
       "      <td>CHA</td>\n",
       "      <td>AL</td>\n",
       "      <td>80</td>\n",
       "      <td>215</td>\n",
       "      <td>31</td>\n",
       "      <td>59</td>\n",
       "      <td>15</td>\n",
       "      <td>1</td>\n",
       "      <td>3</td>\n",
       "      <td>29</td>\n",
       "      <td>2</td>\n",
       "      <td>1</td>\n",
       "      <td>21</td>\n",
       "      <td>38</td>\n",
       "    </tr>\n",
       "    <tr>\n",
       "      <th>1</th>\n",
       "      <td>abbotku01</td>\n",
       "      <td>2000</td>\n",
       "      <td>1</td>\n",
       "      <td>NYN</td>\n",
       "      <td>NL</td>\n",
       "      <td>79</td>\n",
       "      <td>157</td>\n",
       "      <td>22</td>\n",
       "      <td>34</td>\n",
       "      <td>7</td>\n",
       "      <td>1</td>\n",
       "      <td>6</td>\n",
       "      <td>12</td>\n",
       "      <td>1</td>\n",
       "      <td>1</td>\n",
       "      <td>14</td>\n",
       "      <td>51</td>\n",
       "    </tr>\n",
       "    <tr>\n",
       "      <th>2</th>\n",
       "      <td>abbotpa01</td>\n",
       "      <td>2000</td>\n",
       "      <td>1</td>\n",
       "      <td>SEA</td>\n",
       "      <td>AL</td>\n",
       "      <td>35</td>\n",
       "      <td>5</td>\n",
       "      <td>1</td>\n",
       "      <td>2</td>\n",
       "      <td>1</td>\n",
       "      <td>0</td>\n",
       "      <td>0</td>\n",
       "      <td>0</td>\n",
       "      <td>0</td>\n",
       "      <td>0</td>\n",
       "      <td>0</td>\n",
       "      <td>1</td>\n",
       "    </tr>\n",
       "    <tr>\n",
       "      <th>3</th>\n",
       "      <td>abreubo01</td>\n",
       "      <td>2000</td>\n",
       "      <td>1</td>\n",
       "      <td>PHI</td>\n",
       "      <td>NL</td>\n",
       "      <td>154</td>\n",
       "      <td>576</td>\n",
       "      <td>103</td>\n",
       "      <td>182</td>\n",
       "      <td>42</td>\n",
       "      <td>10</td>\n",
       "      <td>25</td>\n",
       "      <td>79</td>\n",
       "      <td>28</td>\n",
       "      <td>8</td>\n",
       "      <td>100</td>\n",
       "      <td>116</td>\n",
       "    </tr>\n",
       "    <tr>\n",
       "      <th>4</th>\n",
       "      <td>aceveju01</td>\n",
       "      <td>2000</td>\n",
       "      <td>1</td>\n",
       "      <td>MIL</td>\n",
       "      <td>NL</td>\n",
       "      <td>62</td>\n",
       "      <td>1</td>\n",
       "      <td>1</td>\n",
       "      <td>0</td>\n",
       "      <td>0</td>\n",
       "      <td>0</td>\n",
       "      <td>0</td>\n",
       "      <td>0</td>\n",
       "      <td>0</td>\n",
       "      <td>0</td>\n",
       "      <td>1</td>\n",
       "      <td>1</td>\n",
       "    </tr>\n",
       "  </tbody>\n",
       "</table>\n",
       "</div>"
      ],
      "text/plain": [
       "    playerID  yearID  stint teamID lgID    G   AB    R    H  2B  3B  HR  RBI  \\\n",
       "0  abbotje01    2000      1    CHA   AL   80  215   31   59  15   1   3   29   \n",
       "1  abbotku01    2000      1    NYN   NL   79  157   22   34   7   1   6   12   \n",
       "2  abbotpa01    2000      1    SEA   AL   35    5    1    2   1   0   0    0   \n",
       "3  abreubo01    2000      1    PHI   NL  154  576  103  182  42  10  25   79   \n",
       "4  aceveju01    2000      1    MIL   NL   62    1    1    0   0   0   0    0   \n",
       "\n",
       "   SB  CS   BB   SO  \n",
       "0   2   1   21   38  \n",
       "1   1   1   14   51  \n",
       "2   0   0    0    1  \n",
       "3  28   8  100  116  \n",
       "4   0   0    1    1  "
      ]
     },
     "execution_count": 11,
     "metadata": {},
     "output_type": "execute_result"
    }
   ],
   "source": [
    "df.head()"
   ]
  },
  {
   "cell_type": "markdown",
   "id": "1d1f8b50",
   "metadata": {},
   "source": [
    "#### 3. Print the last six items in the data frame."
   ]
  },
  {
   "cell_type": "code",
   "execution_count": 12,
   "id": "3451b8df",
   "metadata": {},
   "outputs": [
    {
     "data": {
      "text/html": [
       "<div>\n",
       "<style scoped>\n",
       "    .dataframe tbody tr th:only-of-type {\n",
       "        vertical-align: middle;\n",
       "    }\n",
       "\n",
       "    .dataframe tbody tr th {\n",
       "        vertical-align: top;\n",
       "    }\n",
       "\n",
       "    .dataframe thead th {\n",
       "        text-align: right;\n",
       "    }\n",
       "</style>\n",
       "<table border=\"1\" class=\"dataframe\">\n",
       "  <thead>\n",
       "    <tr style=\"text-align: right;\">\n",
       "      <th></th>\n",
       "      <th>playerID</th>\n",
       "      <th>yearID</th>\n",
       "      <th>stint</th>\n",
       "      <th>teamID</th>\n",
       "      <th>lgID</th>\n",
       "      <th>G</th>\n",
       "      <th>AB</th>\n",
       "      <th>R</th>\n",
       "      <th>H</th>\n",
       "      <th>2B</th>\n",
       "      <th>3B</th>\n",
       "      <th>HR</th>\n",
       "      <th>RBI</th>\n",
       "      <th>SB</th>\n",
       "      <th>CS</th>\n",
       "      <th>BB</th>\n",
       "      <th>SO</th>\n",
       "    </tr>\n",
       "  </thead>\n",
       "  <tbody>\n",
       "    <tr>\n",
       "      <th>28157</th>\n",
       "      <td>zimmebr01</td>\n",
       "      <td>2019</td>\n",
       "      <td>1</td>\n",
       "      <td>CLE</td>\n",
       "      <td>AL</td>\n",
       "      <td>9</td>\n",
       "      <td>13</td>\n",
       "      <td>1</td>\n",
       "      <td>0</td>\n",
       "      <td>0</td>\n",
       "      <td>0</td>\n",
       "      <td>0</td>\n",
       "      <td>0</td>\n",
       "      <td>0</td>\n",
       "      <td>0</td>\n",
       "      <td>1</td>\n",
       "      <td>7</td>\n",
       "    </tr>\n",
       "    <tr>\n",
       "      <th>28158</th>\n",
       "      <td>zimmejo02</td>\n",
       "      <td>2019</td>\n",
       "      <td>1</td>\n",
       "      <td>DET</td>\n",
       "      <td>AL</td>\n",
       "      <td>23</td>\n",
       "      <td>2</td>\n",
       "      <td>0</td>\n",
       "      <td>0</td>\n",
       "      <td>0</td>\n",
       "      <td>0</td>\n",
       "      <td>0</td>\n",
       "      <td>0</td>\n",
       "      <td>0</td>\n",
       "      <td>0</td>\n",
       "      <td>0</td>\n",
       "      <td>2</td>\n",
       "    </tr>\n",
       "    <tr>\n",
       "      <th>28159</th>\n",
       "      <td>zimmeky01</td>\n",
       "      <td>2019</td>\n",
       "      <td>1</td>\n",
       "      <td>KCA</td>\n",
       "      <td>AL</td>\n",
       "      <td>15</td>\n",
       "      <td>0</td>\n",
       "      <td>0</td>\n",
       "      <td>0</td>\n",
       "      <td>0</td>\n",
       "      <td>0</td>\n",
       "      <td>0</td>\n",
       "      <td>0</td>\n",
       "      <td>0</td>\n",
       "      <td>0</td>\n",
       "      <td>0</td>\n",
       "      <td>0</td>\n",
       "    </tr>\n",
       "    <tr>\n",
       "      <th>28160</th>\n",
       "      <td>zimmery01</td>\n",
       "      <td>2019</td>\n",
       "      <td>1</td>\n",
       "      <td>WAS</td>\n",
       "      <td>NL</td>\n",
       "      <td>52</td>\n",
       "      <td>171</td>\n",
       "      <td>20</td>\n",
       "      <td>44</td>\n",
       "      <td>9</td>\n",
       "      <td>0</td>\n",
       "      <td>6</td>\n",
       "      <td>27</td>\n",
       "      <td>0</td>\n",
       "      <td>0</td>\n",
       "      <td>17</td>\n",
       "      <td>39</td>\n",
       "    </tr>\n",
       "    <tr>\n",
       "      <th>28161</th>\n",
       "      <td>zobribe01</td>\n",
       "      <td>2019</td>\n",
       "      <td>1</td>\n",
       "      <td>CHN</td>\n",
       "      <td>NL</td>\n",
       "      <td>47</td>\n",
       "      <td>150</td>\n",
       "      <td>24</td>\n",
       "      <td>39</td>\n",
       "      <td>5</td>\n",
       "      <td>0</td>\n",
       "      <td>1</td>\n",
       "      <td>17</td>\n",
       "      <td>0</td>\n",
       "      <td>0</td>\n",
       "      <td>23</td>\n",
       "      <td>24</td>\n",
       "    </tr>\n",
       "    <tr>\n",
       "      <th>28162</th>\n",
       "      <td>zuninmi01</td>\n",
       "      <td>2019</td>\n",
       "      <td>1</td>\n",
       "      <td>TBA</td>\n",
       "      <td>AL</td>\n",
       "      <td>90</td>\n",
       "      <td>266</td>\n",
       "      <td>30</td>\n",
       "      <td>44</td>\n",
       "      <td>10</td>\n",
       "      <td>1</td>\n",
       "      <td>9</td>\n",
       "      <td>32</td>\n",
       "      <td>0</td>\n",
       "      <td>0</td>\n",
       "      <td>20</td>\n",
       "      <td>98</td>\n",
       "    </tr>\n",
       "  </tbody>\n",
       "</table>\n",
       "</div>"
      ],
      "text/plain": [
       "        playerID  yearID  stint teamID lgID   G   AB   R   H  2B  3B  HR  RBI  \\\n",
       "28157  zimmebr01    2019      1    CLE   AL   9   13   1   0   0   0   0    0   \n",
       "28158  zimmejo02    2019      1    DET   AL  23    2   0   0   0   0   0    0   \n",
       "28159  zimmeky01    2019      1    KCA   AL  15    0   0   0   0   0   0    0   \n",
       "28160  zimmery01    2019      1    WAS   NL  52  171  20  44   9   0   6   27   \n",
       "28161  zobribe01    2019      1    CHN   NL  47  150  24  39   5   0   1   17   \n",
       "28162  zuninmi01    2019      1    TBA   AL  90  266  30  44  10   1   9   32   \n",
       "\n",
       "       SB  CS  BB  SO  \n",
       "28157   0   0   1   7  \n",
       "28158   0   0   0   2  \n",
       "28159   0   0   0   0  \n",
       "28160   0   0  17  39  \n",
       "28161   0   0  23  24  \n",
       "28162   0   0  20  98  "
      ]
     },
     "execution_count": 12,
     "metadata": {},
     "output_type": "execute_result"
    }
   ],
   "source": [
    "df.tail(6)"
   ]
  },
  {
   "cell_type": "markdown",
   "id": "f27a7f9c",
   "metadata": {},
   "source": [
    "#### 4. Determine the average of the HR column."
   ]
  },
  {
   "cell_type": "code",
   "execution_count": 13,
   "id": "a8871d69",
   "metadata": {},
   "outputs": [
    {
     "name": "stdout",
     "output_type": "stream",
     "text": [
      "The average of the HR column is: 3.695593509214217\n"
     ]
    }
   ],
   "source": [
    "print('The average of the HR column is:', df.HR.mean())"
   ]
  },
  {
   "cell_type": "markdown",
   "id": "d97f6d6c",
   "metadata": {},
   "source": [
    "#### 5. Calculate the max of the SO column."
   ]
  },
  {
   "cell_type": "code",
   "execution_count": 14,
   "id": "9e15bbd3",
   "metadata": {},
   "outputs": [
    {
     "name": "stdout",
     "output_type": "stream",
     "text": [
      "The max of the SO column is: 223\n"
     ]
    }
   ],
   "source": [
    "print('The max of the SO column is:', df['SO'].max())"
   ]
  },
  {
   "cell_type": "markdown",
   "id": "567a3cf6",
   "metadata": {},
   "source": [
    "#### 6. Save the data frame as an Excel file."
   ]
  },
  {
   "cell_type": "code",
   "execution_count": 15,
   "id": "caa38da3",
   "metadata": {},
   "outputs": [],
   "source": [
    "df.to_excel('Data/age_series.xlsx')"
   ]
  },
  {
   "cell_type": "markdown",
   "id": "5c9ca24a",
   "metadata": {},
   "source": [
    "#### 7. Create a subset of the data frame for players with more than 40 HR."
   ]
  },
  {
   "cell_type": "code",
   "execution_count": 16,
   "id": "91cad88a",
   "metadata": {},
   "outputs": [
    {
     "data": {
      "text/html": [
       "<div>\n",
       "<style scoped>\n",
       "    .dataframe tbody tr th:only-of-type {\n",
       "        vertical-align: middle;\n",
       "    }\n",
       "\n",
       "    .dataframe tbody tr th {\n",
       "        vertical-align: top;\n",
       "    }\n",
       "\n",
       "    .dataframe thead th {\n",
       "        text-align: right;\n",
       "    }\n",
       "</style>\n",
       "<table border=\"1\" class=\"dataframe\">\n",
       "  <thead>\n",
       "    <tr style=\"text-align: right;\">\n",
       "      <th></th>\n",
       "      <th>playerID</th>\n",
       "      <th>yearID</th>\n",
       "      <th>stint</th>\n",
       "      <th>teamID</th>\n",
       "      <th>lgID</th>\n",
       "      <th>G</th>\n",
       "      <th>AB</th>\n",
       "      <th>R</th>\n",
       "      <th>H</th>\n",
       "      <th>2B</th>\n",
       "      <th>3B</th>\n",
       "      <th>HR</th>\n",
       "      <th>RBI</th>\n",
       "      <th>SB</th>\n",
       "      <th>CS</th>\n",
       "      <th>BB</th>\n",
       "      <th>SO</th>\n",
       "    </tr>\n",
       "  </thead>\n",
       "  <tbody>\n",
       "    <tr>\n",
       "      <th>0</th>\n",
       "      <td>abbotje01</td>\n",
       "      <td>2000</td>\n",
       "      <td>1</td>\n",
       "      <td>CHA</td>\n",
       "      <td>AL</td>\n",
       "      <td>80</td>\n",
       "      <td>215</td>\n",
       "      <td>31</td>\n",
       "      <td>59</td>\n",
       "      <td>15</td>\n",
       "      <td>1</td>\n",
       "      <td>3</td>\n",
       "      <td>29</td>\n",
       "      <td>2</td>\n",
       "      <td>1</td>\n",
       "      <td>21</td>\n",
       "      <td>38</td>\n",
       "    </tr>\n",
       "    <tr>\n",
       "      <th>1</th>\n",
       "      <td>abbotku01</td>\n",
       "      <td>2000</td>\n",
       "      <td>1</td>\n",
       "      <td>NYN</td>\n",
       "      <td>NL</td>\n",
       "      <td>79</td>\n",
       "      <td>157</td>\n",
       "      <td>22</td>\n",
       "      <td>34</td>\n",
       "      <td>7</td>\n",
       "      <td>1</td>\n",
       "      <td>6</td>\n",
       "      <td>12</td>\n",
       "      <td>1</td>\n",
       "      <td>1</td>\n",
       "      <td>14</td>\n",
       "      <td>51</td>\n",
       "    </tr>\n",
       "    <tr>\n",
       "      <th>2</th>\n",
       "      <td>abbotpa01</td>\n",
       "      <td>2000</td>\n",
       "      <td>1</td>\n",
       "      <td>SEA</td>\n",
       "      <td>AL</td>\n",
       "      <td>35</td>\n",
       "      <td>5</td>\n",
       "      <td>1</td>\n",
       "      <td>2</td>\n",
       "      <td>1</td>\n",
       "      <td>0</td>\n",
       "      <td>0</td>\n",
       "      <td>0</td>\n",
       "      <td>0</td>\n",
       "      <td>0</td>\n",
       "      <td>0</td>\n",
       "      <td>1</td>\n",
       "    </tr>\n",
       "    <tr>\n",
       "      <th>3</th>\n",
       "      <td>abreubo01</td>\n",
       "      <td>2000</td>\n",
       "      <td>1</td>\n",
       "      <td>PHI</td>\n",
       "      <td>NL</td>\n",
       "      <td>154</td>\n",
       "      <td>576</td>\n",
       "      <td>103</td>\n",
       "      <td>182</td>\n",
       "      <td>42</td>\n",
       "      <td>10</td>\n",
       "      <td>25</td>\n",
       "      <td>79</td>\n",
       "      <td>28</td>\n",
       "      <td>8</td>\n",
       "      <td>100</td>\n",
       "      <td>116</td>\n",
       "    </tr>\n",
       "    <tr>\n",
       "      <th>4</th>\n",
       "      <td>aceveju01</td>\n",
       "      <td>2000</td>\n",
       "      <td>1</td>\n",
       "      <td>MIL</td>\n",
       "      <td>NL</td>\n",
       "      <td>62</td>\n",
       "      <td>1</td>\n",
       "      <td>1</td>\n",
       "      <td>0</td>\n",
       "      <td>0</td>\n",
       "      <td>0</td>\n",
       "      <td>0</td>\n",
       "      <td>0</td>\n",
       "      <td>0</td>\n",
       "      <td>0</td>\n",
       "      <td>1</td>\n",
       "      <td>1</td>\n",
       "    </tr>\n",
       "    <tr>\n",
       "      <th>...</th>\n",
       "      <td>...</td>\n",
       "      <td>...</td>\n",
       "      <td>...</td>\n",
       "      <td>...</td>\n",
       "      <td>...</td>\n",
       "      <td>...</td>\n",
       "      <td>...</td>\n",
       "      <td>...</td>\n",
       "      <td>...</td>\n",
       "      <td>...</td>\n",
       "      <td>...</td>\n",
       "      <td>...</td>\n",
       "      <td>...</td>\n",
       "      <td>...</td>\n",
       "      <td>...</td>\n",
       "      <td>...</td>\n",
       "      <td>...</td>\n",
       "    </tr>\n",
       "    <tr>\n",
       "      <th>28158</th>\n",
       "      <td>zimmejo02</td>\n",
       "      <td>2019</td>\n",
       "      <td>1</td>\n",
       "      <td>DET</td>\n",
       "      <td>AL</td>\n",
       "      <td>23</td>\n",
       "      <td>2</td>\n",
       "      <td>0</td>\n",
       "      <td>0</td>\n",
       "      <td>0</td>\n",
       "      <td>0</td>\n",
       "      <td>0</td>\n",
       "      <td>0</td>\n",
       "      <td>0</td>\n",
       "      <td>0</td>\n",
       "      <td>0</td>\n",
       "      <td>2</td>\n",
       "    </tr>\n",
       "    <tr>\n",
       "      <th>28159</th>\n",
       "      <td>zimmeky01</td>\n",
       "      <td>2019</td>\n",
       "      <td>1</td>\n",
       "      <td>KCA</td>\n",
       "      <td>AL</td>\n",
       "      <td>15</td>\n",
       "      <td>0</td>\n",
       "      <td>0</td>\n",
       "      <td>0</td>\n",
       "      <td>0</td>\n",
       "      <td>0</td>\n",
       "      <td>0</td>\n",
       "      <td>0</td>\n",
       "      <td>0</td>\n",
       "      <td>0</td>\n",
       "      <td>0</td>\n",
       "      <td>0</td>\n",
       "    </tr>\n",
       "    <tr>\n",
       "      <th>28160</th>\n",
       "      <td>zimmery01</td>\n",
       "      <td>2019</td>\n",
       "      <td>1</td>\n",
       "      <td>WAS</td>\n",
       "      <td>NL</td>\n",
       "      <td>52</td>\n",
       "      <td>171</td>\n",
       "      <td>20</td>\n",
       "      <td>44</td>\n",
       "      <td>9</td>\n",
       "      <td>0</td>\n",
       "      <td>6</td>\n",
       "      <td>27</td>\n",
       "      <td>0</td>\n",
       "      <td>0</td>\n",
       "      <td>17</td>\n",
       "      <td>39</td>\n",
       "    </tr>\n",
       "    <tr>\n",
       "      <th>28161</th>\n",
       "      <td>zobribe01</td>\n",
       "      <td>2019</td>\n",
       "      <td>1</td>\n",
       "      <td>CHN</td>\n",
       "      <td>NL</td>\n",
       "      <td>47</td>\n",
       "      <td>150</td>\n",
       "      <td>24</td>\n",
       "      <td>39</td>\n",
       "      <td>5</td>\n",
       "      <td>0</td>\n",
       "      <td>1</td>\n",
       "      <td>17</td>\n",
       "      <td>0</td>\n",
       "      <td>0</td>\n",
       "      <td>23</td>\n",
       "      <td>24</td>\n",
       "    </tr>\n",
       "    <tr>\n",
       "      <th>28162</th>\n",
       "      <td>zuninmi01</td>\n",
       "      <td>2019</td>\n",
       "      <td>1</td>\n",
       "      <td>TBA</td>\n",
       "      <td>AL</td>\n",
       "      <td>90</td>\n",
       "      <td>266</td>\n",
       "      <td>30</td>\n",
       "      <td>44</td>\n",
       "      <td>10</td>\n",
       "      <td>1</td>\n",
       "      <td>9</td>\n",
       "      <td>32</td>\n",
       "      <td>0</td>\n",
       "      <td>0</td>\n",
       "      <td>20</td>\n",
       "      <td>98</td>\n",
       "    </tr>\n",
       "  </tbody>\n",
       "</table>\n",
       "<p>28163 rows × 17 columns</p>\n",
       "</div>"
      ],
      "text/plain": [
       "        playerID  yearID  stint teamID lgID    G   AB    R    H  2B  3B  HR  \\\n",
       "0      abbotje01    2000      1    CHA   AL   80  215   31   59  15   1   3   \n",
       "1      abbotku01    2000      1    NYN   NL   79  157   22   34   7   1   6   \n",
       "2      abbotpa01    2000      1    SEA   AL   35    5    1    2   1   0   0   \n",
       "3      abreubo01    2000      1    PHI   NL  154  576  103  182  42  10  25   \n",
       "4      aceveju01    2000      1    MIL   NL   62    1    1    0   0   0   0   \n",
       "...          ...     ...    ...    ...  ...  ...  ...  ...  ...  ..  ..  ..   \n",
       "28158  zimmejo02    2019      1    DET   AL   23    2    0    0   0   0   0   \n",
       "28159  zimmeky01    2019      1    KCA   AL   15    0    0    0   0   0   0   \n",
       "28160  zimmery01    2019      1    WAS   NL   52  171   20   44   9   0   6   \n",
       "28161  zobribe01    2019      1    CHN   NL   47  150   24   39   5   0   1   \n",
       "28162  zuninmi01    2019      1    TBA   AL   90  266   30   44  10   1   9   \n",
       "\n",
       "       RBI  SB  CS   BB   SO  \n",
       "0       29   2   1   21   38  \n",
       "1       12   1   1   14   51  \n",
       "2        0   0   0    0    1  \n",
       "3       79  28   8  100  116  \n",
       "4        0   0   0    1    1  \n",
       "...    ...  ..  ..  ...  ...  \n",
       "28158    0   0   0    0    2  \n",
       "28159    0   0   0    0    0  \n",
       "28160   27   0   0   17   39  \n",
       "28161   17   0   0   23   24  \n",
       "28162   32   0   0   20   98  \n",
       "\n",
       "[28163 rows x 17 columns]"
      ]
     },
     "execution_count": 16,
     "metadata": {},
     "output_type": "execute_result"
    }
   ],
   "source": [
    "df_grouped = df\n",
    "df_grouped"
   ]
  },
  {
   "cell_type": "code",
   "execution_count": 17,
   "id": "864adaa6",
   "metadata": {},
   "outputs": [
    {
     "name": "stdout",
     "output_type": "stream",
     "text": [
      "      playerID   HR\n",
      "0    abreubo01  248\n",
      "1    abreujo02  179\n",
      "2    ackledu01   46\n",
      "3    acunaro01   67\n",
      "4    adamsma01  116\n",
      "..         ...  ...\n",
      "681   zaungr01   75\n",
      "682  zeileto01   70\n",
      "683  zimmery01  270\n",
      "684  zobribe01  167\n",
      "685  zuninmi01  104\n",
      "\n",
      "[686 rows x 2 columns]\n"
     ]
    }
   ],
   "source": [
    "# Grouping by 'playerID' and summing the 'HR' column\n",
    "df_grouped = df.groupby('playerID')[['HR']].sum()\n",
    "\n",
    "# Creating the subset with players having more than 40 HR\n",
    "df_sub40 = df_grouped[df_grouped['HR']>40].reset_index()\n",
    "\n",
    "print(df_sub40)"
   ]
  },
  {
   "cell_type": "markdown",
   "id": "fcb5888a",
   "metadata": {},
   "source": [
    "#### 8. Save this new subset as a json file."
   ]
  },
  {
   "cell_type": "code",
   "execution_count": 18,
   "id": "e0fa564a",
   "metadata": {},
   "outputs": [],
   "source": [
    "df_sub40.to_json('Data/21st century MLB Batting.json', orient='records')  \n",
    "# The orient='records' argument specifies the format of the JSON file. 'records' format will save each row of the DataFrame as a separate JSON object."
   ]
  }
 ],
 "metadata": {
  "kernelspec": {
   "display_name": "Python 3 (ipykernel)",
   "language": "python",
   "name": "python3"
  },
  "language_info": {
   "codemirror_mode": {
    "name": "ipython",
    "version": 3
   },
   "file_extension": ".py",
   "mimetype": "text/x-python",
   "name": "python",
   "nbconvert_exporter": "python",
   "pygments_lexer": "ipython3",
   "version": "3.11.3"
  }
 },
 "nbformat": 4,
 "nbformat_minor": 5
}
