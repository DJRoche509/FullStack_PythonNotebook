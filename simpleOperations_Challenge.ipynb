{
 "cells": [
  {
   "cell_type": "markdown",
   "id": "75c968bd",
   "metadata": {},
   "source": [
    "<h1 style=\"text-align:center\"> <span style=\"color:blue\"> Simple</span> <span style=\"color:purple\"> Operations</span></h1>"
   ]
  },
  {
   "cell_type": "markdown",
   "id": "8904dc64",
   "metadata": {},
   "source": [
    "### 1. Print your full name in markdown text as the first line"
   ]
  },
  {
   "cell_type": "markdown",
   "id": "8f96434d",
   "metadata": {},
   "source": [
    "#### Name: Junior David Roche"
   ]
  },
  {
   "cell_type": "markdown",
   "id": "f1632218",
   "metadata": {},
   "source": [
    "### 2. Calculate the area of the geometric figures. (See the formulas.) Option to use an input function. "
   ]
  },
  {
   "cell_type": "markdown",
   "id": "78bb6140",
   "metadata": {},
   "source": [
    "    1. Square"
   ]
  },
  {
   "cell_type": "code",
   "execution_count": null,
   "id": "36d02e08",
   "metadata": {},
   "outputs": [],
   "source": [
    "sqInput = int(input('Enter the value to calculate: '))\n",
    "sqArea = lambda a: a**2\n",
    "print ('The area of', sqInput, 'is: ', sqArea(sqInput), 'square figure.'  )"
   ]
  },
  {
   "cell_type": "markdown",
   "id": "8365144e",
   "metadata": {},
   "source": [
    "    2. Rectangle"
   ]
  },
  {
   "cell_type": "code",
   "execution_count": null,
   "id": "9b9b9ea6",
   "metadata": {},
   "outputs": [],
   "source": [
    "lenInp = int(input('Enter the lenght of the rectangle: '))\n",
    "heightInp = int(input('Enter the height of the rectangle: '))\n",
    "rectArea = lambda a,b: a*b\n",
    "print ('The rectangle area of height', heightInp, 'and legth', lenInp, 'is: ', rectArea(lenInp,heightInp), 'square figure.'  )"
   ]
  },
  {
   "cell_type": "markdown",
   "id": "97bb04a2",
   "metadata": {},
   "source": [
    "    3. Triangle"
   ]
  },
  {
   "cell_type": "code",
   "execution_count": null,
   "id": "a808ffc9",
   "metadata": {},
   "outputs": [],
   "source": [
    "triLen = int(input('Enter the base of the triangle: '))\n",
    "triHeight = int(input('Enter the height of the triangle: '))\n",
    "triArea = lambda a,b: .5*a*b\n",
    "print ('The triangle area of height', triHeight, 'and base', triLen, 'is: ', triArea(triLen,triHeight), 'square figure.'  )"
   ]
  },
  {
   "cell_type": "markdown",
   "id": "7ba3c00f",
   "metadata": {},
   "source": [
    "    4. Ellipse"
   ]
  },
  {
   "cell_type": "code",
   "execution_count": null,
   "id": "5a881b6e",
   "metadata": {},
   "outputs": [],
   "source": [
    "from math import pi as p\n",
    "\n",
    "ellipLen = int(input('Enter the transvere-axis dimension : '))\n",
    "ellipHeight = int(input('Enter the conjugate-axis dimension '))\n",
    "ellipArea = lambda a,b: round(p*a*b, 3)\n",
    "print ('The ellipse area with transvers axis', ellipHeight, 'and conjugate axis', ellipLen, 'is:', (ellipArea(ellipLen,ellipHeight)), 'square figure.'  )"
   ]
  },
  {
   "cell_type": "markdown",
   "id": "b486ca5b",
   "metadata": {},
   "source": [
    "    5. Trapezoid"
   ]
  },
  {
   "cell_type": "code",
   "execution_count": null,
   "id": "66ee7073",
   "metadata": {},
   "outputs": [],
   "source": [
    "trapBase1 = int(input('Enter the first base dimension of the trapezoid: '))\n",
    "trapBase2 = int(input('Enter the second base dimension of the trapezoid: '))\n",
    "trapHeight = int(input('Enter the height of the trapezoid: '))\n",
    "trapArea = lambda a,b,c: (a+b)*c/2\n",
    "print ('The trapezoid area of height', trapHeight, ', base1', trapBase1,'and base2', trapBase2, 'is: ', trapArea(trapBase1,trapBase2,trapHeight), 'square figure.'  )"
   ]
  },
  {
   "cell_type": "markdown",
   "id": "ac9be0a4",
   "metadata": {},
   "source": [
    "### 3. Create a variable called ‘angle’ and assign it a value of 45."
   ]
  },
  {
   "cell_type": "code",
   "execution_count": null,
   "id": "4488a657",
   "metadata": {},
   "outputs": [],
   "source": [
    "angle = 45  # Angle in degrees"
   ]
  },
  {
   "cell_type": "markdown",
   "id": "10e45e9c",
   "metadata": {},
   "source": [
    "### 4. Create a variable called ‘rad_angle’ and use a math function to determine what 45 degrees is in radians."
   ]
  },
  {
   "cell_type": "code",
   "execution_count": null,
   "id": "a2cbfc88",
   "metadata": {},
   "outputs": [],
   "source": [
    "import math\n",
    "\n",
    "rad_angle = angle * math.pi / 180\n",
    "print(angle,'degrees is equate to', round(rad_angle, 4), 'radians')"
   ]
  },
  {
   "cell_type": "markdown",
   "id": "1a3f7871",
   "metadata": {},
   "source": [
    "### 5. Calculate the sine of rad_angle"
   ]
  },
  {
   "cell_type": "code",
   "execution_count": null,
   "id": "22f44ae8",
   "metadata": {},
   "outputs": [],
   "source": [
    "print('The sine of', round(rad_angle, 4), 'radians is', round(math.sin(rad_angle),4))"
   ]
  },
  {
   "cell_type": "markdown",
   "id": "795ad639",
   "metadata": {},
   "source": [
    "### 6. Calculate the cosine of rad_angle"
   ]
  },
  {
   "cell_type": "code",
   "execution_count": null,
   "id": "b4a06b9f",
   "metadata": {},
   "outputs": [],
   "source": [
    "print('The cosine of', round(rad_angle, 4), 'radians is', round(math.cos(rad_angle),4))"
   ]
  },
  {
   "cell_type": "markdown",
   "id": "95fca026",
   "metadata": {},
   "source": [
    "### 7. Calculate the square root of 256"
   ]
  },
  {
   "cell_type": "code",
   "execution_count": null,
   "id": "ae86c54f",
   "metadata": {},
   "outputs": [],
   "source": [
    "print('The square root of', 256, 'is', math.sqrt(256))"
   ]
  },
  {
   "cell_type": "markdown",
   "id": "710b62ea",
   "metadata": {},
   "source": [
    "### 8. Calculate 4 raised to the 5th power"
   ]
  },
  {
   "cell_type": "code",
   "execution_count": null,
   "id": "c0dc3931",
   "metadata": {},
   "outputs": [],
   "source": [
    "print(4, 'raised to the 5th power is equal to', math.pow(4,5))"
   ]
  }
 ],
 "metadata": {
  "kernelspec": {
   "display_name": "Python 3 (ipykernel)",
   "language": "python",
   "name": "python3"
  },
  "language_info": {
   "codemirror_mode": {
    "name": "ipython",
    "version": 3
   },
   "file_extension": ".py",
   "mimetype": "text/x-python",
   "name": "python",
   "nbconvert_exporter": "python",
   "pygments_lexer": "ipython3",
   "version": "3.11.3"
  }
 },
 "nbformat": 4,
 "nbformat_minor": 5
}
