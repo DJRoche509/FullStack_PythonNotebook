{
 "cells": [
  {
   "cell_type": "markdown",
   "id": "967cc1a5",
   "metadata": {},
   "source": [
    " #    Python and the Holy Grail"
   ]
  },
  {
   "cell_type": "markdown",
   "id": "2f58a6c0",
   "metadata": {},
   "source": [
    "###  We seek the Grail! "
   ]
  },
  {
   "cell_type": "markdown",
   "id": "8b79f5fa",
   "metadata": {},
   "source": [
    "The first gatekeeper you encounter is Gimli the Frugal.  He has just returned from the store where he purchased 12 items.   There was supposed to be a 15% discount, but Gimli worries that he spent too much.  \n",
    "\n",
    "The items he purchased cost: \n",
    "[32, 52, 16, 26, 61, 19, 33, 53, 23, 6, 68, 82]\n",
    "\n",
    "With his 15% discount, what total should he have paid for all the items?"
   ]
  },
  {
   "cell_type": "code",
   "execution_count": 30,
   "id": "05d5d197",
   "metadata": {},
   "outputs": [
    {
     "name": "stdout",
     "output_type": "stream",
     "text": [
      "400.35\n"
     ]
    }
   ],
   "source": [
    "itemsPurchased = [32, 52, 16, 26, 61, 19, 33, 53, 23, 6, 68, 82]\n",
    "rate = .15\n",
    "print(round(sum(itemsPurchased)*(1-rate), 2))"
   ]
  },
  {
   "cell_type": "markdown",
   "id": "6b373f52",
   "metadata": {},
   "source": [
    "### Gimli the Grateful thanks you!  On to the next challenge"
   ]
  },
  {
   "cell_type": "markdown",
   "id": "df4e1ad4",
   "metadata": {},
   "source": [
    "\n",
    "You next encounter a troll who asks you to help him answer a riddle before you can continue to a bridge.   He says that every visitor answers three questions before they cross the bridge, and their answers are stored in a Python dictionary.  \n",
    "\n",
    "visitor_info = {\n",
    "\n",
    "    \"name\": \"Sir Lancelot\",\n",
    "    \"quest\": \"To seek the Holy Grail\",\n",
    "    \"favorite_color\": \"Blue\"\n",
    "}\n",
    "\n",
    "The troll doesn't know how to retrieve information from the dictionary.  Can you help him find Sir Lancelot's favorite color?  "
   ]
  },
  {
   "cell_type": "code",
   "execution_count": 26,
   "id": "48969fb0",
   "metadata": {},
   "outputs": [
    {
     "name": "stdout",
     "output_type": "stream",
     "text": [
      "Blue\n"
     ]
    }
   ],
   "source": [
    "visitor_info = {\n",
    "\n",
    "\"name\": \"Sir Lancelot\",\n",
    "\"quest\": \"To seek the Holy Grail\",\n",
    "\"favorite_color\": \"Blue\"\n",
    "}\n",
    "\n",
    "print (visitor_info['favorite_color'])"
   ]
  },
  {
   "cell_type": "markdown",
   "id": "30f0c6f5",
   "metadata": {},
   "source": [
    "### Excellent! On to the bridge!"
   ]
  },
  {
   "cell_type": "markdown",
   "id": "d36d7249",
   "metadata": {},
   "source": [
    "At the bridge you are approached by an elderly man scribbling numbers on a pad of paper.   He asks if you can help him.   \n",
    "\"I have 11 carriages that must cross a bridge.  The carriages weigh 825 pounds each.  The bridge can only hold 3000 pounds.  \n",
    "How many carriages can cross the bridge at one time?\"\n",
    "\n",
    "If it takes a carriage 5 minutes to cross, how long will it take 11 carriages to cross the bridge?\" "
   ]
  },
  {
   "cell_type": "code",
   "execution_count": 24,
   "id": "897113f1",
   "metadata": {},
   "outputs": [
    {
     "name": "stdout",
     "output_type": "stream",
     "text": [
      "3 can cross the bridge at once.\n",
      "\n",
      "It will take 20 minutes for 11 carriages to cross the bridge\n"
     ]
    }
   ],
   "source": [
    "carriagesNum = 11\n",
    "weigh = 825\n",
    "bridgeMax = 3000\n",
    "print(bridgeMax//weigh , 'can cross the bridge at once.')\n",
    "\n",
    "time = 5 # in minutes\n",
    "\n",
    "# Display time it will take for 11 carriages to cross the bridge.\n",
    "print('\\nIt will take {} minutes for {} carriages to cross the bridge'.format(round(carriagesNum/(bridgeMax//weigh))* time,carriagesNum))"
   ]
  },
  {
   "cell_type": "markdown",
   "id": "068d450c",
   "metadata": {},
   "source": [
    "### Enter if you dare\n",
    "An old man stands before a heavy door holding in one hand two keys, one gold and one silver. The door has two locks and the man mutters as if with two voices at once with every <strong>odd word</strong> sounding in one voice and every <strong>even word</strong>  sounding in another:\n",
    "\n",
    "\"The to memory obtain and something the something senses of are equal but value the must nourishment be of given creation\"\n",
    "\n",
    "You quickly understand that you will have to disentangle his words and provide to him two passwords to pass on ahead.\n",
    "\n",
    "What is the first passphrase? \n",
    "What is the second passphrase? \n"
   ]
  },
  {
   "cell_type": "code",
   "execution_count": 8,
   "id": "99be98f7",
   "metadata": {},
   "outputs": [
    {
     "name": "stdout",
     "output_type": "stream",
     "text": [
      "First passphrase: The memory and the senses are but the nourishment of creation\n",
      "Second passphrase: to obtain something something of equal value must be given\n"
     ]
    }
   ],
   "source": [
    "riddle = \"The to memory obtain and something the something senses of are equal but value the must nourishment be of given creation\"\n",
    "\n",
    "# Split the riddle text into individual words\n",
    "words = riddle.split()\n",
    "\n",
    "# Create two empty lists to hold the words spoken by each \"voice\"\n",
    "voice1, voice2= [], []\n",
    "\n",
    "# Iterate through the words and assign them to one of the lists based on whether they are odd or even\n",
    "for i, word in enumerate(words):\n",
    "    voice1.append(word)    if     i % 2 == 0    else    voice2.append(word)\n",
    "\n",
    "# Join the words in each list to form the two passphrases\n",
    "passphrase1 = ' '.join(voice1)\n",
    "passphrase2 = ' '.join(voice2)\n",
    "\n",
    "print(\"First passphrase:\", passphrase1)\n",
    "print(\"Second passphrase:\", passphrase2)"
   ]
  },
  {
   "cell_type": "markdown",
   "id": "b04a52f9",
   "metadata": {},
   "source": [
    "### Holy Grail\n",
    "In the castle you find the queen fussing with a large, iron safe.   You tell her that you seek the Grail.   She says she'd happily give it to you, but it's in the safe and she's forgotten the combination.    \n",
    "\"I remember that there were 3 digits in the combination.  The sum of the digits is 7 and the product of all the digits is 8.   Also,  the second digit is larger than the first, and the third digit is larger than the second. \n",
    "You realize that you can use a loop to try out all of the combinations."
   ]
  },
  {
   "cell_type": "markdown",
   "id": "7490844e",
   "metadata": {},
   "source": [
    "#### Considering we have a matrix of the set: i,j,k\n",
    "    i = [1 2 3 4 5 6 7]\n",
    "    j = [1 2 3 4 5 6 7]\n",
    "    k = [1 2 3 4 5 6 7]"
   ]
  },
  {
   "cell_type": "code",
   "execution_count": 31,
   "id": "b60b7a54",
   "metadata": {},
   "outputs": [
    {
     "name": "stdout",
     "output_type": "stream",
     "text": [
      "The combination is: 124\n"
     ]
    }
   ],
   "source": [
    "# Implement\n",
    "def findNumCombination(sumNum):\n",
    "    for i in range (1, sumNum+1):\n",
    "        for j in range (i+1, sumNum+1):\n",
    "            for k in range (j+1, sumNum+2):\n",
    "                # Set verification the conditions, including secDigit > firstDigit && 3rdDigit > secDigit\n",
    "                if i + j + k == 7 and i * j * k == 8 and k>j>i:\n",
    "                    return \"The combination is: {}{}{}\".format(i,j,k)\n",
    "\n",
    "\n",
    "                   \n",
    "print(findNumCombination(7))"
   ]
  }
 ],
 "metadata": {
  "kernelspec": {
   "display_name": "Python 3 (ipykernel)",
   "language": "python",
   "name": "python3"
  },
  "language_info": {
   "codemirror_mode": {
    "name": "ipython",
    "version": 3
   },
   "file_extension": ".py",
   "mimetype": "text/x-python",
   "name": "python",
   "nbconvert_exporter": "python",
   "pygments_lexer": "ipython3",
   "version": "3.11.3"
  }
 },
 "nbformat": 4,
 "nbformat_minor": 5
}
