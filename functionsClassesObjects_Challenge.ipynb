{
 "cells": [
  {
   "cell_type": "markdown",
   "id": "7f4316eb",
   "metadata": {},
   "source": [
    "# &nbsp; &nbsp; &nbsp; &nbsp; &nbsp; &nbsp; &nbsp; &nbsp;<span style=\"color:blue\"> Functions</span>, <span style=\"color:purple\">Classes</span>, and <span style=\"color:red\"> Objects</span>"
   ]
  },
  {
   "cell_type": "markdown",
   "id": "40fc15e8",
   "metadata": {},
   "source": [
    "### 1. Create a function that takes the height of a building (in feet) and returns how many stories (floors).  The math is stories=height//10"
   ]
  },
  {
   "cell_type": "code",
   "execution_count": null,
   "id": "2beda4d0",
   "metadata": {},
   "outputs": [],
   "source": [
    "def buildingHeight(height):\n",
    "    stories = height // 10\n",
    "    return stories"
   ]
  },
  {
   "cell_type": "markdown",
   "id": "b7288978",
   "metadata": {},
   "source": [
    "### 2. Use the function to calculate how many stories are in a 259 foot building"
   ]
  },
  {
   "cell_type": "code",
   "execution_count": null,
   "id": "7a441cc5",
   "metadata": {},
   "outputs": [],
   "source": [
    "builduing259 = buildingHeight(259)\n",
    "print(\"There are \"+ str(builduing259) + \" stories in a 259 foot building\")"
   ]
  },
  {
   "cell_type": "markdown",
   "id": "4c8611bc",
   "metadata": {},
   "source": [
    "### 3. Create a lambda function that takes one parameter (a) and returns a\\*a\\*a."
   ]
  },
  {
   "cell_type": "code",
   "execution_count": null,
   "id": "f67c8063",
   "metadata": {},
   "outputs": [],
   "source": [
    "x  = lambda a: a*a*a\n",
    "print(x(3))"
   ]
  },
  {
   "cell_type": "markdown",
   "id": "722fc02f",
   "metadata": {},
   "source": [
    "### 4. Create a list of numbers called 'numbers', then use the map function with your lambda function to create a new list called 'cubes'"
   ]
  },
  {
   "cell_type": "code",
   "execution_count": null,
   "id": "5aad8be4",
   "metadata": {},
   "outputs": [],
   "source": [
    "numbers = [2,5,7,4,6,9,3,8]\n",
    "\n",
    "cubers = list (map(lambda z: z**3, numbers))\n",
    "\n",
    "print(cubers)"
   ]
  },
  {
   "cell_type": "markdown",
   "id": "53b58091",
   "metadata": {},
   "source": [
    "### 3. Create a class called house and give it an attribute num_bedrooms.\n",
    "    Give the class a method called how_many_bedrooms()\n",
    "    Create an instantiation (object) of house called my_house with 2 bedrooms.\n",
    "    Ask the my_house object how many bedrooms it has."
   ]
  },
  {
   "cell_type": "code",
   "execution_count": null,
   "id": "1e4efab9",
   "metadata": {},
   "outputs": [],
   "source": [
    "class House:\n",
    "    def __init__(self, num_bedrooms):\n",
    "        self.num_bedrooms = num_bedrooms\n",
    "        \n",
    "    def how_many_bedrooms(self):\n",
    "        return 'My house has {} bedrooms.'.format(self.num_bedrooms)\n",
    "    \n",
    "my_house = House(2)\n",
    "print(my_house.how_many_bedrooms())"
   ]
  },
  {
   "cell_type": "markdown",
   "id": "83e572f0",
   "metadata": {},
   "source": [
    "### 4. Create another instantiation of house called white_house with 16 bedrooms"
   ]
  },
  {
   "cell_type": "code",
   "execution_count": null,
   "id": "a326d3e8",
   "metadata": {},
   "outputs": [],
   "source": [
    "white_house = House(16)\n",
    "\n",
    "print(white_house.how_many_bedrooms())"
   ]
  }
 ],
 "metadata": {
  "kernelspec": {
   "display_name": "Python 3 (ipykernel)",
   "language": "python",
   "name": "python3"
  },
  "language_info": {
   "codemirror_mode": {
    "name": "ipython",
    "version": 3
   },
   "file_extension": ".py",
   "mimetype": "text/x-python",
   "name": "python",
   "nbconvert_exporter": "python",
   "pygments_lexer": "ipython3",
   "version": "3.11.3"
  }
 },
 "nbformat": 4,
 "nbformat_minor": 5
}
