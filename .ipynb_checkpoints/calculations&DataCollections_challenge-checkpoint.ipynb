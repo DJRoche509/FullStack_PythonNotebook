{
 "cells": [
  {
   "cell_type": "markdown",
   "id": "40d7a35c",
   "metadata": {},
   "source": [
    "<h1 style=\"text-align:center\"> <span style=\"color:blue\"> Calculations</span> and <span style=\"color:purple\"> Data Collections</span></h1>"
   ]
  },
  {
   "cell_type": "markdown",
   "id": "0787ca1a",
   "metadata": {},
   "source": [
    "## To successfully complete this challenge, perform and answer the following:\n"
   ]
  },
  {
   "cell_type": "markdown",
   "id": "c948939a",
   "metadata": {},
   "source": [
    "### 1. Create basic calculations:\n",
    "    a. Add two integers together. \n",
    "        . What is the result?\n",
    "    b. Subtract two integers. \n",
    "        . What is the result?\n",
    "    c. Divide two values. Have the result be an integer by using floor division. \n",
    "        . What is the result?\n",
    "    d. Create a variable ‘z’, have its value be 10+5. Print ‘x’. \n",
    "        . What is the result?"
   ]
  },
  {
   "cell_type": "code",
   "execution_count": 1,
   "id": "ea407996",
   "metadata": {},
   "outputs": [
    {
     "name": "stdout",
     "output_type": "stream",
     "text": [
      "Result of 24 + 5 is 29\n"
     ]
    }
   ],
   "source": [
    "# create two interger variables & assign with values\n",
    "x, y = 24, 5 \n",
    "result = x + y # performing addition\n",
    "print('Result of', x, '+', y, 'is', result)"
   ]
  },
  {
   "cell_type": "code",
   "execution_count": 2,
   "id": "c09ff2bb",
   "metadata": {},
   "outputs": [
    {
     "name": "stdout",
     "output_type": "stream",
     "text": [
      "Result of 24 - 5 is 19\n"
     ]
    }
   ],
   "source": [
    "result = x - y #performing substraction of above variables\n",
    "\n",
    "print('Result of', x, '-', y, 'is', result)"
   ]
  },
  {
   "cell_type": "code",
   "execution_count": 3,
   "id": "9508692f",
   "metadata": {},
   "outputs": [
    {
     "name": "stdout",
     "output_type": "stream",
     "text": [
      "Result of 24 // 5 is 4\n"
     ]
    }
   ],
   "source": [
    "result = x // y #performing floor division \n",
    "\n",
    "print('Result of', x, '//', y, 'is', result)"
   ]
  },
  {
   "cell_type": "code",
   "execution_count": 4,
   "id": "b4dfdd59",
   "metadata": {},
   "outputs": [
    {
     "name": "stdout",
     "output_type": "stream",
     "text": [
      "Result of z is: 15\n"
     ]
    }
   ],
   "source": [
    "z = 10 + 5\n",
    "\n",
    "print('Result of z is:',z)"
   ]
  },
  {
   "cell_type": "markdown",
   "id": "2e148fae",
   "metadata": {},
   "source": [
    "### 2. Create two strings and combine them using the + operator. \n",
    "    a. What was the result?"
   ]
  },
  {
   "cell_type": "code",
   "execution_count": 5,
   "id": "c2e2a74a",
   "metadata": {},
   "outputs": [
    {
     "name": "stdout",
     "output_type": "stream",
     "text": [
      "The concatenated result of the two strings is: legendary python\n"
     ]
    }
   ],
   "source": [
    "str1, str2 = 'legendary', 'python'\n",
    "\n",
    "print('The concatenated result of the two strings is:', str1+\" \"+str2)"
   ]
  },
  {
   "cell_type": "markdown",
   "id": "de76c050",
   "metadata": {},
   "source": [
    "### 3. Create variable ‘v’ and have the value be ‘program’. Omit letters o and g. Print the result."
   ]
  },
  {
   "cell_type": "code",
   "execution_count": 6,
   "id": "048919a9",
   "metadata": {},
   "outputs": [
    {
     "name": "stdout",
     "output_type": "stream",
     "text": [
      "With the letters \"o\" and \"g\" omitted, we're left with : prram\n"
     ]
    }
   ],
   "source": [
    "v = 'program'\n",
    "print('With the letters \"o\" and \"g\" omitted, we\\'re left with:', v[:2]+v[4:])"
   ]
  },
  {
   "cell_type": "markdown",
   "id": "4933d376",
   "metadata": {},
   "source": [
    "### 4. Create a list called ‘calendar_months’.\n",
    "    a. How long is the list?"
   ]
  },
  {
   "cell_type": "code",
   "execution_count": 7,
   "id": "63ece074",
   "metadata": {},
   "outputs": [
    {
     "name": "stdout",
     "output_type": "stream",
     "text": [
      "The list's length is equal to: 12\n"
     ]
    }
   ],
   "source": [
    "calendar_months = ['january', 'february', 'march', 'april','may','june','july','august','september','october','november','december']\n",
    "\n",
    "print('The list\\'s length is equal to:',len(calendar_months))"
   ]
  },
  {
   "cell_type": "markdown",
   "id": "1aaefa46",
   "metadata": {},
   "source": [
    "    b. Print only February, March, and April."
   ]
  },
  {
   "cell_type": "code",
   "execution_count": 8,
   "id": "0c52d4f0",
   "metadata": {},
   "outputs": [
    {
     "name": "stdout",
     "output_type": "stream",
     "text": [
      "February, March, April\n"
     ]
    }
   ],
   "source": [
    "# Printing only February, March, and April using list comprehension and '<separator>'.join()\n",
    "print(', '.join(str(m).capitalize() for m in calendar_months[1:4]))"
   ]
  },
  {
   "cell_type": "markdown",
   "id": "f833af5c",
   "metadata": {},
   "source": [
    "### 5. Create a sample list of your choice, using string variables. "
   ]
  },
  {
   "cell_type": "code",
   "execution_count": 9,
   "id": "5aa22be8",
   "metadata": {},
   "outputs": [],
   "source": [
    "var1, var2, var3 = 'white', 'medium', 'shirt'\n",
    "\n",
    "varList1=[var1,var2,var3]"
   ]
  },
  {
   "cell_type": "markdown",
   "id": "8094945d",
   "metadata": {},
   "source": [
    "### 6. Create a second sample list of your choice, using string variables. \n"
   ]
  },
  {
   "cell_type": "code",
   "execution_count": 10,
   "id": "b19d53fd",
   "metadata": {},
   "outputs": [],
   "source": [
    "var4, var5, var6 = 'brown', 'short', 'pants'\n",
    "\n",
    "varList2=[var4,var5,var6]"
   ]
  },
  {
   "cell_type": "markdown",
   "id": "740918f6",
   "metadata": {},
   "source": [
    "### 7. Create a third list that concats the two sample lists you created above.\n",
    "    a. Remove one item from the third list. "
   ]
  },
  {
   "cell_type": "code",
   "execution_count": 11,
   "id": "8c119764",
   "metadata": {},
   "outputs": [
    {
     "name": "stdout",
     "output_type": "stream",
     "text": [
      "The third list before: ['white', 'medium', 'shirt', 'brown', 'short', 'pants']\n",
      "The third list after: ['white', 'medium', 'shirt', 'brown', 'short']\n"
     ]
    }
   ],
   "source": [
    "varList3= varList1+varList2\n",
    "print('The third list before:', varList3)\n",
    "\n",
    "varList3.pop()\n",
    "\n",
    "print('The third list after:', varList3)"
   ]
  },
  {
   "cell_type": "markdown",
   "id": "74019761",
   "metadata": {},
   "source": [
    "### 8. Create a dictionary that has four keys and assign those keys values. \n",
    "    a. What is the length of the dictionary?"
   ]
  },
  {
   "cell_type": "code",
   "execution_count": 12,
   "id": "940a54e6",
   "metadata": {},
   "outputs": [
    {
     "name": "stdout",
     "output_type": "stream",
     "text": [
      "The length of carDict is: 4\n"
     ]
    }
   ],
   "source": [
    "carDict = {'Year': 2023,\n",
    "           'Make': 'Ashton Martin',\n",
    "           'Model': \"DBX 707\",\n",
    "           'Price': 237990\n",
    "          }\n",
    "print('The length of carDict is: '+str(len(carDict)))"
   ]
  }
 ],
 "metadata": {
  "kernelspec": {
   "display_name": "Python 3 (ipykernel)",
   "language": "python",
   "name": "python3"
  },
  "language_info": {
   "codemirror_mode": {
    "name": "ipython",
    "version": 3
   },
   "file_extension": ".py",
   "mimetype": "text/x-python",
   "name": "python",
   "nbconvert_exporter": "python",
   "pygments_lexer": "ipython3",
   "version": "3.11.3"
  }
 },
 "nbformat": 4,
 "nbformat_minor": 5
}
