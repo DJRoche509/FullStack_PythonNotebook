{
 "cells": [
  {
   "cell_type": "code",
   "execution_count": 10,
   "id": "c33a987d-129c-45e5-9f5f-e724539513b6",
   "metadata": {},
   "outputs": [],
   "source": [
    "import pandas as pd"
   ]
  },
  {
   "cell_type": "markdown",
   "id": "bc455390-d73d-4672-a579-d0c37482a6d3",
   "metadata": {},
   "source": [
    "# Get the data"
   ]
  },
  {
   "cell_type": "code",
   "execution_count": 15,
   "id": "9f52fd9d-ceee-438f-bbfb-e6cd9f028da2",
   "metadata": {},
   "outputs": [],
   "source": [
    "#df=pd.read_csv(\"path/filename\")\n",
    "df = pd.read_excel(\"Data/Northwind_products_suppliers.xlsx\")\n",
    "#df=pd.read_json(\"path/filename\")"
   ]
  },
  {
   "cell_type": "markdown",
   "id": "0633c34a",
   "metadata": {},
   "source": [
    "1. What data is in the first 4 rows?\n",
    "\n",
    "2. Calculate how many rows and columns are in this file.   \n",
    "\n",
    "3. What’s the maximum unit_price?\n",
    "\n",
    "4. Use describe() to get the descriptive statistics for this file\n",
    "\n",
    "5. Replace any NULL values in reorder_level with 0\n",
    "\n",
    "6. Remove duplicate rows\n",
    "\n",
    "7. Change \"Gustaf's Kn√§ckebr√∂d\" To \"Gustaf's Knäckebröd\"\n",
    "\n",
    "8. Remove the column for website\n",
    "\n",
    "9. Create a crosstab, with category_name in rows and country in columns\n",
    "\n",
    "10. Create a pivot table with average unit_price by category\n",
    "\n",
    "11. Create a pivot table with average reorder_level  by category (rows) and country (columns)\n",
    "\n",
    "12. Create a groupby table with sum of discontinued products by company name  \n",
    "\n",
    "13. Create a groupby table with maximum unit_price by country and category (both in rows"
   ]
  },
  {
   "cell_type": "markdown",
   "id": "ced3e336-a063-4fb1-b9ef-2774d88d35d2",
   "metadata": {},
   "source": [
    "# Explore the data"
   ]
  },
  {
   "cell_type": "code",
   "execution_count": 17,
   "id": "355e956f-9cbe-4fc5-a045-58217db2ab2e",
   "metadata": {},
   "outputs": [
    {
     "name": "stdout",
     "output_type": "stream",
     "text": [
      "<class 'pandas.core.frame.DataFrame'>\n",
      "RangeIndex: 78 entries, 0 to 77\n",
      "Data columns (total 12 columns):\n",
      " #   Column             Non-Null Count  Dtype  \n",
      "---  ------             --------------  -----  \n",
      " 0   product_id         78 non-null     int64  \n",
      " 1   product_name       78 non-null     object \n",
      " 2   quantity_per_unit  78 non-null     object \n",
      " 3   unit_price         78 non-null     float64\n",
      " 4   units_in_stock     78 non-null     int64  \n",
      " 5   units_on_order     78 non-null     int64  \n",
      " 6   reorder_level      76 non-null     float64\n",
      " 7   discontinued       78 non-null     int64  \n",
      " 8   category_name      78 non-null     object \n",
      " 9   company_name       78 non-null     object \n",
      " 10  country            78 non-null     object \n",
      " 11  website            6 non-null      object \n",
      "dtypes: float64(2), int64(4), object(6)\n",
      "memory usage: 7.4+ KB\n"
     ]
    }
   ],
   "source": [
    "df.info()"
   ]
  },
  {
   "cell_type": "code",
   "execution_count": 18,
   "id": "3a610d4c-e0fd-474a-a244-adf65e1bf458",
   "metadata": {},
   "outputs": [
    {
     "data": {
      "text/html": [
       "<div>\n",
       "<style scoped>\n",
       "    .dataframe tbody tr th:only-of-type {\n",
       "        vertical-align: middle;\n",
       "    }\n",
       "\n",
       "    .dataframe tbody tr th {\n",
       "        vertical-align: top;\n",
       "    }\n",
       "\n",
       "    .dataframe thead th {\n",
       "        text-align: right;\n",
       "    }\n",
       "</style>\n",
       "<table border=\"1\" class=\"dataframe\">\n",
       "  <thead>\n",
       "    <tr style=\"text-align: right;\">\n",
       "      <th></th>\n",
       "      <th>product_id</th>\n",
       "      <th>unit_price</th>\n",
       "      <th>units_in_stock</th>\n",
       "      <th>units_on_order</th>\n",
       "      <th>reorder_level</th>\n",
       "      <th>discontinued</th>\n",
       "    </tr>\n",
       "  </thead>\n",
       "  <tbody>\n",
       "    <tr>\n",
       "      <th>count</th>\n",
       "      <td>78.000000</td>\n",
       "      <td>78.000000</td>\n",
       "      <td>78.000000</td>\n",
       "      <td>78.000000</td>\n",
       "      <td>76.000000</td>\n",
       "      <td>78.000000</td>\n",
       "    </tr>\n",
       "    <tr>\n",
       "      <th>mean</th>\n",
       "      <td>38.525641</td>\n",
       "      <td>28.707821</td>\n",
       "      <td>40.205128</td>\n",
       "      <td>10.512821</td>\n",
       "      <td>12.631579</td>\n",
       "      <td>0.141026</td>\n",
       "    </tr>\n",
       "    <tr>\n",
       "      <th>std</th>\n",
       "      <td>22.617499</td>\n",
       "      <td>33.627362</td>\n",
       "      <td>36.010229</td>\n",
       "      <td>23.237757</td>\n",
       "      <td>10.907908</td>\n",
       "      <td>0.350301</td>\n",
       "    </tr>\n",
       "    <tr>\n",
       "      <th>min</th>\n",
       "      <td>1.000000</td>\n",
       "      <td>2.500000</td>\n",
       "      <td>0.000000</td>\n",
       "      <td>0.000000</td>\n",
       "      <td>0.000000</td>\n",
       "      <td>0.000000</td>\n",
       "    </tr>\n",
       "    <tr>\n",
       "      <th>25%</th>\n",
       "      <td>19.250000</td>\n",
       "      <td>13.062500</td>\n",
       "      <td>15.000000</td>\n",
       "      <td>0.000000</td>\n",
       "      <td>0.000000</td>\n",
       "      <td>0.000000</td>\n",
       "    </tr>\n",
       "    <tr>\n",
       "      <th>50%</th>\n",
       "      <td>38.500000</td>\n",
       "      <td>19.475000</td>\n",
       "      <td>26.000000</td>\n",
       "      <td>0.000000</td>\n",
       "      <td>12.500000</td>\n",
       "      <td>0.000000</td>\n",
       "    </tr>\n",
       "    <tr>\n",
       "      <th>75%</th>\n",
       "      <td>57.750000</td>\n",
       "      <td>33.137500</td>\n",
       "      <td>60.000000</td>\n",
       "      <td>0.000000</td>\n",
       "      <td>25.000000</td>\n",
       "      <td>0.000000</td>\n",
       "    </tr>\n",
       "    <tr>\n",
       "      <th>max</th>\n",
       "      <td>77.000000</td>\n",
       "      <td>263.500000</td>\n",
       "      <td>125.000000</td>\n",
       "      <td>100.000000</td>\n",
       "      <td>30.000000</td>\n",
       "      <td>1.000000</td>\n",
       "    </tr>\n",
       "  </tbody>\n",
       "</table>\n",
       "</div>"
      ],
      "text/plain": [
       "       product_id  unit_price  units_in_stock  units_on_order  reorder_level  \\\n",
       "count   78.000000   78.000000       78.000000       78.000000      76.000000   \n",
       "mean    38.525641   28.707821       40.205128       10.512821      12.631579   \n",
       "std     22.617499   33.627362       36.010229       23.237757      10.907908   \n",
       "min      1.000000    2.500000        0.000000        0.000000       0.000000   \n",
       "25%     19.250000   13.062500       15.000000        0.000000       0.000000   \n",
       "50%     38.500000   19.475000       26.000000        0.000000      12.500000   \n",
       "75%     57.750000   33.137500       60.000000        0.000000      25.000000   \n",
       "max     77.000000  263.500000      125.000000      100.000000      30.000000   \n",
       "\n",
       "       discontinued  \n",
       "count     78.000000  \n",
       "mean       0.141026  \n",
       "std        0.350301  \n",
       "min        0.000000  \n",
       "25%        0.000000  \n",
       "50%        0.000000  \n",
       "75%        0.000000  \n",
       "max        1.000000  "
      ]
     },
     "execution_count": 18,
     "metadata": {},
     "output_type": "execute_result"
    }
   ],
   "source": [
    "df.describe()"
   ]
  },
  {
   "cell_type": "markdown",
   "id": "aa0385ea",
   "metadata": {},
   "source": [
    "### 1. What data is in the first 4 rows?"
   ]
  },
  {
   "cell_type": "code",
   "execution_count": 19,
   "id": "3cda5dca-a1c9-48c6-817b-6676b3934ac0",
   "metadata": {},
   "outputs": [
    {
     "data": {
      "text/html": [
       "<div>\n",
       "<style scoped>\n",
       "    .dataframe tbody tr th:only-of-type {\n",
       "        vertical-align: middle;\n",
       "    }\n",
       "\n",
       "    .dataframe tbody tr th {\n",
       "        vertical-align: top;\n",
       "    }\n",
       "\n",
       "    .dataframe thead th {\n",
       "        text-align: right;\n",
       "    }\n",
       "</style>\n",
       "<table border=\"1\" class=\"dataframe\">\n",
       "  <thead>\n",
       "    <tr style=\"text-align: right;\">\n",
       "      <th></th>\n",
       "      <th>product_id</th>\n",
       "      <th>product_name</th>\n",
       "      <th>quantity_per_unit</th>\n",
       "      <th>unit_price</th>\n",
       "      <th>units_in_stock</th>\n",
       "      <th>units_on_order</th>\n",
       "      <th>reorder_level</th>\n",
       "      <th>discontinued</th>\n",
       "      <th>category_name</th>\n",
       "      <th>company_name</th>\n",
       "      <th>country</th>\n",
       "      <th>website</th>\n",
       "    </tr>\n",
       "  </thead>\n",
       "  <tbody>\n",
       "    <tr>\n",
       "      <th>0</th>\n",
       "      <td>1</td>\n",
       "      <td>Chai</td>\n",
       "      <td>10 boxes x 30 bags</td>\n",
       "      <td>18.0</td>\n",
       "      <td>39</td>\n",
       "      <td>0</td>\n",
       "      <td>10.0</td>\n",
       "      <td>1</td>\n",
       "      <td>Beverages</td>\n",
       "      <td>Specialty Biscuits, Ltd.</td>\n",
       "      <td>UK</td>\n",
       "      <td>/</td>\n",
       "    </tr>\n",
       "    <tr>\n",
       "      <th>1</th>\n",
       "      <td>2</td>\n",
       "      <td>Chang</td>\n",
       "      <td>24 - 12 oz bottles</td>\n",
       "      <td>19.0</td>\n",
       "      <td>17</td>\n",
       "      <td>40</td>\n",
       "      <td>25.0</td>\n",
       "      <td>1</td>\n",
       "      <td>Beverages</td>\n",
       "      <td>Exotic Liquids</td>\n",
       "      <td>UK</td>\n",
       "      <td>NaN</td>\n",
       "    </tr>\n",
       "    <tr>\n",
       "      <th>2</th>\n",
       "      <td>2</td>\n",
       "      <td>Chang</td>\n",
       "      <td>24 - 12 oz bottles</td>\n",
       "      <td>19.0</td>\n",
       "      <td>17</td>\n",
       "      <td>40</td>\n",
       "      <td>25.0</td>\n",
       "      <td>1</td>\n",
       "      <td>Beverages</td>\n",
       "      <td>Exotic Liquids</td>\n",
       "      <td>UK</td>\n",
       "      <td>NaN</td>\n",
       "    </tr>\n",
       "    <tr>\n",
       "      <th>3</th>\n",
       "      <td>3</td>\n",
       "      <td>Aniseed Syrup</td>\n",
       "      <td>12 - 550 ml bottles</td>\n",
       "      <td>10.0</td>\n",
       "      <td>13</td>\n",
       "      <td>70</td>\n",
       "      <td>25.0</td>\n",
       "      <td>0</td>\n",
       "      <td>Condiments</td>\n",
       "      <td>Exotic Liquids</td>\n",
       "      <td>UK</td>\n",
       "      <td>\"\"</td>\n",
       "    </tr>\n",
       "  </tbody>\n",
       "</table>\n",
       "</div>"
      ],
      "text/plain": [
       "   product_id   product_name    quantity_per_unit  unit_price  units_in_stock  \\\n",
       "0           1           Chai   10 boxes x 30 bags        18.0              39   \n",
       "1           2          Chang   24 - 12 oz bottles        19.0              17   \n",
       "2           2          Chang   24 - 12 oz bottles        19.0              17   \n",
       "3           3  Aniseed Syrup  12 - 550 ml bottles        10.0              13   \n",
       "\n",
       "   units_on_order  reorder_level  discontinued category_name  \\\n",
       "0               0           10.0             1     Beverages   \n",
       "1              40           25.0             1     Beverages   \n",
       "2              40           25.0             1     Beverages   \n",
       "3              70           25.0             0    Condiments   \n",
       "\n",
       "               company_name country website  \n",
       "0  Specialty Biscuits, Ltd.      UK       /  \n",
       "1            Exotic Liquids      UK     NaN  \n",
       "2            Exotic Liquids      UK     NaN  \n",
       "3            Exotic Liquids      UK      \"\"  "
      ]
     },
     "execution_count": 19,
     "metadata": {},
     "output_type": "execute_result"
    }
   ],
   "source": [
    "df.head(4)"
   ]
  },
  {
   "cell_type": "code",
   "execution_count": null,
   "id": "a63819df-9e16-4e1f-8c0f-b5e9f072f495",
   "metadata": {},
   "outputs": [],
   "source": [
    "# df.tail(4)"
   ]
  },
  {
   "cell_type": "markdown",
   "id": "9f791234",
   "metadata": {},
   "source": [
    "### 2. Calculate how many rows and columns are in this file."
   ]
  },
  {
   "cell_type": "code",
   "execution_count": 24,
   "id": "d92bcf4e-80e9-4427-ad68-82c097f084ce",
   "metadata": {},
   "outputs": [
    {
     "data": {
      "text/html": [
       "<div>\n",
       "<style scoped>\n",
       "    .dataframe tbody tr th:only-of-type {\n",
       "        vertical-align: middle;\n",
       "    }\n",
       "\n",
       "    .dataframe tbody tr th {\n",
       "        vertical-align: top;\n",
       "    }\n",
       "\n",
       "    .dataframe thead th {\n",
       "        text-align: right;\n",
       "    }\n",
       "</style>\n",
       "<table border=\"1\" class=\"dataframe\">\n",
       "  <thead>\n",
       "    <tr style=\"text-align: right;\">\n",
       "      <th></th>\n",
       "      <th>product_id</th>\n",
       "      <th>product_name</th>\n",
       "      <th>quantity_per_unit</th>\n",
       "      <th>unit_price</th>\n",
       "      <th>units_in_stock</th>\n",
       "      <th>units_on_order</th>\n",
       "      <th>reorder_level</th>\n",
       "      <th>discontinued</th>\n",
       "      <th>category_name</th>\n",
       "      <th>company_name</th>\n",
       "      <th>country</th>\n",
       "      <th>website</th>\n",
       "    </tr>\n",
       "  </thead>\n",
       "  <tbody>\n",
       "    <tr>\n",
       "      <th>0</th>\n",
       "      <td>1</td>\n",
       "      <td>Chai</td>\n",
       "      <td>10 boxes x 30 bags</td>\n",
       "      <td>18.00</td>\n",
       "      <td>39</td>\n",
       "      <td>0</td>\n",
       "      <td>10.0</td>\n",
       "      <td>1</td>\n",
       "      <td>Beverages</td>\n",
       "      <td>Specialty Biscuits, Ltd.</td>\n",
       "      <td>UK</td>\n",
       "      <td>/</td>\n",
       "    </tr>\n",
       "    <tr>\n",
       "      <th>1</th>\n",
       "      <td>2</td>\n",
       "      <td>Chang</td>\n",
       "      <td>24 - 12 oz bottles</td>\n",
       "      <td>19.00</td>\n",
       "      <td>17</td>\n",
       "      <td>40</td>\n",
       "      <td>25.0</td>\n",
       "      <td>1</td>\n",
       "      <td>Beverages</td>\n",
       "      <td>Exotic Liquids</td>\n",
       "      <td>UK</td>\n",
       "      <td>NaN</td>\n",
       "    </tr>\n",
       "    <tr>\n",
       "      <th>2</th>\n",
       "      <td>2</td>\n",
       "      <td>Chang</td>\n",
       "      <td>24 - 12 oz bottles</td>\n",
       "      <td>19.00</td>\n",
       "      <td>17</td>\n",
       "      <td>40</td>\n",
       "      <td>25.0</td>\n",
       "      <td>1</td>\n",
       "      <td>Beverages</td>\n",
       "      <td>Exotic Liquids</td>\n",
       "      <td>UK</td>\n",
       "      <td>NaN</td>\n",
       "    </tr>\n",
       "    <tr>\n",
       "      <th>3</th>\n",
       "      <td>3</td>\n",
       "      <td>Aniseed Syrup</td>\n",
       "      <td>12 - 550 ml bottles</td>\n",
       "      <td>10.00</td>\n",
       "      <td>13</td>\n",
       "      <td>70</td>\n",
       "      <td>25.0</td>\n",
       "      <td>0</td>\n",
       "      <td>Condiments</td>\n",
       "      <td>Exotic Liquids</td>\n",
       "      <td>UK</td>\n",
       "      <td>\"\"</td>\n",
       "    </tr>\n",
       "    <tr>\n",
       "      <th>4</th>\n",
       "      <td>4</td>\n",
       "      <td>Chef Anton's Cajun Seasoning</td>\n",
       "      <td>48 - 6 oz jars</td>\n",
       "      <td>22.00</td>\n",
       "      <td>53</td>\n",
       "      <td>0</td>\n",
       "      <td>0.0</td>\n",
       "      <td>0</td>\n",
       "      <td>Condiments</td>\n",
       "      <td>New Orleans Cajun Delights</td>\n",
       "      <td>USA</td>\n",
       "      <td>NaN</td>\n",
       "    </tr>\n",
       "    <tr>\n",
       "      <th>...</th>\n",
       "      <td>...</td>\n",
       "      <td>...</td>\n",
       "      <td>...</td>\n",
       "      <td>...</td>\n",
       "      <td>...</td>\n",
       "      <td>...</td>\n",
       "      <td>...</td>\n",
       "      <td>...</td>\n",
       "      <td>...</td>\n",
       "      <td>...</td>\n",
       "      <td>...</td>\n",
       "      <td>...</td>\n",
       "    </tr>\n",
       "    <tr>\n",
       "      <th>73</th>\n",
       "      <td>63</td>\n",
       "      <td>Vegie-spread</td>\n",
       "      <td>15 - 625 g jars</td>\n",
       "      <td>43.90</td>\n",
       "      <td>24</td>\n",
       "      <td>0</td>\n",
       "      <td>5.0</td>\n",
       "      <td>0</td>\n",
       "      <td>Condiments</td>\n",
       "      <td>Pavlova, Ltd.</td>\n",
       "      <td>Australia</td>\n",
       "      <td>NaN</td>\n",
       "    </tr>\n",
       "    <tr>\n",
       "      <th>74</th>\n",
       "      <td>64</td>\n",
       "      <td>Wimmers gute SemmelknÃ¶del</td>\n",
       "      <td>20 bags x 4 pieces</td>\n",
       "      <td>33.25</td>\n",
       "      <td>22</td>\n",
       "      <td>80</td>\n",
       "      <td>30.0</td>\n",
       "      <td>0</td>\n",
       "      <td>Grains/Cereals</td>\n",
       "      <td>Plutzer LebensmittelgroÃŸmÃ¤rkte AG</td>\n",
       "      <td>Germany</td>\n",
       "      <td>NaN</td>\n",
       "    </tr>\n",
       "    <tr>\n",
       "      <th>75</th>\n",
       "      <td>65</td>\n",
       "      <td>Louisiana Fiery Hot Pepper Sauce</td>\n",
       "      <td>32 - 8 oz bottles</td>\n",
       "      <td>21.05</td>\n",
       "      <td>76</td>\n",
       "      <td>0</td>\n",
       "      <td>0.0</td>\n",
       "      <td>0</td>\n",
       "      <td>Condiments</td>\n",
       "      <td>New Orleans Cajun Delights</td>\n",
       "      <td>USA</td>\n",
       "      <td>NaN</td>\n",
       "    </tr>\n",
       "    <tr>\n",
       "      <th>76</th>\n",
       "      <td>66</td>\n",
       "      <td>Louisiana Hot Spiced Okra</td>\n",
       "      <td>24 - 8 oz jars</td>\n",
       "      <td>17.00</td>\n",
       "      <td>4</td>\n",
       "      <td>100</td>\n",
       "      <td>20.0</td>\n",
       "      <td>0</td>\n",
       "      <td>Condiments</td>\n",
       "      <td>New Orleans Cajun Delights</td>\n",
       "      <td>USA</td>\n",
       "      <td>NaN</td>\n",
       "    </tr>\n",
       "    <tr>\n",
       "      <th>77</th>\n",
       "      <td>69</td>\n",
       "      <td>Gudbrandsdalsost</td>\n",
       "      <td>10 kg pkg.</td>\n",
       "      <td>36.00</td>\n",
       "      <td>26</td>\n",
       "      <td>0</td>\n",
       "      <td>15.0</td>\n",
       "      <td>0</td>\n",
       "      <td>Dairy Products</td>\n",
       "      <td>Norske Meierier</td>\n",
       "      <td>Norway</td>\n",
       "      <td>NaN</td>\n",
       "    </tr>\n",
       "  </tbody>\n",
       "</table>\n",
       "<p>78 rows × 12 columns</p>\n",
       "</div>"
      ],
      "text/plain": [
       "    product_id                      product_name    quantity_per_unit  \\\n",
       "0            1                              Chai   10 boxes x 30 bags   \n",
       "1            2                             Chang   24 - 12 oz bottles   \n",
       "2            2                             Chang   24 - 12 oz bottles   \n",
       "3            3                     Aniseed Syrup  12 - 550 ml bottles   \n",
       "4            4      Chef Anton's Cajun Seasoning       48 - 6 oz jars   \n",
       "..         ...                               ...                  ...   \n",
       "73          63                      Vegie-spread      15 - 625 g jars   \n",
       "74          64        Wimmers gute SemmelknÃ¶del   20 bags x 4 pieces   \n",
       "75          65  Louisiana Fiery Hot Pepper Sauce    32 - 8 oz bottles   \n",
       "76          66         Louisiana Hot Spiced Okra       24 - 8 oz jars   \n",
       "77          69                  Gudbrandsdalsost           10 kg pkg.   \n",
       "\n",
       "    unit_price  units_in_stock  units_on_order  reorder_level  discontinued  \\\n",
       "0        18.00              39               0           10.0             1   \n",
       "1        19.00              17              40           25.0             1   \n",
       "2        19.00              17              40           25.0             1   \n",
       "3        10.00              13              70           25.0             0   \n",
       "4        22.00              53               0            0.0             0   \n",
       "..         ...             ...             ...            ...           ...   \n",
       "73       43.90              24               0            5.0             0   \n",
       "74       33.25              22              80           30.0             0   \n",
       "75       21.05              76               0            0.0             0   \n",
       "76       17.00               4             100           20.0             0   \n",
       "77       36.00              26               0           15.0             0   \n",
       "\n",
       "     category_name                         company_name    country website  \n",
       "0        Beverages             Specialty Biscuits, Ltd.         UK       /  \n",
       "1        Beverages                       Exotic Liquids         UK     NaN  \n",
       "2        Beverages                       Exotic Liquids         UK     NaN  \n",
       "3       Condiments                       Exotic Liquids         UK      \"\"  \n",
       "4       Condiments           New Orleans Cajun Delights        USA     NaN  \n",
       "..             ...                                  ...        ...     ...  \n",
       "73      Condiments                        Pavlova, Ltd.  Australia     NaN  \n",
       "74  Grains/Cereals  Plutzer LebensmittelgroÃŸmÃ¤rkte AG    Germany     NaN  \n",
       "75      Condiments           New Orleans Cajun Delights        USA     NaN  \n",
       "76      Condiments           New Orleans Cajun Delights        USA     NaN  \n",
       "77  Dairy Products                      Norske Meierier     Norway     NaN  \n",
       "\n",
       "[78 rows x 12 columns]"
      ]
     },
     "execution_count": 24,
     "metadata": {},
     "output_type": "execute_result"
    }
   ],
   "source": [
    "df"
   ]
  },
  {
   "cell_type": "code",
   "execution_count": 3,
   "id": "522243ec-7583-4f56-9918-67fcc2810bc9",
   "metadata": {},
   "outputs": [],
   "source": [
    "# df.shape"
   ]
  },
  {
   "cell_type": "code",
   "execution_count": null,
   "id": "6bf9e8da-4578-4aaa-899f-b9fd54f4e87b",
   "metadata": {},
   "outputs": [],
   "source": [
    "# df.columns"
   ]
  },
  {
   "cell_type": "markdown",
   "id": "8f72bea7-f010-4040-a0ac-89c632bbafe3",
   "metadata": {},
   "source": [
    "# Clean the data"
   ]
  },
  {
   "cell_type": "code",
   "execution_count": null,
   "id": "a565693b-4ca0-4096-a128-77db2d85308e",
   "metadata": {},
   "outputs": [],
   "source": [
    "# df.isnull().sum() # tells us how many Nulls there are in the dataframe by column"
   ]
  },
  {
   "cell_type": "code",
   "execution_count": null,
   "id": "b3ac1e10-4d6c-489e-8194-beb044aa51f2",
   "metadata": {},
   "outputs": [],
   "source": [
    "# df.isnull().sum().sum() # tells us how many Nulls there are in the dataframe  "
   ]
  },
  {
   "cell_type": "code",
   "execution_count": null,
   "id": "c2167436-6ed4-4357-91c7-b4562ecb0d2a",
   "metadata": {},
   "outputs": [],
   "source": [
    "# df_dropped =  df.dropna() #-- drop the rows with nulls"
   ]
  },
  {
   "cell_type": "code",
   "execution_count": null,
   "id": "ecbe3ecb-5d08-4bb4-a164-e09ba0987bef",
   "metadata": {},
   "outputs": [],
   "source": [
    "# df.duplicated().sum() # counts the duplicates"
   ]
  },
  {
   "cell_type": "code",
   "execution_count": null,
   "id": "a51e1e75-b89d-4ec5-8297-79f6896a7dd5",
   "metadata": {},
   "outputs": [],
   "source": [
    "# df_nodupes = df.drop_duplicates() gets rid of the duplicate rows"
   ]
  },
  {
   "cell_type": "code",
   "execution_count": null,
   "id": "8403b09a-da32-4e31-ab1a-aa1cc8973c6b",
   "metadata": {},
   "outputs": [],
   "source": [
    "# df_lean =  df.drop(columns =['column1', 'column2', 'column3'])\n"
   ]
  },
  {
   "cell_type": "code",
   "execution_count": null,
   "id": "f1d816e7-23a1-4cbb-9a4c-1808b8825d6b",
   "metadata": {},
   "outputs": [],
   "source": [
    "# fixed_df =  df.replace('what to replace','withwhat', regex=True)"
   ]
  },
  {
   "cell_type": "markdown",
   "id": "1f99c9c1-4387-4296-9315-51f8d09ee0bf",
   "metadata": {},
   "source": [
    "# Add new columns"
   ]
  },
  {
   "cell_type": "code",
   "execution_count": null,
   "id": "c26507be-1287-432e-b650-b765b92280b3",
   "metadata": {},
   "outputs": [],
   "source": [
    "# df_new['new_column']= df['column_with_numbers'] * 100"
   ]
  },
  {
   "cell_type": "code",
   "execution_count": null,
   "id": "aafb148e-7964-47ba-a4b2-937780f2efc1",
   "metadata": {},
   "outputs": [],
   "source": [
    "# df_new['new_column']=df['existing_column'].map(dictionary) # new categories defined in dictionary"
   ]
  },
  {
   "cell_type": "markdown",
   "id": "ab633dec-ebf7-469e-9146-6bc773bb0159",
   "metadata": {},
   "source": [
    "# Analyze"
   ]
  },
  {
   "cell_type": "code",
   "execution_count": 5,
   "id": "4749f51f-9eee-4096-86f8-92fca9d7e866",
   "metadata": {},
   "outputs": [],
   "source": [
    "# aggregates\n",
    "# df['column1'].sum()\n",
    "# df['column2'].mean()\n",
    "# df['column2'].min()\n",
    "# df['column2'].max()"
   ]
  },
  {
   "cell_type": "code",
   "execution_count": 6,
   "id": "469c6e62-78d5-49c9-84a2-a29bd8710012",
   "metadata": {},
   "outputs": [],
   "source": [
    "# pivot_df = df.pivot_table('what to aggregate', index='what to put in rows', aggfunc='sum')      \n",
    "# pivot_df = df.pivot_table('what to aggregate', index='what to put in rows', aggfunc='max')      \n"
   ]
  },
  {
   "cell_type": "code",
   "execution_count": null,
   "id": "17d91eff-baf1-43ee-a964-693ec9a2c260",
   "metadata": {},
   "outputs": [],
   "source": [
    "#crosstab=pd.crosstab(df['row'], df['column'])  # count "
   ]
  },
  {
   "cell_type": "code",
   "execution_count": null,
   "id": "ae2d1f34-b659-4a5c-9535-283ea595fa52",
   "metadata": {},
   "outputs": [],
   "source": [
    "# df_grouped = df.groupby(['rows1','row2'])['columns'].mean()"
   ]
  },
  {
   "cell_type": "code",
   "execution_count": null,
   "id": "d1fd1cb8-cbbf-41fa-8506-6d1d61e8a1ec",
   "metadata": {},
   "outputs": [],
   "source": [
    "# joined_df =  df.join(other_dataframe.set_index('key'), on='foreign', how = 'inner')"
   ]
  },
  {
   "cell_type": "markdown",
   "id": "9100bcd8-25c4-4ade-94cd-19e7073cae51",
   "metadata": {},
   "source": [
    "# Visualize"
   ]
  },
  {
   "cell_type": "code",
   "execution_count": 8,
   "id": "242aeb32-1e6f-49f6-bf9f-28cbba3345bb",
   "metadata": {},
   "outputs": [],
   "source": [
    "from matplotlib import pyplot as plt\n",
    "import seaborn as sns"
   ]
  },
  {
   "cell_type": "code",
   "execution_count": null,
   "id": "08b20d58-f794-488c-807d-1838e754d1db",
   "metadata": {},
   "outputs": [],
   "source": []
  }
 ],
 "metadata": {
  "kernelspec": {
   "display_name": "Python 3 (ipykernel)",
   "language": "python",
   "name": "python3"
  },
  "language_info": {
   "codemirror_mode": {
    "name": "ipython",
    "version": 3
   },
   "file_extension": ".py",
   "mimetype": "text/x-python",
   "name": "python",
   "nbconvert_exporter": "python",
   "pygments_lexer": "ipython3",
   "version": "3.11.3"
  }
 },
 "nbformat": 4,
 "nbformat_minor": 5
}
