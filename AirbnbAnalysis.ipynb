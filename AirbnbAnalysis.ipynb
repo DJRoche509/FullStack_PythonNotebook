{
 "cells": [
  {
   "cell_type": "markdown",
   "id": "0c972c82",
   "metadata": {},
   "source": [
    "<h1 style=\"text-align:center\"> <span style=\"color:blue\"> AirBnB</span> Data <span style=\"color:violet\"> Analysis</span></h1>"
   ]
  },
  {
   "cell_type": "code",
   "execution_count": null,
   "id": "b03eeb37",
   "metadata": {},
   "outputs": [],
   "source": [
    "import pandas as pd"
   ]
  },
  {
   "cell_type": "code",
   "execution_count": null,
   "id": "ca77a04b",
   "metadata": {},
   "outputs": [],
   "source": [
    "import matplotlib.pyplot as plt"
   ]
  },
  {
   "cell_type": "code",
   "execution_count": null,
   "id": "5562f076",
   "metadata": {},
   "outputs": [],
   "source": [
    "import numpy as np"
   ]
  },
  {
   "cell_type": "code",
   "execution_count": null,
   "id": "a3765bea",
   "metadata": {},
   "outputs": [],
   "source": [
    "df = pd.read_excel('Data/Airbnb.xlsx')"
   ]
  },
  {
   "cell_type": "markdown",
   "id": "04da99c7",
   "metadata": {},
   "source": [
    "### Show top 10 data of excel sheet"
   ]
  },
  {
   "cell_type": "code",
   "execution_count": null,
   "id": "8addc887",
   "metadata": {},
   "outputs": [],
   "source": [
    "df.head(10)"
   ]
  },
  {
   "cell_type": "markdown",
   "id": "90cedcb1",
   "metadata": {},
   "source": [
    "### Change \"neighbourhood_group\" to \"borough\""
   ]
  },
  {
   "cell_type": "code",
   "execution_count": null,
   "id": "799463f6",
   "metadata": {},
   "outputs": [],
   "source": [
    "df = df.rename(columns={'neighbourhood_group' : 'borough'})"
   ]
  },
  {
   "cell_type": "code",
   "execution_count": null,
   "id": "c401c5cb",
   "metadata": {},
   "outputs": [],
   "source": [
    "df.info()"
   ]
  },
  {
   "cell_type": "code",
   "execution_count": null,
   "id": "49fbaf35",
   "metadata": {},
   "outputs": [],
   "source": [
    "df.head()"
   ]
  },
  {
   "cell_type": "markdown",
   "id": "1e9b4b97",
   "metadata": {},
   "source": [
    "<h2 style=\"text-align:center\">Clean the data</h2>"
   ]
  },
  {
   "cell_type": "markdown",
   "id": "5d97e4e6",
   "metadata": {},
   "source": [
    "### Check for duplicated rows "
   ]
  },
  {
   "cell_type": "code",
   "execution_count": null,
   "id": "a82cb863",
   "metadata": {},
   "outputs": [],
   "source": [
    "df[df.duplicated(keep=False)]"
   ]
  },
  {
   "cell_type": "markdown",
   "id": "8ece3826",
   "metadata": {},
   "source": [
    "### Remove duplicated rows"
   ]
  },
  {
   "cell_type": "code",
   "execution_count": null,
   "id": "3638f0ef",
   "metadata": {},
   "outputs": [],
   "source": [
    "df_nodupes = df = df.drop_duplicates()\n",
    "\n",
    "print('There is now '+str(df_nodupes.duplicated().sum())+' duplicated rows.')"
   ]
  },
  {
   "cell_type": "code",
   "execution_count": null,
   "id": "72766248",
   "metadata": {},
   "outputs": [],
   "source": [
    "df[df.duplicated(keep=False)]"
   ]
  },
  {
   "cell_type": "markdown",
   "id": "9a81d58c",
   "metadata": {},
   "source": [
    "### Check for uniqueness"
   ]
  },
  {
   "cell_type": "code",
   "execution_count": null,
   "id": "75c6ce1e",
   "metadata": {},
   "outputs": [],
   "source": [
    "for c in [*df.head(0)]:\n",
    "    print(df[c].unique())"
   ]
  },
  {
   "cell_type": "code",
   "execution_count": null,
   "id": "6fb3e127",
   "metadata": {},
   "outputs": [],
   "source": [
    "df['borough'].unique()"
   ]
  },
  {
   "cell_type": "code",
   "execution_count": null,
   "id": "e2eb4af1",
   "metadata": {},
   "outputs": [],
   "source": [
    "df['neighbourhood'].unique()"
   ]
  },
  {
   "cell_type": "code",
   "execution_count": null,
   "id": "4b1a38d8",
   "metadata": {},
   "outputs": [],
   "source": [
    "df['room_type'].unique()"
   ]
  },
  {
   "cell_type": "markdown",
   "id": "63b2384e",
   "metadata": {},
   "source": [
    "### Change \"Brooklynn\" and \"Privaate room\" to \"Brooklyn\" and \"Private room\" respectively"
   ]
  },
  {
   "cell_type": "code",
   "execution_count": null,
   "id": "feda9c52",
   "metadata": {},
   "outputs": [],
   "source": [
    "df = df.replace(\"Brooklynn\", 'Brooklyn', regex=True)\n",
    "\n",
    "df = df.replace(\"Privaate room\", 'Private room', regex=True)\n",
    "\n",
    "df.head()  # display head"
   ]
  },
  {
   "cell_type": "code",
   "execution_count": null,
   "id": "e631b31f",
   "metadata": {},
   "outputs": [],
   "source": [
    "df['borough'].unique()"
   ]
  },
  {
   "cell_type": "code",
   "execution_count": null,
   "id": "c04d7b5e",
   "metadata": {},
   "outputs": [],
   "source": [
    "df['room_type'].unique()"
   ]
  },
  {
   "cell_type": "markdown",
   "id": "2d125b35",
   "metadata": {},
   "source": [
    "## Check for null values"
   ]
  },
  {
   "cell_type": "code",
   "execution_count": null,
   "id": "99fd7d8a",
   "metadata": {},
   "outputs": [],
   "source": [
    "df.isnull().sum()"
   ]
  },
  {
   "cell_type": "markdown",
   "id": "acfe041e",
   "metadata": {},
   "source": [
    "### Display/Select all Rows with NaN Values in the \"reviews_per_month\" column"
   ]
  },
  {
   "cell_type": "code",
   "execution_count": null,
   "id": "a3361005",
   "metadata": {},
   "outputs": [],
   "source": [
    "df[df['reviews_per_month'].isnull()]\n",
    "# Or df[df['reviews_per_month'].isna()]"
   ]
  },
  {
   "cell_type": "markdown",
   "id": "61078e9f",
   "metadata": {},
   "source": [
    "### Replace NaN values to 0 in  'reviews_per_month' column"
   ]
  },
  {
   "cell_type": "code",
   "execution_count": null,
   "id": "0d2470ff",
   "metadata": {},
   "outputs": [],
   "source": [
    "df['reviews_per_month'] = df['reviews_per_month'].fillna(value = 0)"
   ]
  },
  {
   "cell_type": "code",
   "execution_count": null,
   "id": "7967cfb1",
   "metadata": {},
   "outputs": [],
   "source": [
    "df['reviews_per_month'].isnull().sum()"
   ]
  },
  {
   "cell_type": "markdown",
   "id": "4079ba6c",
   "metadata": {},
   "source": [
    "### Replace NaN values to 0 in  'last_review' column"
   ]
  },
  {
   "cell_type": "code",
   "execution_count": null,
   "id": "8430542a",
   "metadata": {},
   "outputs": [],
   "source": [
    "df['last_review'] = df['last_review'].fillna(value = 0)"
   ]
  },
  {
   "cell_type": "code",
   "execution_count": null,
   "id": "d7f45707",
   "metadata": {},
   "outputs": [],
   "source": [
    "df['last_review'].isnull().sum()"
   ]
  },
  {
   "cell_type": "code",
   "execution_count": null,
   "id": "c64169a1",
   "metadata": {},
   "outputs": [],
   "source": [
    "df.isnull().sum()"
   ]
  },
  {
   "cell_type": "code",
   "execution_count": null,
   "id": "928655d7",
   "metadata": {},
   "outputs": [],
   "source": [
    "df[df['host_name'].isnull()]"
   ]
  },
  {
   "cell_type": "markdown",
   "id": "f0f04195",
   "metadata": {},
   "source": [
    "### Use pandas. to_datetime() to Convert Integer to Date & Time Format"
   ]
  },
  {
   "cell_type": "code",
   "execution_count": null,
   "id": "a33abeb7",
   "metadata": {},
   "outputs": [],
   "source": [
    "# Below are some quick examples\n",
    "\n",
    "# Convert integers to datetime format\n",
    "# df['InsertedDate'] = pd.to_datetime(df['InsertedDate'], format='%Y%m%d')\n",
    "\n",
    "# Use pandas.to_datetime() and DataFrame.apply() with lambda function\n",
    "# df['InsertedDate'] = df['InsertedDate'].apply(lambda x: pd.to_datetime(str(x),format='%Y%m%d'))\n",
    "\n",
    "# Use series.astype() method to convert integers to datetime format\n",
    "# df['InsertedDate'] = pd.to_datetime(df['InsertedDate'].astype(str), format='%Y%m%d')\n",
    "\n",
    "# Use pandas.to_datetime() to convert integers to \"yymmdd\" format\n",
    "# df['InsertedDate'] = pd.to_datetime(df['InsertedDate'], format='%y%m%d')\n",
    "\n",
    "# Changing integer values to dates and time format\n",
    "# df['InsertedDate'] = pd.to_datetime(df['InsertedDate'], format='%Y%m%d%H%M%S')"
   ]
  },
  {
   "cell_type": "markdown",
   "id": "fcd516fc",
   "metadata": {},
   "source": [
    "### Convert \"last_review\" values to dateTime format"
   ]
  },
  {
   "cell_type": "markdown",
   "id": "b6974408",
   "metadata": {},
   "source": [
    "#### Assuming the int values provided in \"last_review\" are acounted since January 1, 1900, with January 1, 1900 being day 1"
   ]
  },
  {
   "cell_type": "code",
   "execution_count": null,
   "id": "200315d0",
   "metadata": {},
   "outputs": [],
   "source": [
    "df_clean = df"
   ]
  },
  {
   "cell_type": "code",
   "execution_count": null,
   "id": "24513ce3",
   "metadata": {},
   "outputs": [],
   "source": [
    "df.head()"
   ]
  },
  {
   "cell_type": "code",
   "execution_count": null,
   "id": "a66dc443",
   "metadata": {},
   "outputs": [],
   "source": [
    "df_clean['last_review'] = pd.to_datetime('1900-01-01') + pd.to_timedelta(df_clean['last_review'], unit='D')"
   ]
  },
  {
   "cell_type": "code",
   "execution_count": null,
   "id": "8456e4be",
   "metadata": {},
   "outputs": [],
   "source": [
    "df_clean.head(10)"
   ]
  },
  {
   "cell_type": "markdown",
   "id": "4b1c3143",
   "metadata": {},
   "source": [
    "<h2> Save clean data to .csv file <h/2>"
   ]
  },
  {
   "cell_type": "code",
   "execution_count": null,
   "id": "48384269",
   "metadata": {},
   "outputs": [],
   "source": [
    "# df_clean.to_csv('Airbnbclean.csv')"
   ]
  },
  {
   "cell_type": "markdown",
   "id": "708c405c",
   "metadata": {},
   "source": [
    "<br><h1 style=\"text-align:center\"> Pivot Tables </h1>"
   ]
  },
  {
   "cell_type": "code",
   "execution_count": null,
   "id": "056bb53c",
   "metadata": {},
   "outputs": [],
   "source": [
    "df_pivot = df_clean.pivot_table('price', ['host_id','borough','room_type'], aggfunc='max')"
   ]
  },
  {
   "cell_type": "code",
   "execution_count": null,
   "id": "f34baac9",
   "metadata": {},
   "outputs": [],
   "source": [
    "df_pivot.head()"
   ]
  },
  {
   "cell_type": "code",
   "execution_count": null,
   "id": "4a0db093",
   "metadata": {},
   "outputs": [],
   "source": [
    "df_pivotRating = df_clean.pivot_table('rating',['host_id','borough','room_type'], aggfunc='max')"
   ]
  },
  {
   "cell_type": "code",
   "execution_count": null,
   "id": "432a36ec",
   "metadata": {},
   "outputs": [],
   "source": [
    "df_pivotRating.head()"
   ]
  }
 ],
 "metadata": {
  "kernelspec": {
   "display_name": "Python 3 (ipykernel)",
   "language": "python",
   "name": "python3"
  },
  "language_info": {
   "codemirror_mode": {
    "name": "ipython",
    "version": 3
   },
   "file_extension": ".py",
   "mimetype": "text/x-python",
   "name": "python",
   "nbconvert_exporter": "python",
   "pygments_lexer": "ipython3",
   "version": "3.11.3"
  }
 },
 "nbformat": 4,
 "nbformat_minor": 5
}
