{
 "cells": [
  {
   "cell_type": "markdown",
   "id": "4880b119-8d33-4436-bd4a-ee443e18ce53",
   "metadata": {},
   "source": [
    "# Python Module 2: Welcome to Python!"
   ]
  },
  {
   "cell_type": "code",
   "execution_count": null,
   "id": "82d97e49-2a1f-43e8-b4b7-d1b5f81a2a0a",
   "metadata": {},
   "outputs": [],
   "source": [
    "# this is just a comment"
   ]
  },
  {
   "cell_type": "code",
   "execution_count": 35,
   "id": "13b85230-4b25-4f08-bc6f-d29d0efd2546",
   "metadata": {},
   "outputs": [],
   "source": [
    "string1 = 'tomorrow'"
   ]
  },
  {
   "cell_type": "code",
   "execution_count": 37,
   "id": "bdbedd8b-739e-49d5-82b7-f8db1f702e7f",
   "metadata": {},
   "outputs": [
    {
     "name": "stdout",
     "output_type": "stream",
     "text": [
      "tomorrow tomorrow and tomorrow\n"
     ]
    }
   ],
   "source": [
    "print (string1, string1, 'and', string1)"
   ]
  },
  {
   "cell_type": "code",
   "execution_count": 1,
   "id": "92b6bda9-8b2f-4518-aa8f-26eacc8cd4ff",
   "metadata": {},
   "outputs": [],
   "source": [
    "string2 = \"\"\"creeps in this petty pace\n",
    " from day to day\n",
    " to the last syllable of recorded time,\n",
    " and all our yesterdays have lighted fools\n",
    " the way to dusty death\"\"\""
   ]
  },
  {
   "cell_type": "code",
   "execution_count": 39,
   "id": "965a7366-8b95-4c6f-a1ed-3e58b12abd47",
   "metadata": {},
   "outputs": [
    {
     "name": "stdout",
     "output_type": "stream",
     "text": [
      "creeps in this petty pace\n",
      " from day to day\n",
      " to the last syllable of recorded time,\n",
      " and all our yesterdays have lighted fools\n",
      " the way to dusty death\n"
     ]
    }
   ],
   "source": [
    "print (string2)"
   ]
  },
  {
   "cell_type": "code",
   "execution_count": 2,
   "id": "9129aa52-b029-4afd-889e-92477b0607bc",
   "metadata": {},
   "outputs": [],
   "source": [
    "x=10\n",
    "y=9\n",
    "z=8"
   ]
  },
  {
   "cell_type": "code",
   "execution_count": 3,
   "id": "168c266d-df28-499a-a9d2-bb9089005757",
   "metadata": {},
   "outputs": [
    {
     "name": "stdout",
     "output_type": "stream",
     "text": [
      "19\n"
     ]
    }
   ],
   "source": [
    "print (x+y)"
   ]
  },
  {
   "cell_type": "code",
   "execution_count": 4,
   "id": "bc53e38d-6a06-487e-bfbd-1a9a67b2c13a",
   "metadata": {},
   "outputs": [
    {
     "name": "stdout",
     "output_type": "stream",
     "text": [
      "1\n"
     ]
    }
   ],
   "source": [
    "print (x-y)"
   ]
  },
  {
   "cell_type": "code",
   "execution_count": 5,
   "id": "d66b1644-682a-4127-81ae-56e50a81c540",
   "metadata": {},
   "outputs": [
    {
     "name": "stdout",
     "output_type": "stream",
     "text": [
      "90\n"
     ]
    }
   ],
   "source": [
    "print (x*y)"
   ]
  },
  {
   "cell_type": "code",
   "execution_count": 6,
   "id": "4664f90f-83f4-46ba-8f96-daa5526e99b5",
   "metadata": {},
   "outputs": [
    {
     "name": "stdout",
     "output_type": "stream",
     "text": [
      "1.1111111111111112\n"
     ]
    }
   ],
   "source": [
    "print (x/y)"
   ]
  },
  {
   "cell_type": "code",
   "execution_count": 7,
   "id": "9f9a6825-6755-4ff9-bb08-c43efcf4239c",
   "metadata": {},
   "outputs": [
    {
     "name": "stdout",
     "output_type": "stream",
     "text": [
      "1\n"
     ]
    }
   ],
   "source": [
    "print (x//y)"
   ]
  },
  {
   "cell_type": "code",
   "execution_count": 9,
   "id": "a1eb6918-8e9b-4e9f-9592-6071ede17c4b",
   "metadata": {},
   "outputs": [
    {
     "name": "stdout",
     "output_type": "stream",
     "text": [
      "1\n"
     ]
    }
   ],
   "source": [
    "print (x%y)"
   ]
  },
  {
   "cell_type": "code",
   "execution_count": 10,
   "id": "ce38df10-736a-478b-a6b2-560ba3e33ffe",
   "metadata": {},
   "outputs": [
    {
     "name": "stdout",
     "output_type": "stream",
     "text": [
      "1000000000\n"
     ]
    }
   ],
   "source": [
    "print (x**y)"
   ]
  },
  {
   "cell_type": "code",
   "execution_count": 11,
   "id": "bb5d5ca6-643e-4996-aeff-97b5671809d6",
   "metadata": {},
   "outputs": [
    {
     "name": "stdout",
     "output_type": "stream",
     "text": [
      "11.25\n"
     ]
    }
   ],
   "source": [
    "\n",
    "print (x*y/z)"
   ]
  },
  {
   "cell_type": "code",
   "execution_count": 23,
   "id": "02f8bab9-408c-4e47-a411-56a482c81f71",
   "metadata": {},
   "outputs": [
    {
     "data": {
      "text/plain": [
       "float"
      ]
     },
     "execution_count": 23,
     "metadata": {},
     "output_type": "execute_result"
    }
   ],
   "source": [
    "type (x)"
   ]
  },
  {
   "cell_type": "code",
   "execution_count": 25,
   "id": "187d685d-a3db-4c67-86fe-4715618ffbc0",
   "metadata": {},
   "outputs": [],
   "source": [
    " a = 4"
   ]
  },
  {
   "cell_type": "code",
   "execution_count": 26,
   "id": "f55664c5-fd82-4976-8524-a9cda020b31d",
   "metadata": {},
   "outputs": [
    {
     "data": {
      "text/plain": [
       "int"
      ]
     },
     "execution_count": 26,
     "metadata": {},
     "output_type": "execute_result"
    }
   ],
   "source": [
    "type (a)"
   ]
  },
  {
   "cell_type": "code",
   "execution_count": 29,
   "id": "69c125ae-662a-4db4-89a5-1765cc3e14f8",
   "metadata": {},
   "outputs": [],
   "source": [
    "b = 2 +5j"
   ]
  },
  {
   "cell_type": "code",
   "execution_count": 30,
   "id": "47309410-85b8-4e0e-b68c-2ffe8a8dd3b5",
   "metadata": {},
   "outputs": [
    {
     "data": {
      "text/plain": [
       "complex"
      ]
     },
     "execution_count": 30,
     "metadata": {},
     "output_type": "execute_result"
    }
   ],
   "source": [
    "type (b)"
   ]
  },
  {
   "cell_type": "code",
   "execution_count": 31,
   "id": "d311e1d3-7202-47ff-82f1-04cb5fca5c0c",
   "metadata": {},
   "outputs": [
    {
     "name": "stdout",
     "output_type": "stream",
     "text": [
      "False\n"
     ]
    }
   ],
   "source": [
    "print (4 > 5) "
   ]
  },
  {
   "cell_type": "code",
   "execution_count": 33,
   "id": "d8e16bbd-5e8b-430a-a557-a8f4ef9b9822",
   "metadata": {},
   "outputs": [
    {
     "name": "stdout",
     "output_type": "stream",
     "text": [
      "True\n"
     ]
    }
   ],
   "source": [
    "print (5 > 4)"
   ]
  },
  {
   "cell_type": "code",
   "execution_count": 34,
   "id": "781d9ddd-9ef5-4639-86a6-1ec71f788fbe",
   "metadata": {},
   "outputs": [
    {
     "name": "stdout",
     "output_type": "stream",
     "text": [
      "False\n"
     ]
    }
   ],
   "source": [
    "print (6==4)"
   ]
  },
  {
   "cell_type": "code",
   "execution_count": 5,
   "id": "29f7586b-be61-419c-82cb-61e649265412",
   "metadata": {},
   "outputs": [],
   "source": [
    "import math as m\n"
   ]
  },
  {
   "cell_type": "code",
   "execution_count": 11,
   "id": "9a2dd1fd-bebe-487b-a1ed-e66697630425",
   "metadata": {},
   "outputs": [
    {
     "name": "stdout",
     "output_type": "stream",
     "text": [
      "1.0\n"
     ]
    }
   ],
   "source": [
    "print (m.log10(10))"
   ]
  },
  {
   "cell_type": "code",
   "execution_count": null,
   "id": "d1f6050d-3803-43e4-b9de-0066927bc8db",
   "metadata": {},
   "outputs": [],
   "source": []
  }
 ],
 "metadata": {
  "kernelspec": {
   "display_name": "Python 3 (ipykernel)",
   "language": "python",
   "name": "python3"
  },
  "language_info": {
   "codemirror_mode": {
    "name": "ipython",
    "version": 3
   },
   "file_extension": ".py",
   "mimetype": "text/x-python",
   "name": "python",
   "nbconvert_exporter": "python",
   "pygments_lexer": "ipython3",
   "version": "3.9.7"
  }
 },
 "nbformat": 4,
 "nbformat_minor": 5
}
