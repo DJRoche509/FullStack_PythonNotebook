{
 "cells": [
  {
   "cell_type": "markdown",
   "id": "57e2ea31-1b31-430f-8a51-a850fe777424",
   "metadata": {},
   "source": [
    "# **Introduction to Pandas**"
   ]
  },
  {
   "cell_type": "markdown",
   "id": "cc10c3ba-dbcb-42d0-84e3-8664481576e5",
   "metadata": {},
   "source": [
    "**Today we will talk about**\n",
    "\n",
    "- Series\n",
    "- Dataframes\n",
    "- Exploring a dataset\n",
    "- Working with nulls\n",
    "- Transforming the data\n",
    "- String Methods\n",
    "- Joins\n",
    "- Pivot Tables\n",
    "- Crosstab \n",
    "- Group By"
   ]
  },
  {
   "cell_type": "code",
   "execution_count": null,
   "id": "55e3d401-36c6-4b2d-89f5-ab170f284da9",
   "metadata": {},
   "outputs": [],
   "source": [
    "import pandas as pd"
   ]
  },
  {
   "cell_type": "markdown",
   "id": "8f491e14-fb1e-45e0-a085-25429a9677d2",
   "metadata": {},
   "source": [
    "**Pandas** is a powerful and popular open-source data manipulation and analysis library for Python.  \n",
    "Developed by Wes McKinney in 2008, Pandas has become a go-to tool for data scientists, analysts, and developers due to its versatility and efficiency in handling large datasets.   \n",
    "The name \"Pandas\" is derived from the term \"panel data,\" which refers to multidimensional structured data sets commonly used in statistics and econometrics.   \n",
    "The library is built on top of **NumPy**, another fundamental Python library for numerical computing, and together they form a potent combination for data handling and manipulation tasks."
   ]
  },
  {
   "cell_type": "markdown",
   "id": "5dadacf1-b590-46a6-8acb-87cf160a056f",
   "metadata": {},
   "source": [
    "At the core of Pandas are two essential data structures: **Series** and **DataFrame**.  \n",
    "- The **Series** is a one-dimensional labeled array capable of holding any data type, such as integers, strings, or even custom objects. It is often likened to a labeled list or a column in a spreadsheet.  \n",
    "- The **DataFrame** is a two-dimensional tabular data structure resembling a spreadsheet or a SQL table. It consists of multiple Series, each sharing the same index, allowing for efficient data alignment and manipulation. Pandas excels at handling missing data, transforming and reshaping data, grouping and aggregating data, and performing various data operations like filtering, merging, and joining with ease."
   ]
  },
  {
   "cell_type": "markdown",
   "id": "19dfabc9-5190-4cf1-b6ee-5f86cde7f357",
   "metadata": {},
   "source": [
    "Pandas provides a plethora of functions to perform data analysis tasks quickly and intuitively. Whether you need to clean messy data, extract relevant information, or create insightful visualizations, Pandas simplifies the process. Its integration with other Python libraries like Matplotlib and Seaborn further enhances its capabilities, enabling users to produce appealing plots and charts directly from their datasets. Additionally, Pandas seamlessly integrates with databases and various file formats, such as CSV, Excel, SQL databases, and more, making it an indispensable tool in the data science workflow. As Pandas continues to evolve, it remains a fundamental library for data manipulation and analysis in Python, empowering users to extract valuable insights and make informed decisions from complex datasets."
   ]
  },
  {
   "cell_type": "code",
   "execution_count": null,
   "id": "6fe80f61-35d0-4bbc-92a8-0a7eded759c3",
   "metadata": {},
   "outputs": [],
   "source": [
    "print(dir(pd))"
   ]
  },
  {
   "cell_type": "code",
   "execution_count": null,
   "id": "25517c5d-50a5-4839-bbfd-5d3d38c9ef84",
   "metadata": {},
   "outputs": [],
   "source": [
    "def print_non_capital_strings(lst):\n",
    "    for string in lst:\n",
    "        if string[0].isalpha() and not string[0].isupper() and string[0] != '_':\n",
    "            print(string)\n",
    "\n",
    "# Sample list of strings\n",
    "my_list = dir(pd)\n",
    "\n",
    "# Printing the strings that do not start with a capital letter or an underscore\n",
    "print_non_capital_strings(my_list)"
   ]
  },
  {
   "cell_type": "markdown",
   "id": "20035003-cb75-4de9-a9fa-2cb748ccfbb9",
   "metadata": {},
   "source": [
    "# **Series**"
   ]
  },
  {
   "cell_type": "markdown",
   "id": "6949354a-ffd8-49ea-bc20-acf61707d862",
   "metadata": {},
   "source": [
    "- One dimensional data structure\n",
    "- Ordered, indexed, mutable\n",
    "- Covenient Aggregations\n",
    "- has a mutable index, similar to dictionary\n",
    "- Element by element calculations, without loops"
   ]
  },
  {
   "cell_type": "markdown",
   "id": "1c9b8907-616f-4c06-8bf2-4a0d593dcd1c",
   "metadata": {},
   "source": [
    "A one-dimensional labeled array that can hold data of various types, such as integers, strings, floating-point numbers, or even custom objects.  \n",
    "Each element in the Series has an associated label called an index, which allows for easy and efficient data retrieval and manipulation.  \n",
    "Series are the building blocks of DataFrames, another fundamental data structure in Pandas, and are commonly used to represent a single column or row of data.  \n",
    "[For more information on pandas series click here](https://pandas.pydata.org/docs/reference/api/pandas.Series.html)"
   ]
  },
  {
   "cell_type": "code",
   "execution_count": null,
   "id": "168f4f74-79ce-43fb-8998-be14a45f27ae",
   "metadata": {},
   "outputs": [],
   "source": [
    "# Creating a Series using a Python list\n",
    "temperatures = pd.Series([28, 32, 30, 25, 29])\n",
    "lst = [28, 32, 30, 25, 29]\n",
    "#print(lst)\n",
    "print(temperatures)\n",
    "#print(type(temperatures))"
   ]
  },
  {
   "cell_type": "code",
   "execution_count": null,
   "id": "d47e24dc-67ca-4f32-8fd8-df02d509805c",
   "metadata": {},
   "outputs": [],
   "source": [
    "def print_pandas_methods(lst):\n",
    "    for string in lst:\n",
    "        if string[0].isalpha() and not string[0].isupper() and string[0] != '_':\n",
    "            print(string)\n",
    "\n",
    "# Sample list of strings\n",
    "my_list = dir(temperatures)\n",
    "\n",
    "# Printing the strings that do not start with a capital letter or an underscore\n",
    "print_pandas_methods(my_list)"
   ]
  },
  {
   "cell_type": "markdown",
   "id": "c6eab18e-d85a-41e0-b21a-872fa0e39e56",
   "metadata": {},
   "source": [
    "The Series is automatically assigned numeric indices by default.   \n",
    "The data type of the Series elements is int64, as all the values in this example are integers."
   ]
  },
  {
   "cell_type": "code",
   "execution_count": null,
   "id": "208e2d33-f241-4477-834a-eb2c3c5d83cb",
   "metadata": {},
   "outputs": [],
   "source": [
    "temperatures"
   ]
  },
  {
   "cell_type": "code",
   "execution_count": null,
   "id": "2a17cc49-768d-453a-a2e7-1fa9dd7b6d0c",
   "metadata": {},
   "outputs": [],
   "source": [
    "# temperatures[0]\n",
    "# temperatures[1:3]\n",
    "# temperatures[-2:]"
   ]
  },
  {
   "cell_type": "code",
   "execution_count": null,
   "id": "44edb8b9-f511-4e5c-907f-b4b0c8e00bc5",
   "metadata": {},
   "outputs": [],
   "source": [
    "print(temperatures.head(3))"
   ]
  },
  {
   "cell_type": "markdown",
   "id": "d948fcf6-f850-4b4a-acb3-2691cbb38a39",
   "metadata": {},
   "source": [
    "[For more information about .head() click here](https://pandas.pydata.org/docs/reference/api/pandas.DataFrame.head.html)"
   ]
  },
  {
   "cell_type": "code",
   "execution_count": null,
   "id": "5854b43c-aa44-4455-b256-0edcdb500a5c",
   "metadata": {},
   "outputs": [],
   "source": [
    "print(temperatures.tail(4))"
   ]
  },
  {
   "cell_type": "markdown",
   "id": "89e3ae6c-be0b-4ef2-8541-05e3cc2cdc68",
   "metadata": {},
   "source": [
    "[For more information about .tail() click here](https://pandas.pydata.org/docs/reference/api/pandas.DataFrame.tail.html#pandas.DataFrame.tail)"
   ]
  },
  {
   "cell_type": "markdown",
   "id": "a66921a6-ad12-4d19-8238-74d09103bc7f",
   "metadata": {},
   "source": [
    "**Standard Aggregates**"
   ]
  },
  {
   "cell_type": "code",
   "execution_count": null,
   "id": "d6ce82b5-490e-46e3-acf7-43b0538fddfe",
   "metadata": {},
   "outputs": [],
   "source": [
    "print(temperatures.sum())\n",
    "print(temperatures.min())\n",
    "print(temperatures.mean())\n",
    "print(temperatures.max())\n",
    "print(round(temperatures.std(),2))"
   ]
  },
  {
   "cell_type": "markdown",
   "id": "b093b496-3f4c-48fb-ab95-d7beaf806934",
   "metadata": {},
   "source": [
    "**Custom Index Labels**"
   ]
  },
  {
   "cell_type": "markdown",
   "id": "c0ba8a11-1caa-4c9d-ae13-7e79f4344975",
   "metadata": {},
   "source": [
    "Pandas Series allows us to specify custom index labels to make the data more meaningful.   \n",
    "Let's create a Series representing the sales data for different products:"
   ]
  },
  {
   "cell_type": "code",
   "execution_count": null,
   "id": "c17bcd01-ebbf-4640-85cf-4a465793674d",
   "metadata": {},
   "outputs": [],
   "source": [
    "sales = pd.Series([7.95, 6.95, 8.00, 7.95], index=['Ham Sandwich', 'Turkey Sandwich', 'Chicken Parmesan', 'Roast Beef Sandwich'])\n",
    "\n",
    "print(sales)"
   ]
  },
  {
   "cell_type": "markdown",
   "id": "ce1ac32d-5654-4204-9654-8ccf36ffe8cb",
   "metadata": {},
   "source": [
    "**Arithmetic Operations with Series**"
   ]
  },
  {
   "cell_type": "markdown",
   "id": "fa20f58d-42f1-4c57-a06a-511bdf5dea06",
   "metadata": {},
   "source": [
    "Just like Numpy Arrays, Pandas Series support element-wise arithmetic operations.  \n",
    "Let's add two Series representing the number of customers for two different months:"
   ]
  },
  {
   "cell_type": "markdown",
   "id": "cab5a998-c89d-4896-b139-1ce5fb390684",
   "metadata": {},
   "source": [
    "**Creating two Series**"
   ]
  },
  {
   "cell_type": "code",
   "execution_count": null,
   "id": "929fa1eb-d386-4c8e-8431-167175bb062c",
   "metadata": {},
   "outputs": [],
   "source": [
    "sandwich_prices = pd.Series([7.95, 6.95, 8.00, 7.95], index=['Ham Sandwich', 'Turkey Sandwich', 'Chicken Parmesan', 'Roast Beef Sandwich'])\n",
    "sandwich_sales_quantity = pd.Series([100, 80, 900, 125], index=['Ham Sandwich', 'Turkey Sandwich', 'Chicken Parmesan', 'Roast Beef Sandwich'])\n",
    "print(\"Sandwich Prices\")\n",
    "print(sandwich_prices)\n",
    "print(\"Sales Quantity\")\n",
    "print(sandwich_sales_quantity)"
   ]
  },
  {
   "cell_type": "markdown",
   "id": "1654ca74-8ffe-4f2f-8aba-0b5d289fe61e",
   "metadata": {},
   "source": [
    "**Multiplying the two Series**"
   ]
  },
  {
   "cell_type": "code",
   "execution_count": null,
   "id": "5b78a473-0da8-4be8-9209-2b27b257e97b",
   "metadata": {},
   "outputs": [],
   "source": [
    "total_sandwich_sales = sandwich_prices * sandwich_sales_quantity\n",
    "print(total_sandwich_sales)"
   ]
  },
  {
   "cell_type": "markdown",
   "id": "bd1fcced-2f26-4c4d-8e49-20462c8debef",
   "metadata": {},
   "source": [
    "The complexity of the arithmetic and the number of series is arbitrary so long as the rules of operations are followed and the sizes of the series are compatible."
   ]
  },
  {
   "cell_type": "code",
   "execution_count": null,
   "id": "f52ace92-9bd0-4ac3-ba89-ee586ba4926e",
   "metadata": {},
   "outputs": [],
   "source": [
    "series1 = pd.Series([1, 2, 3, 4])\n",
    "series2 = pd.Series([\"a\", \"b\", \"c\", \"d\"])\n",
    "series3 = series1 * series2\n",
    "print(series3)"
   ]
  },
  {
   "cell_type": "markdown",
   "id": "1052a480-5ffa-476f-ba58-cfae90fc6de9",
   "metadata": {},
   "source": [
    "# **Dataframes**"
   ]
  },
  {
   "cell_type": "markdown",
   "id": "d7065691-41d5-42b7-91f6-5f6fcfdd176f",
   "metadata": {},
   "source": [
    "A two-dimensional tabular data structure that resembles a spreadsheet or a SQL table. It consists of rows and columns, where each column can hold data of different types. DataFrames are highly versatile and are capable of handling large datasets efficiently. They provide a powerful and easy-to-use interface for data manipulation, analysis, and exploration. DataFrames are widely used in data science, as they allow users to organize, clean, filter, aggregate, and visualize data with ease.  \n",
    "\n",
    "[To learn more about dataframes click here](https://pandas.pydata.org/docs/reference/api/pandas.DataFrame.html)"
   ]
  },
  {
   "cell_type": "code",
   "execution_count": null,
   "id": "4b8a9ab4-41a4-4151-a7c2-0b7779d146cd",
   "metadata": {},
   "outputs": [],
   "source": [
    "# Creating a DataFrame from a dictionary\n",
    "data = {\n",
    "    'Name': ['Alice', 'Bob', 'Charlie', 'David', 'Eva'],\n",
    "    'Age': [25, 23, 22, 26, 24],\n",
    "    'Grade': [85, 92, 78, 88, 95]\n",
    "}\n",
    "\n",
    "df = pd.DataFrame(data)\n",
    "\n",
    "print(df)"
   ]
  },
  {
   "cell_type": "markdown",
   "id": "6775d1ef-26a7-429e-83d5-d6574e32493b",
   "metadata": {},
   "source": [
    "Jupyter has a special format for displaying dataframes without printing."
   ]
  },
  {
   "cell_type": "code",
   "execution_count": null,
   "id": "15f2ee3c-02f9-46fa-9b1c-c2c5667ce679",
   "metadata": {},
   "outputs": [],
   "source": [
    "df"
   ]
  },
  {
   "cell_type": "markdown",
   "id": "0979466a-86eb-4ede-80b6-b1a00876c601",
   "metadata": {},
   "source": [
    "**Data Manipulation with DataFrames**\n",
    "\n",
    "DataFrames offer various methods and functionalities for data manipulation.   \n",
    "Let's add a new column to an existing DataFrame to calculate the total revenue for each product:"
   ]
  },
  {
   "cell_type": "code",
   "execution_count": null,
   "id": "e8d800d7-c875-46cd-a1d6-7e1474bb0ab8",
   "metadata": {},
   "outputs": [],
   "source": [
    "# Existing DataFrame\n",
    "data = {'Product': ['Xbox', 'Playstation', 'Switch', 'PC'],\n",
    "        'Number of Sales': [200, 320, 408, 250]}\n",
    "\n",
    "df = pd.DataFrame(data)\n",
    "df"
   ]
  },
  {
   "cell_type": "markdown",
   "id": "ef6b7c1d-9b41-4bce-ae45-543c73dfc7a4",
   "metadata": {},
   "source": [
    "**Sorting**"
   ]
  },
  {
   "cell_type": "code",
   "execution_count": null,
   "id": "4a20c092-e469-4d83-89cf-329e7e53feab",
   "metadata": {},
   "outputs": [],
   "source": [
    "# We sorted our dataframe by 'Number of Sales' desc\n",
    "df_sorted_by_number_of_sales = df.sort_values(by='Number of Sales', ascending= False)\n",
    "# We reset the index so that top value was at index 0 and the other values were in order\n",
    "df_sorted_by_number_of_sales = df_sorted_by_number_of_sales.reset_index(drop = True)\n",
    "# final product\n",
    "df_sorted_by_number_of_sales"
   ]
  },
  {
   "cell_type": "code",
   "execution_count": null,
   "id": "4f81e620-ac33-435d-bb53-339536987834",
   "metadata": {},
   "outputs": [],
   "source": [
    "# Adding a new column to calculate total revenue\n",
    "df_sorted_by_number_of_sales['Price'] = [300, 500, 1000, 500]\n",
    "df_sorted_by_number_of_sales['Total Revenue'] = df_sorted_by_number_of_sales['Number of Sales'] * df_sorted_by_number_of_sales['Price']\n",
    "\n",
    "df_sorted_by_number_of_sales"
   ]
  },
  {
   "cell_type": "markdown",
   "id": "f2ca995d-b3eb-495d-9732-7022a33c54b3",
   "metadata": {},
   "source": [
    "**Challenge**"
   ]
  },
  {
   "cell_type": "markdown",
   "id": "3d8a3107-58cf-44db-b31c-bf5a2f7ac5fe",
   "metadata": {},
   "source": [
    "Add a new column called \"Total Revenue with Taxes\" that shows what the total revenue would be if the New York City sales tax of 8.8% was applied."
   ]
  },
  {
   "cell_type": "code",
   "execution_count": null,
   "id": "b118916b-0c4f-42d4-8642-ab338553d4e6",
   "metadata": {},
   "outputs": [],
   "source": [
    "df_sorted_by_number_of_sales['Total Revenue with Taxes'] = df_sorted_by_number_of_sales['Total Revenue'] * 0.088 + df_sorted_by_number_of_sales['Total Revenue']\n",
    "df_sorted_by_number_of_sales"
   ]
  },
  {
   "cell_type": "markdown",
   "id": "548ef1fb-aac2-456e-a0e9-6878f91e5849",
   "metadata": {},
   "source": [
    "# **Importing CSVs**"
   ]
  },
  {
   "cell_type": "code",
   "execution_count": null,
   "id": "8dff31a1-e8fb-4bb1-be41-d1ae3012c0ef",
   "metadata": {},
   "outputs": [],
   "source": [
    "#Import the CSV into pandas as dataframe 'df'\n",
    "df = pd.read_csv(\"data/countries_of_the_world.csv\")"
   ]
  },
  {
   "cell_type": "markdown",
   "id": "7c59fac3-065d-4f73-bc10-2e1c1c22b0d9",
   "metadata": {},
   "source": [
    "[For more information pd.read_csv() click here](https://pandas.pydata.org/docs/reference/api/pandas.read_csv.html)"
   ]
  },
  {
   "cell_type": "markdown",
   "id": "f1e9aa8f-836d-4a9c-b981-72e522dd4d1f",
   "metadata": {},
   "source": [
    "-> Click **Shift + Tab** inside the function to see **\"Help\"**, it's list of possible inputs and options"
   ]
  },
  {
   "cell_type": "code",
   "execution_count": null,
   "id": "22edd60e-9997-4a6e-be5e-4d3f908f671e",
   "metadata": {},
   "outputs": [],
   "source": [
    "#df\n",
    "#type(df)\n",
    "#df.shape\n",
    "#df.describe()\n",
    "#df.info()\n",
    "#df.tail(2)\n",
    "#df.columns"
   ]
  },
  {
   "cell_type": "markdown",
   "id": "27300085-18ee-4e98-873d-47299b88d61c",
   "metadata": {},
   "source": [
    "**Display Max Rows and Max Columns**"
   ]
  },
  {
   "cell_type": "code",
   "execution_count": null,
   "id": "0e377bca-a256-4a0c-abcd-4cf8b7bcf704",
   "metadata": {},
   "outputs": [],
   "source": [
    "#pd.set_option('display.max_rows', 10)\n",
    "#pd.set_option('display.max_columns', 10)"
   ]
  },
  {
   "cell_type": "markdown",
   "id": "6d31448f-f41d-4400-b695-074ce272ea9c",
   "metadata": {},
   "source": [
    "Import the provided data"
   ]
  },
  {
   "cell_type": "code",
   "execution_count": null,
   "id": "59124033-180e-4ba6-a301-0f7236fd26b3",
   "metadata": {},
   "outputs": [],
   "source": [
    "df.head(2)"
   ]
  },
  {
   "cell_type": "markdown",
   "id": "d5fe0740-e6a7-4907-a033-ea38bf910ad4",
   "metadata": {},
   "source": [
    "[For more information about df.head() click here](https://pandas.pydata.org/docs/reference/api/pandas.DataFrame.head.html)"
   ]
  },
  {
   "cell_type": "code",
   "execution_count": null,
   "id": "e94f3b83-4cc3-4512-8a91-aada0072200b",
   "metadata": {},
   "outputs": [],
   "source": [
    "df.tail(1)"
   ]
  },
  {
   "cell_type": "markdown",
   "id": "d625436b-6684-4bf6-bb21-74a214ac148b",
   "metadata": {},
   "source": [
    "[For more information about df.tail() click here](https://pandas.pydata.org/docs/reference/api/pandas.DataFrame.tail.html#pandas.DataFrame.tail)"
   ]
  },
  {
   "cell_type": "code",
   "execution_count": null,
   "id": "96bd12ec-7adb-439c-8bcc-1632ef16e344",
   "metadata": {},
   "outputs": [],
   "source": [
    "df.describe() #Only useful for columns recognized as numeric"
   ]
  },
  {
   "cell_type": "markdown",
   "id": "ec6f4762-ae9e-47a5-b73f-e61a9874a555",
   "metadata": {},
   "source": [
    "[For more information about df.describe() click here](https://pandas.pydata.org/docs/reference/api/pandas.DataFrame.describe.html)"
   ]
  },
  {
   "cell_type": "code",
   "execution_count": null,
   "id": "0d67dbc2-e6e2-4bf3-8343-a9daec969453",
   "metadata": {},
   "outputs": [],
   "source": [
    "df.info()"
   ]
  },
  {
   "cell_type": "markdown",
   "id": "0050f56a-fab5-49b1-9426-1ad1f3bb0e66",
   "metadata": {},
   "source": [
    "[For more information about df.info() click here](https://pandas.pydata.org/docs/reference/api/pandas.DataFrame.info.html)"
   ]
  },
  {
   "cell_type": "code",
   "execution_count": null,
   "id": "e2270786-aec6-45aa-8056-18e1c198fead",
   "metadata": {},
   "outputs": [],
   "source": [
    "df.columns"
   ]
  },
  {
   "cell_type": "markdown",
   "id": "427c40c1-2675-4036-9675-cc75e333155a",
   "metadata": {},
   "source": [
    "## Removing columns"
   ]
  },
  {
   "cell_type": "markdown",
   "id": "45cd2f37-f59b-44c2-9ed7-890596456531",
   "metadata": {},
   "source": [
    "Create a new dataframe 'df1 by using the **df.drop()** function to remove the following columns: 'Arable (%)', 'Crops (%)', 'Other (%)', 'Climate', 'Agriculture'\n",
    "\n",
    "- df1 = df.drop(columns = ['Column Name 1', 'Column Name 2', ...])"
   ]
  },
  {
   "cell_type": "code",
   "execution_count": null,
   "id": "7ee19a1e-29c6-4e10-b2a8-6f02b04f694a",
   "metadata": {},
   "outputs": [],
   "source": [
    "df1 = df.drop(columns =['Arable (%)', 'Crops (%)', 'Other (%)', 'Climate', 'Agriculture'])\n",
    "df1.info()"
   ]
  },
  {
   "cell_type": "code",
   "execution_count": null,
   "id": "5401d0d6-5ffd-4b50-8aa3-2af8f4c171f8",
   "metadata": {},
   "outputs": [],
   "source": [
    "df1.head(2)"
   ]
  },
  {
   "cell_type": "markdown",
   "id": "340b084b-99b1-47f7-8176-7d71fc38fa10",
   "metadata": {},
   "source": [
    "## Converting data to appropriate type"
   ]
  },
  {
   "cell_type": "markdown",
   "id": "913bfa6f-c6ac-4bd1-acc0-19bb9b8d5af1",
   "metadata": {},
   "source": [
    "Replace comma (,) character with the period (.) for all cells in the ' Pop. Density (per sq. mi.)' column\n",
    "- df['column name'] = df['column name'].str.replace('old character','new character')  \n",
    "- Use **df.head()** to confirm results\n",
    "\n"
   ]
  },
  {
   "cell_type": "code",
   "execution_count": null,
   "id": "60f1ce5a-276b-4409-bbff-8f5e0ecbd0cf",
   "metadata": {},
   "outputs": [],
   "source": [
    "df1['Pop. Density (per sq. mi.)'] = df1['Pop. Density (per sq. mi.)'].str.replace(',','.') "
   ]
  },
  {
   "cell_type": "code",
   "execution_count": null,
   "id": "8ca97d11-d907-4dc0-8355-4d6d72e88249",
   "metadata": {},
   "outputs": [],
   "source": [
    "df1.tail(2)"
   ]
  },
  {
   "cell_type": "code",
   "execution_count": null,
   "id": "e78efcbd-dec8-4e8a-bbe4-aa4bcd897183",
   "metadata": {},
   "outputs": [],
   "source": [
    "#df1.info()"
   ]
  },
  {
   "cell_type": "markdown",
   "id": "78648114-e3b5-4a98-9430-c873b7d09e8b",
   "metadata": {},
   "source": [
    "Because the comma (,) is used exclusively in numeric fields we can replace it for the whole table\n",
    "\n",
    "- df = df.replace('old character','new character', regex=True)\n",
    "- Use df.head() to confirm results"
   ]
  },
  {
   "cell_type": "code",
   "execution_count": null,
   "id": "f10fe3c0-171d-4bdf-bec6-ec31b4b8c888",
   "metadata": {},
   "outputs": [],
   "source": [
    "df1 = df1.replace(',','.', regex=True)\n",
    "df1.head(2)"
   ]
  },
  {
   "cell_type": "code",
   "execution_count": null,
   "id": "565c023c-9f44-4919-9291-1e90915ad7c1",
   "metadata": {},
   "outputs": [],
   "source": [
    "df1.info()"
   ]
  },
  {
   "cell_type": "markdown",
   "id": "a29855d3-e672-4b21-adc8-05ff829efe65",
   "metadata": {},
   "source": [
    "## **String Methods**"
   ]
  },
  {
   "cell_type": "markdown",
   "id": "9f00fab2-811b-4b65-a3da-f470cf28bfec",
   "metadata": {},
   "source": [
    "**Replace each string in pandas.Series**  \n",
    "- str.replace() \n",
    "\n",
    "[For more information on str.replace() click here](https://pandas.pydata.org/docs/reference/api/pandas.Series.str.replace.html)  \n",
    "\n",
    "**Strip each string in pandas.Series**   \n",
    "- str.strip()  \n",
    "- str.lstrip()  \n",
    "- str.rstrip()   \n",
    "\n",
    "[For more information on str.strip() click here](https://pandas.pydata.org/docs/reference/api/pandas.Series.str.strip.html)\n",
    "\n",
    "**Convert the case of each string in pandas.Series** \n",
    "- str.lower()  \n",
    "- str.upper()  \n",
    "- str.capitalize()  \n",
    "- str.title()\n",
    "\n",
    "**Split strings around given separator/delimiter from the beginning, at the specified delimiter string**\n",
    "- str.split()    \n",
    "\n",
    "[For more information on str.strip() click here](https://pandas.pydata.org/docs/reference/api/pandas.Series.str.split.html)\n",
    "\n",
    "**Check, True or False, if record contains string**\n",
    "\n",
    "- str.contains()\n"
   ]
  },
  {
   "cell_type": "code",
   "execution_count": null,
   "id": "3437160f-dacc-403d-844e-5fd43d3025bd",
   "metadata": {},
   "outputs": [],
   "source": [
    "df1.head(1)"
   ]
  },
  {
   "cell_type": "code",
   "execution_count": null,
   "id": "e57876cc-1bb2-4a98-83e5-9cf0742e609f",
   "metadata": {},
   "outputs": [],
   "source": [
    "df1['Region'] = df1['Region'].str.title()"
   ]
  },
  {
   "cell_type": "code",
   "execution_count": null,
   "id": "1c7e4455-eaa9-47ac-bcdc-e772aa759d65",
   "metadata": {},
   "outputs": [],
   "source": [
    "df1.head(0)"
   ]
  },
  {
   "cell_type": "markdown",
   "id": "4ee0632e-19c1-4c68-ade6-6404fdde63a8",
   "metadata": {},
   "source": [
    "#### How many countries have the name Africa or America in title"
   ]
  },
  {
   "cell_type": "code",
   "execution_count": null,
   "id": "d6dd1e64-658c-40bd-8c48-65db40b1f387",
   "metadata": {},
   "outputs": [],
   "source": [
    "df['Country'].str.contains('Africa|America').sum()"
   ]
  },
  {
   "cell_type": "markdown",
   "id": "be73b70e-eb97-4cdf-8b39-3b7890f3678c",
   "metadata": {},
   "source": [
    "#### Show all rows containing string"
   ]
  },
  {
   "cell_type": "code",
   "execution_count": null,
   "id": "a9210ff3-3ea9-4590-89a1-d54113afd4a6",
   "metadata": {},
   "outputs": [],
   "source": [
    "df[df['Country'].str.contains('Africa|America')]"
   ]
  },
  {
   "cell_type": "markdown",
   "id": "7d305123-79de-496a-bf2f-63286923817a",
   "metadata": {},
   "source": [
    "## Converting Type for single column"
   ]
  },
  {
   "cell_type": "code",
   "execution_count": null,
   "id": "2b3c02f3-84e6-4b5a-9883-80f2a952e120",
   "metadata": {},
   "outputs": [],
   "source": [
    "# convert \"Pop Density\" from string to float\n",
    "df1['Pop. Density (per sq. mi.)'] = df1['Pop. Density (per sq. mi.)'].astype(float)\n",
    "df1.head(2)"
   ]
  },
  {
   "cell_type": "code",
   "execution_count": null,
   "id": "a383cad2-d2be-4c65-977e-de4dde305921",
   "metadata": {},
   "outputs": [],
   "source": [
    "df1.info()"
   ]
  },
  {
   "cell_type": "code",
   "execution_count": null,
   "id": "64175028-d4cb-4756-bab9-0f86d259a91b",
   "metadata": {},
   "outputs": [],
   "source": [
    "## Convert multiple columns  \n",
    "df1 = df1.astype({'Coastline (coast/area ratio)':'float','Net migration':'float','Infant mortality (per 1000 births)':'float','GDP ($ per capita)':'float','Literacy (%)':'float','Phones (per 1000)':'float','Birthrate':'float','Deathrate':'float'})"
   ]
  },
  {
   "cell_type": "code",
   "execution_count": null,
   "id": "c26bd9fc-48a7-4cec-b6ca-4890780916e4",
   "metadata": {},
   "outputs": [],
   "source": [
    "df1.info()"
   ]
  },
  {
   "cell_type": "code",
   "execution_count": null,
   "id": "5899677a-7a8f-4694-8d3e-7460ce2b4600",
   "metadata": {},
   "outputs": [],
   "source": [
    "#df1.describe()"
   ]
  },
  {
   "cell_type": "code",
   "execution_count": null,
   "id": "11b7fa8a-85f5-421d-9bb5-cfd8993776ae",
   "metadata": {},
   "outputs": [],
   "source": [
    "# Rounding is performed last on the whole output of the aggregation\n",
    "print(round(df1['Population'].mean(),2))\n",
    "print('The mean Area is: ' + str(round(df['Area (sq. mi.)'].mean(),2)) + \" square miles.\")"
   ]
  },
  {
   "cell_type": "markdown",
   "id": "bdca1e9d-680a-436a-8466-1b0bd1de3a2f",
   "metadata": {},
   "source": [
    "#### How many countries have the name Africa or America in title"
   ]
  },
  {
   "cell_type": "code",
   "execution_count": null,
   "id": "0bc33792-7614-4995-907f-1203dec13a20",
   "metadata": {},
   "outputs": [],
   "source": [
    "df1['Country']"
   ]
  },
  {
   "cell_type": "code",
   "execution_count": null,
   "id": "299918e7-472a-4d00-b5c9-36df5b6342bc",
   "metadata": {},
   "outputs": [],
   "source": [
    "df1['Country'].str.contains('Africa|America')"
   ]
  },
  {
   "cell_type": "code",
   "execution_count": null,
   "id": "0a5271fa-c069-425d-9063-c010f2940b5e",
   "metadata": {},
   "outputs": [],
   "source": [
    "df1['Country'].str.contains('Africa|America').value_counts()"
   ]
  },
  {
   "cell_type": "code",
   "execution_count": null,
   "id": "75bfe4a1-562d-46cd-ae3c-c277ea615eec",
   "metadata": {},
   "outputs": [],
   "source": [
    "df1['Country'].str.contains('Africa|America').value_counts()[True]"
   ]
  },
  {
   "cell_type": "markdown",
   "id": "aa6c10ac-77ba-48b2-87c1-5aa8d29b2841",
   "metadata": {},
   "source": [
    "#### Show all rows containing string"
   ]
  },
  {
   "cell_type": "code",
   "execution_count": null,
   "id": "7cf5087e-cc63-497e-8de9-421ff52b7297",
   "metadata": {},
   "outputs": [],
   "source": [
    "df1[df1['Country'].str.contains('Africa|America')] #SELECT * FROM df1 WHERE Country IN ('Africa','America')"
   ]
  },
  {
   "cell_type": "markdown",
   "id": "13bcc9ed-e185-4444-bd57-96cb0d006799",
   "metadata": {},
   "source": [
    "# **Working with nulls**"
   ]
  },
  {
   "cell_type": "markdown",
   "id": "8b9d9e59-a7f4-4d40-a9a4-c33846fe20c7",
   "metadata": {},
   "source": [
    "#### **Identifying Nulls**"
   ]
  },
  {
   "cell_type": "markdown",
   "id": "96dd9fdf-7fa4-4d06-a910-d28f648c3698",
   "metadata": {},
   "source": [
    "We can clearly see that though there are 235 rows in the table not all columns contain 235 non-null objects. This fact implies that there are Nulls present in those columns.  \n",
    "Let's look for nulls with df.isnull()  \n",
    "[For more information about df.isnull() click here](https://pandas.pydata.org/docs/reference/api/pandas.DataFrame.isnull.html)\n"
   ]
  },
  {
   "cell_type": "code",
   "execution_count": null,
   "id": "d30668d7-2f16-40a1-9af8-2c5999be0d82",
   "metadata": {},
   "outputs": [],
   "source": [
    "df.isnull() # This is not, in itself, super useful"
   ]
  },
  {
   "cell_type": "code",
   "execution_count": null,
   "id": "60d08855-e756-45d9-8fa7-4dcd00c34686",
   "metadata": {},
   "outputs": [],
   "source": [
    "df.isnull().sum()"
   ]
  },
  {
   "cell_type": "markdown",
   "id": "37821a4d-d151-47f2-bf0e-292d1b62afa2",
   "metadata": {},
   "source": [
    "#### **Finding Nulls in a Column**"
   ]
  },
  {
   "cell_type": "code",
   "execution_count": null,
   "id": "096666c8-76d2-486a-ad81-c4be789c7e78",
   "metadata": {},
   "outputs": [],
   "source": [
    "df.isnull().sum().sum()"
   ]
  },
  {
   "cell_type": "code",
   "execution_count": null,
   "id": "d6ada37d-ef36-4c72-b5f9-05465209a2c5",
   "metadata": {},
   "outputs": [],
   "source": [
    "df.loc[:,'Climate'].isnull().sum() # .sum() works because True is coded as 1 and False is coded as 0"
   ]
  },
  {
   "cell_type": "code",
   "execution_count": null,
   "id": "fc7493d9-a08c-4596-ab1e-df9d35be3b71",
   "metadata": {},
   "outputs": [],
   "source": [
    "df.isnull().sum().sum() # gives us a total aggregate of nulls"
   ]
  },
  {
   "cell_type": "markdown",
   "id": "cdf6f660-50e1-4257-88cd-c8060143cd80",
   "metadata": {},
   "source": [
    "#### **Display rows with nulls**"
   ]
  },
  {
   "cell_type": "markdown",
   "id": "888293e5-1f61-4c81-b25b-aa9c71205c20",
   "metadata": {},
   "source": [
    "#### **There is no functional difference between the `isna()` and `isnull` methods**"
   ]
  },
  {
   "cell_type": "markdown",
   "id": "deeb9f32-1f87-4e80-9725-372750341298",
   "metadata": {},
   "source": [
    "##### For entire dataframe"
   ]
  },
  {
   "cell_type": "code",
   "execution_count": null,
   "id": "04f24bdc-3a41-4459-afe4-5e92882a6285",
   "metadata": {},
   "outputs": [],
   "source": [
    "#df[df.isnull().any(axis=1)]\n",
    "#df[df.isna().any(axis=1)]"
   ]
  },
  {
   "cell_type": "markdown",
   "id": "2995b8a2-271b-4944-92c2-d09cb77dd0d5",
   "metadata": {},
   "source": [
    "##### For a column"
   ]
  },
  {
   "cell_type": "code",
   "execution_count": null,
   "id": "2ebbff78-b4d6-467a-a876-d4e27e1deca9",
   "metadata": {},
   "outputs": [],
   "source": [
    "#df[df['Deathrate'].isnull()]\n",
    "#df[df['Deathrate'].isna()]"
   ]
  },
  {
   "cell_type": "markdown",
   "id": "c3b4918a-9925-4884-9164-e6fe8db4bead",
   "metadata": {},
   "source": [
    "#### **Replacing Nulls**"
   ]
  },
  {
   "cell_type": "markdown",
   "id": "ccf672fe-bf98-4d1e-8275-68904124238d",
   "metadata": {},
   "source": [
    "`df.fillna()` replaces NA/NaN values using the specified method.\n",
    "\n",
    "[For more information about df.fillna() click here](https://pandas.pydata.org/docs/reference/api/pandas.DataFrame.fillna.html)"
   ]
  },
  {
   "cell_type": "code",
   "execution_count": null,
   "id": "263124cb-e856-42a0-a75d-5e5689624652",
   "metadata": {},
   "outputs": [],
   "source": [
    "df1 = df.fillna(value = 0)"
   ]
  },
  {
   "cell_type": "code",
   "execution_count": null,
   "id": "a908d826-d20a-4e37-9b4f-3c42c0f14b32",
   "metadata": {},
   "outputs": [],
   "source": [
    "df1"
   ]
  },
  {
   "cell_type": "code",
   "execution_count": null,
   "id": "a231ef20-7e9a-4d02-81ce-97ee82eb978a",
   "metadata": {},
   "outputs": [],
   "source": [
    "df1.isnull().sum().sum()"
   ]
  },
  {
   "cell_type": "code",
   "execution_count": null,
   "id": "572ade41-8cbc-43ae-adc1-751f9ac7cf99",
   "metadata": {},
   "outputs": [],
   "source": [
    "df1.info()"
   ]
  },
  {
   "cell_type": "markdown",
   "id": "726d1c12-f60b-42c4-87d2-a50085732c29",
   "metadata": {},
   "source": [
    "#### **Removing Nulls** "
   ]
  },
  {
   "cell_type": "markdown",
   "id": "ea19408f-3d46-4810-b811-1dbf05dd7d29",
   "metadata": {},
   "source": [
    "`df.dropna()` removes columns or rows containing missing values."
   ]
  },
  {
   "cell_type": "code",
   "execution_count": null,
   "id": "5904e8f8-de77-4a6c-9716-943b5225a1b4",
   "metadata": {},
   "outputs": [],
   "source": [
    "df2 = df.dropna()"
   ]
  },
  {
   "cell_type": "code",
   "execution_count": null,
   "id": "a73ccf50-c2c6-4038-8709-1d14f64df901",
   "metadata": {},
   "outputs": [],
   "source": [
    "df2.info()"
   ]
  },
  {
   "cell_type": "markdown",
   "id": "063091e0-fa07-4c16-8b6f-154fd93f3eef",
   "metadata": {},
   "source": [
    "[For more information on the df.dropna() method click here](https://pandas.pydata.org/docs/reference/api/pandas.DataFrame.dropna.html)"
   ]
  },
  {
   "cell_type": "markdown",
   "id": "82042779-ff7e-41f8-9210-db61c4e94fc6",
   "metadata": {
    "tags": []
   },
   "source": [
    "#### **Identifying Duplicates**"
   ]
  },
  {
   "cell_type": "markdown",
   "id": "c9d78d90-409c-4f5b-99fe-291a322623a8",
   "metadata": {},
   "source": [
    "`df.duplicated()` returns boolean Series denoting duplicate rows.\n",
    "\n",
    "[For more information about df.duplicated() click here](https://pandas.pydata.org/docs/reference/api/pandas.DataFrame.duplicated.html)"
   ]
  },
  {
   "cell_type": "code",
   "execution_count": null,
   "id": "55b5c03e-501b-4876-99f6-38318326fe2b",
   "metadata": {},
   "outputs": [],
   "source": [
    "df.duplicated()"
   ]
  },
  {
   "cell_type": "code",
   "execution_count": null,
   "id": "a5015b3b-d101-4d35-8d49-87a149e2f0d7",
   "metadata": {},
   "outputs": [],
   "source": [
    "df.duplicated().sum()"
   ]
  },
  {
   "cell_type": "markdown",
   "id": "95a89888-7e07-4fe9-97ff-3e2418677ca5",
   "metadata": {},
   "source": [
    "#### **Extract duplicates**"
   ]
  },
  {
   "cell_type": "code",
   "execution_count": null,
   "id": "7854fc9e-86fe-44e6-9995-2b2fce545a81",
   "metadata": {},
   "outputs": [],
   "source": [
    "df.loc[df.duplicated()]\n",
    "#df.loc[df.duplicated(),'Population':'Net migration']"
   ]
  },
  {
   "cell_type": "markdown",
   "id": "9955079c-5174-41cb-a3e9-6ec5f96f6542",
   "metadata": {},
   "source": [
    "#### **Removing Duplicates**"
   ]
  },
  {
   "cell_type": "markdown",
   "id": "2c9b96e6-bb5c-4f5c-8594-ac3d59e5b085",
   "metadata": {},
   "source": [
    "`df.drop_duplicates()` returns DataFrame with duplicate rows removed."
   ]
  },
  {
   "cell_type": "code",
   "execution_count": null,
   "id": "e2ee3266-a2e6-499c-8e1b-3563b496e8f9",
   "metadata": {},
   "outputs": [],
   "source": [
    "df_no_dupes = df.drop_duplicates()"
   ]
  },
  {
   "cell_type": "code",
   "execution_count": null,
   "id": "f9f1b230-2c67-42ea-8e37-53804205ddc1",
   "metadata": {},
   "outputs": [],
   "source": [
    "df_no_dupes.duplicated().sum()"
   ]
  },
  {
   "cell_type": "code",
   "execution_count": null,
   "id": "168fb181-683b-44f3-9a3e-548f9544153a",
   "metadata": {},
   "outputs": [],
   "source": [
    "df_no_dupes.shape"
   ]
  },
  {
   "cell_type": "code",
   "execution_count": null,
   "id": "225c3960-561e-47dd-9636-4ff9e49a343e",
   "metadata": {},
   "outputs": [],
   "source": [
    "df_no_dupes"
   ]
  },
  {
   "cell_type": "markdown",
   "id": "3884ed13-3bd1-4b67-8043-3575f31a8fc6",
   "metadata": {},
   "source": [
    "##### Removing the duplicate rows resulted in a non sequential index where index 8 is missing. To reset the indes use `df.reset_index()`"
   ]
  },
  {
   "cell_type": "code",
   "execution_count": null,
   "id": "48ec3a03-b502-4488-98d5-3a9a89a956ad",
   "metadata": {},
   "outputs": [],
   "source": [
    "df_no_dupes.reset_index(inplace = True)"
   ]
  },
  {
   "cell_type": "code",
   "execution_count": null,
   "id": "120101a5-7ec5-4d09-ad09-bdb68ab25b44",
   "metadata": {},
   "outputs": [],
   "source": [
    "df_no_dupes"
   ]
  },
  {
   "cell_type": "markdown",
   "id": "b360ef22-1632-426f-98f0-c83bd24ea0d4",
   "metadata": {},
   "source": [
    "# Drop rows"
   ]
  },
  {
   "cell_type": "markdown",
   "id": "44db595a-3a65-428a-a9a0-a0a1253471e5",
   "metadata": {},
   "source": [
    "`df=df.drop(row_index,axis=0)`"
   ]
  },
  {
   "cell_type": "markdown",
   "id": "7213a170-8bae-4bab-87ee-954f0d9b8950",
   "metadata": {
    "tags": []
   },
   "source": [
    "# **Exploring a dataset**"
   ]
  },
  {
   "cell_type": "markdown",
   "id": "2ef83a79-21bc-403f-8158-4bca8d25a704",
   "metadata": {},
   "source": [
    "Import the .csv file with the `pd.read_csv()`"
   ]
  },
  {
   "cell_type": "code",
   "execution_count": null,
   "id": "08e01cd1-c8ae-4f87-8882-001345b5ca40",
   "metadata": {},
   "outputs": [],
   "source": [
    "#df = pd.read_csv('data/module7_countries.csv')"
   ]
  },
  {
   "cell_type": "code",
   "execution_count": null,
   "id": "13959a4e-b333-4858-a600-be4596368b29",
   "metadata": {},
   "outputs": [],
   "source": [
    "#df"
   ]
  },
  {
   "cell_type": "markdown",
   "id": "5a61f8bb-bcde-4b76-a9b3-6cc41f5aa1d0",
   "metadata": {},
   "source": [
    "#### **Locate Rows**"
   ]
  },
  {
   "cell_type": "code",
   "execution_count": null,
   "id": "d659829d-89c9-456c-8ed0-e8e75d7456f1",
   "metadata": {},
   "outputs": [],
   "source": [
    "df.loc[0:10:5] #this one is special!"
   ]
  },
  {
   "cell_type": "markdown",
   "id": "a70221f9-48d4-49ba-b694-e56e8c2498de",
   "metadata": {},
   "source": [
    "#### df.loc Syntax\n",
    "##### `df.loc[rows, columns]`"
   ]
  },
  {
   "cell_type": "markdown",
   "id": "02d07611-7ec4-4dd6-9213-1aaf5877f08c",
   "metadata": {},
   "source": [
    "##### Display all values in one column"
   ]
  },
  {
   "cell_type": "code",
   "execution_count": null,
   "id": "0687a6f5-6cdb-43ca-b3f9-e31eb4d63002",
   "metadata": {},
   "outputs": [],
   "source": [
    "df.loc[:,'Population']"
   ]
  },
  {
   "cell_type": "markdown",
   "id": "ac0af79d-f37a-46d8-b82b-98573bb428e5",
   "metadata": {},
   "source": [
    "##### **Display a range of columns**"
   ]
  },
  {
   "cell_type": "markdown",
   "id": "3faf77f5-cc6c-4419-8d8d-4b2f45057d6e",
   "metadata": {},
   "source": [
    "Show Region and Net Migration"
   ]
  },
  {
   "cell_type": "code",
   "execution_count": null,
   "id": "e0ce9bdd-954f-4f5e-832f-cdd97846ec65",
   "metadata": {},
   "outputs": [],
   "source": [
    "df.loc[0:3,['Region','Net migration']]"
   ]
  },
  {
   "cell_type": "markdown",
   "id": "5584e5df-c47e-48de-a160-496b6b16a5f8",
   "metadata": {},
   "source": [
    "Show Region through net Migration"
   ]
  },
  {
   "cell_type": "code",
   "execution_count": null,
   "id": "43a9b1de-37e7-41d2-81f8-21e0be2e5c74",
   "metadata": {},
   "outputs": [],
   "source": [
    "df.loc[0:3,'Region':'Net migration']"
   ]
  },
  {
   "cell_type": "markdown",
   "id": "0af18c08-8521-4093-b8b0-fb15d3157006",
   "metadata": {},
   "source": [
    "#### **Create new dataframe**"
   ]
  },
  {
   "cell_type": "code",
   "execution_count": null,
   "id": "37d934da-7e30-48fb-8a89-c17c4986d41a",
   "metadata": {},
   "outputs": [],
   "source": [
    "new_dataframe = df.loc[:,'Region':'Net migration']"
   ]
  },
  {
   "cell_type": "code",
   "execution_count": null,
   "id": "103c922f-216a-4f83-843e-c186159dbf47",
   "metadata": {},
   "outputs": [],
   "source": [
    "new_dataframe"
   ]
  },
  {
   "cell_type": "code",
   "execution_count": null,
   "id": "47802545-e852-4be6-af81-75feefc461b3",
   "metadata": {},
   "outputs": [],
   "source": [
    "new_dataframe.info()"
   ]
  },
  {
   "cell_type": "markdown",
   "id": "761142f4-0720-4689-8d98-66d88133494d",
   "metadata": {},
   "source": [
    "#### **Locate Rows, Conditional**"
   ]
  },
  {
   "cell_type": "markdown",
   "id": "3c2011e3-28a0-4727-a3d4-2d661bc192fd",
   "metadata": {},
   "source": [
    "**`df.loc[]`**\n",
    "\n",
    "Access a group of rows and columns by label(s) or a boolean array.\n",
    "\n",
    "`df.loc[]` is primarily label based, but may also be used with a boolean array.  \n",
    "\n",
    "Allowed inputs are:\n",
    "\n",
    "- A single label, e.g. 5 or 'a', (note that 5 is interpreted as a label of the index, and never as an integer position along the index). \n",
    "\n",
    "- A list or array of labels, e.g. ['a', 'b', 'c'].  \n",
    "\n",
    "- A slice object with labels, e.g. 'a':'f'.  "
   ]
  },
  {
   "cell_type": "markdown",
   "id": "1eb7be44-59fd-45d3-8ddc-8725d47eff9b",
   "metadata": {},
   "source": [
    "[For more information about df.loc[] click here](https://pandas.pydata.org/docs/reference/api/pandas.DataFrame.loc.html)"
   ]
  },
  {
   "cell_type": "markdown",
   "id": "da2202b4-c871-4e3c-a6d3-400879b5eb04",
   "metadata": {},
   "source": [
    "#### **Locate numeric**"
   ]
  },
  {
   "cell_type": "code",
   "execution_count": null,
   "id": "19d9046f-97dd-46be-8005-00547d611717",
   "metadata": {},
   "outputs": [],
   "source": [
    "df.loc[df['Area (sq. mi.)'] == 7686850]"
   ]
  },
  {
   "cell_type": "code",
   "execution_count": null,
   "id": "a3fc3e72-0580-44ec-bdb8-71dbb4d4db5e",
   "metadata": {},
   "outputs": [],
   "source": [
    "df.loc[df['Area (sq. mi.)']>7000000]"
   ]
  },
  {
   "cell_type": "markdown",
   "id": "a9b44a99-1cfe-4d43-9bdc-8bd871571cb6",
   "metadata": {},
   "source": [
    "#### **Locate string**"
   ]
  },
  {
   "cell_type": "code",
   "execution_count": null,
   "id": "f86f855d-240c-47a4-8e75-1fba4fd79ea8",
   "metadata": {},
   "outputs": [],
   "source": [
    "df.loc[df['Country'].str.contains(\"Tonga\")]"
   ]
  },
  {
   "cell_type": "code",
   "execution_count": null,
   "id": "d62e3523-ff01-492a-8c0c-b7718c7e95c9",
   "metadata": {},
   "outputs": [],
   "source": [
    "df.loc[df['Country'].str.contains(\"tonga\", case = False)]"
   ]
  },
  {
   "cell_type": "markdown",
   "id": "3ab13e42-7700-4e66-ad28-df511a9e55aa",
   "metadata": {},
   "source": [
    "[For more information about string.contains() click here](https://pandas.pydata.org/docs/reference/api/pandas.Series.str.contains.html)"
   ]
  },
  {
   "cell_type": "markdown",
   "id": "21ead56a-18b4-4fc8-8469-117ad12098af",
   "metadata": {},
   "source": [
    "#### **Locating by index**"
   ]
  },
  {
   "cell_type": "markdown",
   "id": "dc2c5278-68a4-41b8-87d2-052a87cb804c",
   "metadata": {},
   "source": [
    "#### **df.iloc**\n",
    "property DataFrame.iloc[source]\n",
    "\n",
    "Purely integer-location based indexing for selection by position.\n",
    "\n",
    ".iloc[] is primarily integer position based (from 0 to length-1 of the axis), but may also be used with a boolean array."
   ]
  },
  {
   "cell_type": "markdown",
   "id": "6845e34d-280b-4b48-b690-408a8b8b1334",
   "metadata": {},
   "source": [
    "#### df.iloc Syntax\n",
    "##### `df.iloc[index_of_rows, index_of_columns]`"
   ]
  },
  {
   "cell_type": "code",
   "execution_count": null,
   "id": "34115377-8561-4d8f-85d5-ff611d0e5f91",
   "metadata": {},
   "outputs": [],
   "source": [
    "df.iloc[0:10]"
   ]
  },
  {
   "cell_type": "code",
   "execution_count": null,
   "id": "1c09d1ea-4b40-4f0c-8bc7-095a67c02fa9",
   "metadata": {},
   "outputs": [],
   "source": [
    "df.iloc[0:5,1:4] "
   ]
  },
  {
   "cell_type": "markdown",
   "id": "ce9360fb-389d-4cab-9e2d-145affed3c26",
   "metadata": {},
   "source": [
    "# **Transforming the data**"
   ]
  },
  {
   "cell_type": "markdown",
   "id": "dc64b8a2-613f-48ad-8d68-fd1030057ea4",
   "metadata": {},
   "source": [
    "#### **Removing columns**"
   ]
  },
  {
   "cell_type": "code",
   "execution_count": null,
   "id": "68404a12-42b7-4859-9111-827228718e0c",
   "metadata": {},
   "outputs": [],
   "source": [
    "df_no_dupes = df_no_dupes.drop(columns = ['index'])\n",
    "df_no_dupes.info()"
   ]
  },
  {
   "cell_type": "code",
   "execution_count": null,
   "id": "513ad8db-3334-4803-b63b-6c147a309d35",
   "metadata": {},
   "outputs": [],
   "source": [
    "df_no_dupes"
   ]
  },
  {
   "cell_type": "markdown",
   "id": "9224f406-e02b-4843-9fed-e9cacbb01a13",
   "metadata": {},
   "source": [
    "Create a new dataframe 'df1 by using the **df.drop()** function to remove the following columns: 'Arable (%)', 'Crops (%)', 'Other (%)', 'Climate', 'Agriculture'\n",
    "\n",
    "`df1 = df.drop(columns = ['Column Name 1', 'Column Name 2', ...])`\n",
    "\n",
    "[For more information about df.drop() click here](https://pandas.pydata.org/docs/reference/api/pandas.DataFrame.drop.html)"
   ]
  },
  {
   "cell_type": "code",
   "execution_count": null,
   "id": "3f88bd6b-7ae6-45c0-b4c5-4f6684c778ee",
   "metadata": {},
   "outputs": [],
   "source": [
    "df.columns"
   ]
  },
  {
   "cell_type": "code",
   "execution_count": null,
   "id": "3422470b-8889-4b92-a3cd-843c776360da",
   "metadata": {},
   "outputs": [],
   "source": [
    "df1 = df.drop(columns =['Arable (%)', 'Crops (%)', 'Other (%)', 'Climate', 'Agriculture'])\n",
    "df1.info()"
   ]
  },
  {
   "cell_type": "markdown",
   "id": "ce6c2edc-5ac4-4d1c-b03f-9961b66028c9",
   "metadata": {},
   "source": [
    "#### **Converting data to appropriate type**"
   ]
  },
  {
   "cell_type": "markdown",
   "id": "f5bb5683-336a-43c9-8df0-78cf10b47394",
   "metadata": {},
   "source": [
    "Replace comma (,) character with the period (.) for all cells in the ' Pop. Density (per sq. mi.)' column\n",
    "- df['column name'] = df['column name'].str.replace('old character','new character')  \n",
    "- Use **df.head()** to confirm results"
   ]
  },
  {
   "cell_type": "code",
   "execution_count": null,
   "id": "c963645e-1637-4abd-b388-9f838f9fe24e",
   "metadata": {},
   "outputs": [],
   "source": [
    "df1['Pop. Density (per sq. mi.)'] = df1['Pop. Density (per sq. mi.)'].str.replace(',','.')"
   ]
  },
  {
   "cell_type": "code",
   "execution_count": null,
   "id": "7cb1e0f4-cfc5-401f-a784-91c09a228e51",
   "metadata": {},
   "outputs": [],
   "source": [
    "df1.head()"
   ]
  },
  {
   "cell_type": "markdown",
   "id": "08769369-82c6-425c-a666-f7cff2770ce2",
   "metadata": {},
   "source": [
    "Because the comma (,) is used exclusively in numeric fields we can replace it for the whole table\n",
    "\n",
    "- df = df.replace('old character','new character', regex=True)\n",
    "- Use df.head() to confirm results"
   ]
  },
  {
   "cell_type": "code",
   "execution_count": null,
   "id": "a94833cd-3a23-4ed1-99c7-008ee5f68698",
   "metadata": {},
   "outputs": [],
   "source": [
    "df1 = df1.replace(',','.', regex=True)\n",
    "df1.head(2)"
   ]
  },
  {
   "cell_type": "markdown",
   "id": "1d23a9ae-64b1-4c83-b1dc-2a5aff49509c",
   "metadata": {},
   "source": [
    "#### **Converting Type for single column**"
   ]
  },
  {
   "cell_type": "code",
   "execution_count": null,
   "id": "c795c773-8b88-4704-b757-23c9de69f030",
   "metadata": {},
   "outputs": [],
   "source": [
    "# convert \"Pop Density\" from string to float\n",
    "df1['Pop. Density (per sq. mi.)'] = df1['Pop. Density (per sq. mi.)'].astype(float)"
   ]
  },
  {
   "cell_type": "code",
   "execution_count": null,
   "id": "ed98f4fc-c661-4e23-8889-7426c33c24ea",
   "metadata": {},
   "outputs": [],
   "source": [
    "df1.info()"
   ]
  },
  {
   "cell_type": "markdown",
   "id": "2d8fbfe0-6a97-4e30-b0fc-d501e3f72531",
   "metadata": {},
   "source": [
    "#### **Convert multiple columns** "
   ]
  },
  {
   "cell_type": "markdown",
   "id": "346471e8-f49b-4343-8c2a-f2f5a1a781bf",
   "metadata": {},
   "source": [
    "#### Would change whole table * if compatible with datatype\n",
    "DataFrame.astype(dtype)"
   ]
  },
  {
   "cell_type": "code",
   "execution_count": null,
   "id": "6ae7aaeb-b1b3-40b1-a89c-ab68d2ff1f18",
   "metadata": {},
   "outputs": [],
   "source": [
    "df1 = df1.astype({'Coastline (coast/area ratio)':'float','Net migration':'float','Infant mortality (per 1000 births)':'float','GDP ($ per capita)':'float','Literacy (%)':'float','Phones (per 1000)':'float','Birthrate':'float','Deathrate':'float'})"
   ]
  },
  {
   "cell_type": "code",
   "execution_count": null,
   "id": "e0945a69-a747-45e8-a195-6cb8e55c5a87",
   "metadata": {},
   "outputs": [],
   "source": [
    "df.columns"
   ]
  },
  {
   "cell_type": "code",
   "execution_count": null,
   "id": "e7e26270-85c2-46c2-b25d-a26312115788",
   "metadata": {},
   "outputs": [],
   "source": [
    "df1.info()"
   ]
  },
  {
   "cell_type": "code",
   "execution_count": null,
   "id": "16aa87bb-dba6-4aca-a8a9-afcf9b32f2b2",
   "metadata": {},
   "outputs": [],
   "source": [
    "df1.describe()"
   ]
  },
  {
   "cell_type": "code",
   "execution_count": null,
   "id": "5a00b989-0fd5-4966-b2eb-90cf3f466c50",
   "metadata": {},
   "outputs": [],
   "source": [
    "# Rounding is performed last on the whole output of the aggregation\n",
    "print(round(df1['Population'].mean(),2))\n",
    "print('The mean Area is: ' + str(round(df['Area (sq. mi.)'].mean(),2)))"
   ]
  },
  {
   "cell_type": "markdown",
   "id": "9d76f256-407a-49e9-afbf-d105dcfec2bb",
   "metadata": {},
   "source": [
    "## **Joins**"
   ]
  },
  {
   "cell_type": "markdown",
   "id": "86cd2d04-9f38-4cc0-af3e-d3ae3bec45da",
   "metadata": {},
   "source": [
    "Join columns with other DataFrame either on index or on a key column. Efficiently join multiple DataFrame objects by index at once by passing a list. Left join by default.\n",
    "\n",
    "* Uses the first row of the right table as index"
   ]
  },
  {
   "cell_type": "markdown",
   "id": "d303d060-24cd-4c8c-bb11-19ed8f51c478",
   "metadata": {},
   "source": [
    "[For more information on joins click here](https://pandas.pydata.org/docs/reference/api/pandas.DataFrame.join.html)"
   ]
  },
  {
   "cell_type": "code",
   "execution_count": null,
   "id": "660b7b8d-1771-48ad-ad62-69278c6a82ca",
   "metadata": {},
   "outputs": [],
   "source": [
    "ss_orders = pd.read_csv('data/sample_superstore/sample_superstore_orders.csv')"
   ]
  },
  {
   "cell_type": "code",
   "execution_count": null,
   "id": "4247e7bd-f8f1-4d94-8639-8f20aadfc4f0",
   "metadata": {},
   "outputs": [],
   "source": [
    "ss_returns = pd.read_csv('data/sample_superstore/sample_superstore_returns.csv')"
   ]
  },
  {
   "cell_type": "code",
   "execution_count": null,
   "id": "fcf509bd-1718-4122-957b-24ac8e0e38b7",
   "metadata": {},
   "outputs": [],
   "source": [
    "joined_df = ss_orders.join(ss_returns.set_index('Order ID'), on='Order ID', how = 'inner')"
   ]
  },
  {
   "cell_type": "markdown",
   "id": "fc72bc3d-5e46-404b-a21a-22b29a949174",
   "metadata": {},
   "source": [
    "**How though?**\n",
    "\n",
    "`how` accepts arguments that define how the tables are joined.\n",
    "\n",
    "- left: use calling frame’s index (or column if on is specified)\n",
    "- right: use other’s index.\n",
    "- outer: form union of calling frame’s index (or column if on is specified) with other’s index, and sort it. lexicographically.\n",
    "- inner: form intersection of calling frame’s index (or column if on is specified) with other’s index, preserving the order of the calling’s one.\n",
    "- cross: creates the cartesian product from both frames, preserves the order of the left keys."
   ]
  },
  {
   "cell_type": "markdown",
   "id": "90cb0bbb-1eff-48bf-8235-35ce44c98fd0",
   "metadata": {},
   "source": [
    "## **Merge**"
   ]
  },
  {
   "cell_type": "markdown",
   "id": "82c8533c-b2b9-42a8-ae38-c6a237370d53",
   "metadata": {},
   "source": [
    "- For combining data on common columns\n",
    "- More flexible, and more complex than the Join method\n",
    "- Many to one joins possible\n",
    "- Side by side merge\n",
    "- Inner join by default"
   ]
  },
  {
   "cell_type": "code",
   "execution_count": null,
   "id": "fd9fc748-e3eb-4227-b3d4-04de5038321f",
   "metadata": {},
   "outputs": [],
   "source": [
    "ss_orders = pd.read_csv('data/sample_superstore/sample_superstore_orders.csv')"
   ]
  },
  {
   "cell_type": "code",
   "execution_count": null,
   "id": "6f722761-aebb-4a0d-b7fe-77a60e33c45b",
   "metadata": {},
   "outputs": [],
   "source": [
    "ss_returns = pd.read_csv('data/sample_superstore/sample_superstore_returns.csv')"
   ]
  },
  {
   "cell_type": "code",
   "execution_count": null,
   "id": "69673637-a84b-4270-aa18-c39d919dda16",
   "metadata": {},
   "outputs": [],
   "source": [
    "ss_merged = pd.merge(ss_orders, ss_returns)\n",
    "ss_merged.head(1)"
   ]
  },
  {
   "cell_type": "code",
   "execution_count": null,
   "id": "c999c689-5e39-44f8-b061-9d371e011bd8",
   "metadata": {},
   "outputs": [],
   "source": [
    "ss_merged_on_order_id = pd.merge(ss_orders, ss_returns, on = 'Order ID')\n",
    "ss_merged_on_order_id.head(1)"
   ]
  },
  {
   "cell_type": "markdown",
   "id": "2fed659f-1565-41c8-9e32-0bcc393803fb",
   "metadata": {},
   "source": [
    "## **Pivot Table**"
   ]
  },
  {
   "cell_type": "markdown",
   "id": "eccc1ca8-abc7-4e60-b09f-898e07ff1cb6",
   "metadata": {},
   "source": [
    "Produce a “pivot” table based on column values. Uses unique values from specified index / columns to form axes of the resulting DataFrame. This function does not support data aggregation, multiple values will result in a MultiIndex in the columns. "
   ]
  },
  {
   "cell_type": "markdown",
   "id": "e3c1840a-ca94-4e1f-9692-65cdc85083a2",
   "metadata": {},
   "source": [
    "- `df.pivot()` reshapes data based on clumns "
   ]
  },
  {
   "cell_type": "markdown",
   "id": "3af44e9c-797f-416c-9673-0f06425980bd",
   "metadata": {},
   "source": [
    "[For more information about df.pivot() click here](https://pandas.pydata.org/docs/reference/api/pandas.DataFrame.pivot.html)"
   ]
  },
  {
   "cell_type": "markdown",
   "id": "5bde5d7d-b029-416b-81e8-397c65fd8a0d",
   "metadata": {},
   "source": [
    "- `df.pivot_table()` creates a pivot table as a dataframe allowing aggregation and tabulation"
   ]
  },
  {
   "cell_type": "markdown",
   "id": "8bb29f87-add7-4cef-9a1b-61db513edd2c",
   "metadata": {},
   "source": [
    "[For more information about df.pivot_table() click here](https://pandas.pydata.org/docs/reference/api/pandas.DataFrame.pivot_table.html)"
   ]
  },
  {
   "cell_type": "code",
   "execution_count": null,
   "id": "c31a7ad0-84ad-4b9f-b764-b45888474b72",
   "metadata": {},
   "outputs": [],
   "source": [
    "joined_df.head(1)"
   ]
  },
  {
   "cell_type": "markdown",
   "id": "f1108597-66b6-46b0-a00f-a78297f952a6",
   "metadata": {},
   "source": [
    "`df.pivot_table('what to aggregate', ['Column1','Column2'], aggfunc = aggregation)`"
   ]
  },
  {
   "cell_type": "code",
   "execution_count": null,
   "id": "8aeb3440-0fc3-4959-aec8-b5579513dfce",
   "metadata": {},
   "outputs": [],
   "source": [
    "pivot_table = joined_df.pivot_table('Sales', ['Region','State']) #default aggregation is mean\n",
    "pivot_table.head()"
   ]
  },
  {
   "cell_type": "markdown",
   "id": "ce048ad8-d8b4-4f8a-96fe-74b2f06b7933",
   "metadata": {},
   "source": [
    "`df.reset_index()` Resets the index, or a level of it.\n",
    "Reset the index of the DataFrame, and use the default one instead. If the DataFrame has a MultiIndex, this method can remove one or more levels."
   ]
  },
  {
   "cell_type": "code",
   "execution_count": null,
   "id": "7b9379b8-d077-4e58-94b2-0c5cfb177a41",
   "metadata": {},
   "outputs": [],
   "source": [
    "pivot_table.reset_index().head()"
   ]
  },
  {
   "cell_type": "markdown",
   "id": "9d2fcb4e-ffb4-4bea-b200-d92f6d06548c",
   "metadata": {},
   "source": [
    "[To learn more about df.reset_index() click here](https://pandas.pydata.org/docs/reference/api/pandas.DataFrame.reset_index.html)"
   ]
  },
  {
   "cell_type": "code",
   "execution_count": null,
   "id": "cebf65b1-c357-4835-b4ab-f2503a971683",
   "metadata": {},
   "outputs": [],
   "source": [
    "pivot_table1 = joined_df.pivot_table('Profit',['Category','Sub-Category'], aggfunc = ['max','min','sum'])\n",
    "pivot_table1.head()"
   ]
  },
  {
   "cell_type": "markdown",
   "id": "268ae5fa-eafc-46c6-bad8-4ced31e1bcbd",
   "metadata": {},
   "source": [
    "## **Group By**"
   ]
  },
  {
   "cell_type": "markdown",
   "id": "f8903240-97da-42ad-be1a-d9659b257d93",
   "metadata": {},
   "source": [
    "A groupby operation involves some combination of splitting the object, applying a function, and combining the results. This can be used to group large amounts of data and compute operations on these groups."
   ]
  },
  {
   "cell_type": "code",
   "execution_count": null,
   "id": "14a97e72-e6ab-455a-a918-5efd36db9cff",
   "metadata": {},
   "outputs": [],
   "source": [
    "df1 = joined_df.groupby('Category')[['Profit','Sales']].sum()\n",
    "df1"
   ]
  },
  {
   "cell_type": "code",
   "execution_count": null,
   "id": "d9c59e17-cb1f-40ae-9e9a-bf02a5e5ab55",
   "metadata": {},
   "outputs": [],
   "source": [
    "df1.reset_index()"
   ]
  },
  {
   "cell_type": "markdown",
   "id": "86013541-6531-4154-be90-ed1d5815c16e",
   "metadata": {},
   "source": [
    "[To learn more about df.groupby() click here](https://pandas.pydata.org/docs/reference/api/pandas.DataFrame.groupby.html)"
   ]
  },
  {
   "cell_type": "code",
   "execution_count": null,
   "id": "5de3f762-5ea8-42d8-8dff-6c2cf5ee41e3",
   "metadata": {},
   "outputs": [],
   "source": [
    "df2 = joined_df.groupby(['Category','Sub-Category'])[['Profit','Sales']].sum()\n",
    "df2"
   ]
  },
  {
   "cell_type": "markdown",
   "id": "41dc7995-8a80-4fdf-a427-0330457fc3c9",
   "metadata": {},
   "source": [
    "#### **Exporting data, the most important step?**"
   ]
  },
  {
   "cell_type": "code",
   "execution_count": null,
   "id": "019a751a-5c1a-4c8b-8ed3-43d8893600e9",
   "metadata": {},
   "outputs": [],
   "source": [
    "# df.to_csv('data/new_and_imprved_dataset.csv')"
   ]
  },
  {
   "cell_type": "markdown",
   "id": "4fd2de00-7a05-450f-974e-6a47dc20de31",
   "metadata": {},
   "source": [
    "#### **Appendix**"
   ]
  },
  {
   "cell_type": "markdown",
   "id": "c1337416-6af1-4ba2-8a6f-64525966f5fd",
   "metadata": {},
   "source": [
    "#### **Python Operators**\n",
    "\n",
    "Before we get into datatypes, we'll talk about operators, which are how you will interact with each data type in python.\n",
    "\n",
    "Python operators are divided into these groups:\n",
    "\n",
    "* Arithmetic operators - used with numeric values to perform common mathematical operations\n",
    "    * `+`, `-`, `*` (multiplication), `**` (exponentiation), `/` (float division), `//` (integer/floor division), `%` (modulo) \n",
    "* Assignment operators - used to assign values to variables\n",
    "    * `=`, `+=` etc.\n",
    "* Comparison operators - used to compare two variables\n",
    "    * `==`, (equal) `!=` (not equal), `<=` (less than or equal), `<`, etc.\n",
    "* Logical operators - used to combine conditional statements\n",
    "    * `and`, `or`, `not`\n",
    "* Identity operators - test if two objects are actually the same object (the same location in memory)\n",
    "    * `is`, `is not`\n",
    "* Membership operators - test if a sequence is present in an object\n",
    "    * `in`, `not in`\n",
    "* Bitwise operators - compare two binary (boolean) numbers\n",
    "    * `&` (and), `|` (or), `~` (not), and others"
   ]
  }
 ],
 "metadata": {
  "kernelspec": {
   "display_name": "Python 3 (ipykernel)",
   "language": "python",
   "name": "python3"
  },
  "language_info": {
   "codemirror_mode": {
    "name": "ipython",
    "version": 3
   },
   "file_extension": ".py",
   "mimetype": "text/x-python",
   "name": "python",
   "nbconvert_exporter": "python",
   "pygments_lexer": "ipython3",
   "version": "3.9.7"
  }
 },
 "nbformat": 4,
 "nbformat_minor": 5
}
