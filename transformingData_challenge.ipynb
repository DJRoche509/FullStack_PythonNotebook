{
 "cells": [
  {
   "cell_type": "markdown",
   "id": "d6395430",
   "metadata": {},
   "source": [
    "<h1 style=\"text-align:center\"> Transforming Data </h1>"
   ]
  },
  {
   "cell_type": "code",
   "execution_count": 1,
   "id": "88da59b6",
   "metadata": {},
   "outputs": [],
   "source": [
    "import pandas as pd"
   ]
  },
  {
   "cell_type": "code",
   "execution_count": 2,
   "id": "e947b7bd",
   "metadata": {},
   "outputs": [],
   "source": [
    "# import file\n",
    "\n",
    "df = pd.read_excel('Data/Northwind_products_suppliers.xlsx')"
   ]
  },
  {
   "cell_type": "markdown",
   "id": "ecaf331f",
   "metadata": {},
   "source": [
    "### 1. What data is in the first 4 rows?"
   ]
  },
  {
   "cell_type": "code",
   "execution_count": 3,
   "id": "e3f27f65",
   "metadata": {},
   "outputs": [
    {
     "data": {
      "text/html": [
       "<div>\n",
       "<style scoped>\n",
       "    .dataframe tbody tr th:only-of-type {\n",
       "        vertical-align: middle;\n",
       "    }\n",
       "\n",
       "    .dataframe tbody tr th {\n",
       "        vertical-align: top;\n",
       "    }\n",
       "\n",
       "    .dataframe thead th {\n",
       "        text-align: right;\n",
       "    }\n",
       "</style>\n",
       "<table border=\"1\" class=\"dataframe\">\n",
       "  <thead>\n",
       "    <tr style=\"text-align: right;\">\n",
       "      <th></th>\n",
       "      <th>product_id</th>\n",
       "      <th>product_name</th>\n",
       "      <th>quantity_per_unit</th>\n",
       "      <th>unit_price</th>\n",
       "      <th>units_in_stock</th>\n",
       "      <th>units_on_order</th>\n",
       "      <th>reorder_level</th>\n",
       "      <th>discontinued</th>\n",
       "      <th>category_name</th>\n",
       "      <th>company_name</th>\n",
       "      <th>country</th>\n",
       "      <th>website</th>\n",
       "    </tr>\n",
       "  </thead>\n",
       "  <tbody>\n",
       "    <tr>\n",
       "      <th>0</th>\n",
       "      <td>1</td>\n",
       "      <td>Chai</td>\n",
       "      <td>10 boxes x 30 bags</td>\n",
       "      <td>18.0</td>\n",
       "      <td>39</td>\n",
       "      <td>0</td>\n",
       "      <td>10.0</td>\n",
       "      <td>1</td>\n",
       "      <td>Beverages</td>\n",
       "      <td>Specialty Biscuits, Ltd.</td>\n",
       "      <td>UK</td>\n",
       "      <td>/</td>\n",
       "    </tr>\n",
       "    <tr>\n",
       "      <th>1</th>\n",
       "      <td>2</td>\n",
       "      <td>Chang</td>\n",
       "      <td>24 - 12 oz bottles</td>\n",
       "      <td>19.0</td>\n",
       "      <td>17</td>\n",
       "      <td>40</td>\n",
       "      <td>25.0</td>\n",
       "      <td>1</td>\n",
       "      <td>Beverages</td>\n",
       "      <td>Exotic Liquids</td>\n",
       "      <td>UK</td>\n",
       "      <td>NaN</td>\n",
       "    </tr>\n",
       "    <tr>\n",
       "      <th>2</th>\n",
       "      <td>2</td>\n",
       "      <td>Chang</td>\n",
       "      <td>24 - 12 oz bottles</td>\n",
       "      <td>19.0</td>\n",
       "      <td>17</td>\n",
       "      <td>40</td>\n",
       "      <td>25.0</td>\n",
       "      <td>1</td>\n",
       "      <td>Beverages</td>\n",
       "      <td>Exotic Liquids</td>\n",
       "      <td>UK</td>\n",
       "      <td>NaN</td>\n",
       "    </tr>\n",
       "    <tr>\n",
       "      <th>3</th>\n",
       "      <td>3</td>\n",
       "      <td>Aniseed Syrup</td>\n",
       "      <td>12 - 550 ml bottles</td>\n",
       "      <td>10.0</td>\n",
       "      <td>13</td>\n",
       "      <td>70</td>\n",
       "      <td>25.0</td>\n",
       "      <td>0</td>\n",
       "      <td>Condiments</td>\n",
       "      <td>Exotic Liquids</td>\n",
       "      <td>UK</td>\n",
       "      <td>\"\"</td>\n",
       "    </tr>\n",
       "  </tbody>\n",
       "</table>\n",
       "</div>"
      ],
      "text/plain": [
       "   product_id   product_name    quantity_per_unit  unit_price  units_in_stock  \\\n",
       "0           1           Chai   10 boxes x 30 bags        18.0              39   \n",
       "1           2          Chang   24 - 12 oz bottles        19.0              17   \n",
       "2           2          Chang   24 - 12 oz bottles        19.0              17   \n",
       "3           3  Aniseed Syrup  12 - 550 ml bottles        10.0              13   \n",
       "\n",
       "   units_on_order  reorder_level  discontinued category_name  \\\n",
       "0               0           10.0             1     Beverages   \n",
       "1              40           25.0             1     Beverages   \n",
       "2              40           25.0             1     Beverages   \n",
       "3              70           25.0             0    Condiments   \n",
       "\n",
       "               company_name country website  \n",
       "0  Specialty Biscuits, Ltd.      UK       /  \n",
       "1            Exotic Liquids      UK     NaN  \n",
       "2            Exotic Liquids      UK     NaN  \n",
       "3            Exotic Liquids      UK      \"\"  "
      ]
     },
     "execution_count": 3,
     "metadata": {},
     "output_type": "execute_result"
    }
   ],
   "source": [
    "df.head(4)"
   ]
  },
  {
   "cell_type": "markdown",
   "id": "9801ecd7",
   "metadata": {},
   "source": [
    "### 2. Calculate how many rows and columns are in this file.  "
   ]
  },
  {
   "cell_type": "code",
   "execution_count": 4,
   "id": "00d4e843",
   "metadata": {},
   "outputs": [
    {
     "name": "stdout",
     "output_type": "stream",
     "text": [
      "There are 78 rows in this file\n"
     ]
    }
   ],
   "source": [
    "rowNum =  len(df.index)  # df.shape[0]   OR len(df)\n",
    "\n",
    "print('There are {} rows in this file'.format(rowNum))"
   ]
  },
  {
   "cell_type": "code",
   "execution_count": 5,
   "id": "cf8118ec",
   "metadata": {},
   "outputs": [
    {
     "name": "stdout",
     "output_type": "stream",
     "text": [
      "and there are 12 columns in this file\n"
     ]
    }
   ],
   "source": [
    "print('and there are {} columns in this file'.format(df.shape[1]))"
   ]
  },
  {
   "cell_type": "code",
   "execution_count": 6,
   "id": "9ed88b4d",
   "metadata": {},
   "outputs": [
    {
     "data": {
      "text/html": [
       "<div>\n",
       "<style scoped>\n",
       "    .dataframe tbody tr th:only-of-type {\n",
       "        vertical-align: middle;\n",
       "    }\n",
       "\n",
       "    .dataframe tbody tr th {\n",
       "        vertical-align: top;\n",
       "    }\n",
       "\n",
       "    .dataframe thead th {\n",
       "        text-align: right;\n",
       "    }\n",
       "</style>\n",
       "<table border=\"1\" class=\"dataframe\">\n",
       "  <thead>\n",
       "    <tr style=\"text-align: right;\">\n",
       "      <th></th>\n",
       "      <th>product_id</th>\n",
       "      <th>product_name</th>\n",
       "      <th>quantity_per_unit</th>\n",
       "      <th>unit_price</th>\n",
       "      <th>units_in_stock</th>\n",
       "      <th>units_on_order</th>\n",
       "      <th>reorder_level</th>\n",
       "      <th>discontinued</th>\n",
       "      <th>category_name</th>\n",
       "      <th>company_name</th>\n",
       "      <th>country</th>\n",
       "      <th>website</th>\n",
       "    </tr>\n",
       "  </thead>\n",
       "  <tbody>\n",
       "    <tr>\n",
       "      <th>0</th>\n",
       "      <td>1</td>\n",
       "      <td>Chai</td>\n",
       "      <td>10 boxes x 30 bags</td>\n",
       "      <td>18.00</td>\n",
       "      <td>39</td>\n",
       "      <td>0</td>\n",
       "      <td>10.0</td>\n",
       "      <td>1</td>\n",
       "      <td>Beverages</td>\n",
       "      <td>Specialty Biscuits, Ltd.</td>\n",
       "      <td>UK</td>\n",
       "      <td>/</td>\n",
       "    </tr>\n",
       "    <tr>\n",
       "      <th>1</th>\n",
       "      <td>2</td>\n",
       "      <td>Chang</td>\n",
       "      <td>24 - 12 oz bottles</td>\n",
       "      <td>19.00</td>\n",
       "      <td>17</td>\n",
       "      <td>40</td>\n",
       "      <td>25.0</td>\n",
       "      <td>1</td>\n",
       "      <td>Beverages</td>\n",
       "      <td>Exotic Liquids</td>\n",
       "      <td>UK</td>\n",
       "      <td>NaN</td>\n",
       "    </tr>\n",
       "    <tr>\n",
       "      <th>2</th>\n",
       "      <td>2</td>\n",
       "      <td>Chang</td>\n",
       "      <td>24 - 12 oz bottles</td>\n",
       "      <td>19.00</td>\n",
       "      <td>17</td>\n",
       "      <td>40</td>\n",
       "      <td>25.0</td>\n",
       "      <td>1</td>\n",
       "      <td>Beverages</td>\n",
       "      <td>Exotic Liquids</td>\n",
       "      <td>UK</td>\n",
       "      <td>NaN</td>\n",
       "    </tr>\n",
       "    <tr>\n",
       "      <th>3</th>\n",
       "      <td>3</td>\n",
       "      <td>Aniseed Syrup</td>\n",
       "      <td>12 - 550 ml bottles</td>\n",
       "      <td>10.00</td>\n",
       "      <td>13</td>\n",
       "      <td>70</td>\n",
       "      <td>25.0</td>\n",
       "      <td>0</td>\n",
       "      <td>Condiments</td>\n",
       "      <td>Exotic Liquids</td>\n",
       "      <td>UK</td>\n",
       "      <td>\"\"</td>\n",
       "    </tr>\n",
       "    <tr>\n",
       "      <th>4</th>\n",
       "      <td>4</td>\n",
       "      <td>Chef Anton's Cajun Seasoning</td>\n",
       "      <td>48 - 6 oz jars</td>\n",
       "      <td>22.00</td>\n",
       "      <td>53</td>\n",
       "      <td>0</td>\n",
       "      <td>0.0</td>\n",
       "      <td>0</td>\n",
       "      <td>Condiments</td>\n",
       "      <td>New Orleans Cajun Delights</td>\n",
       "      <td>USA</td>\n",
       "      <td>NaN</td>\n",
       "    </tr>\n",
       "    <tr>\n",
       "      <th>...</th>\n",
       "      <td>...</td>\n",
       "      <td>...</td>\n",
       "      <td>...</td>\n",
       "      <td>...</td>\n",
       "      <td>...</td>\n",
       "      <td>...</td>\n",
       "      <td>...</td>\n",
       "      <td>...</td>\n",
       "      <td>...</td>\n",
       "      <td>...</td>\n",
       "      <td>...</td>\n",
       "      <td>...</td>\n",
       "    </tr>\n",
       "    <tr>\n",
       "      <th>73</th>\n",
       "      <td>63</td>\n",
       "      <td>Vegie-spread</td>\n",
       "      <td>15 - 625 g jars</td>\n",
       "      <td>43.90</td>\n",
       "      <td>24</td>\n",
       "      <td>0</td>\n",
       "      <td>5.0</td>\n",
       "      <td>0</td>\n",
       "      <td>Condiments</td>\n",
       "      <td>Pavlova, Ltd.</td>\n",
       "      <td>Australia</td>\n",
       "      <td>NaN</td>\n",
       "    </tr>\n",
       "    <tr>\n",
       "      <th>74</th>\n",
       "      <td>64</td>\n",
       "      <td>Wimmers gute SemmelknÃ¶del</td>\n",
       "      <td>20 bags x 4 pieces</td>\n",
       "      <td>33.25</td>\n",
       "      <td>22</td>\n",
       "      <td>80</td>\n",
       "      <td>30.0</td>\n",
       "      <td>0</td>\n",
       "      <td>Grains/Cereals</td>\n",
       "      <td>Plutzer LebensmittelgroÃŸmÃ¤rkte AG</td>\n",
       "      <td>Germany</td>\n",
       "      <td>NaN</td>\n",
       "    </tr>\n",
       "    <tr>\n",
       "      <th>75</th>\n",
       "      <td>65</td>\n",
       "      <td>Louisiana Fiery Hot Pepper Sauce</td>\n",
       "      <td>32 - 8 oz bottles</td>\n",
       "      <td>21.05</td>\n",
       "      <td>76</td>\n",
       "      <td>0</td>\n",
       "      <td>0.0</td>\n",
       "      <td>0</td>\n",
       "      <td>Condiments</td>\n",
       "      <td>New Orleans Cajun Delights</td>\n",
       "      <td>USA</td>\n",
       "      <td>NaN</td>\n",
       "    </tr>\n",
       "    <tr>\n",
       "      <th>76</th>\n",
       "      <td>66</td>\n",
       "      <td>Louisiana Hot Spiced Okra</td>\n",
       "      <td>24 - 8 oz jars</td>\n",
       "      <td>17.00</td>\n",
       "      <td>4</td>\n",
       "      <td>100</td>\n",
       "      <td>20.0</td>\n",
       "      <td>0</td>\n",
       "      <td>Condiments</td>\n",
       "      <td>New Orleans Cajun Delights</td>\n",
       "      <td>USA</td>\n",
       "      <td>NaN</td>\n",
       "    </tr>\n",
       "    <tr>\n",
       "      <th>77</th>\n",
       "      <td>69</td>\n",
       "      <td>Gudbrandsdalsost</td>\n",
       "      <td>10 kg pkg.</td>\n",
       "      <td>36.00</td>\n",
       "      <td>26</td>\n",
       "      <td>0</td>\n",
       "      <td>15.0</td>\n",
       "      <td>0</td>\n",
       "      <td>Dairy Products</td>\n",
       "      <td>Norske Meierier</td>\n",
       "      <td>Norway</td>\n",
       "      <td>NaN</td>\n",
       "    </tr>\n",
       "  </tbody>\n",
       "</table>\n",
       "<p>78 rows × 12 columns</p>\n",
       "</div>"
      ],
      "text/plain": [
       "    product_id                      product_name    quantity_per_unit  \\\n",
       "0            1                              Chai   10 boxes x 30 bags   \n",
       "1            2                             Chang   24 - 12 oz bottles   \n",
       "2            2                             Chang   24 - 12 oz bottles   \n",
       "3            3                     Aniseed Syrup  12 - 550 ml bottles   \n",
       "4            4      Chef Anton's Cajun Seasoning       48 - 6 oz jars   \n",
       "..         ...                               ...                  ...   \n",
       "73          63                      Vegie-spread      15 - 625 g jars   \n",
       "74          64        Wimmers gute SemmelknÃ¶del   20 bags x 4 pieces   \n",
       "75          65  Louisiana Fiery Hot Pepper Sauce    32 - 8 oz bottles   \n",
       "76          66         Louisiana Hot Spiced Okra       24 - 8 oz jars   \n",
       "77          69                  Gudbrandsdalsost           10 kg pkg.   \n",
       "\n",
       "    unit_price  units_in_stock  units_on_order  reorder_level  discontinued  \\\n",
       "0        18.00              39               0           10.0             1   \n",
       "1        19.00              17              40           25.0             1   \n",
       "2        19.00              17              40           25.0             1   \n",
       "3        10.00              13              70           25.0             0   \n",
       "4        22.00              53               0            0.0             0   \n",
       "..         ...             ...             ...            ...           ...   \n",
       "73       43.90              24               0            5.0             0   \n",
       "74       33.25              22              80           30.0             0   \n",
       "75       21.05              76               0            0.0             0   \n",
       "76       17.00               4             100           20.0             0   \n",
       "77       36.00              26               0           15.0             0   \n",
       "\n",
       "     category_name                         company_name    country website  \n",
       "0        Beverages             Specialty Biscuits, Ltd.         UK       /  \n",
       "1        Beverages                       Exotic Liquids         UK     NaN  \n",
       "2        Beverages                       Exotic Liquids         UK     NaN  \n",
       "3       Condiments                       Exotic Liquids         UK      \"\"  \n",
       "4       Condiments           New Orleans Cajun Delights        USA     NaN  \n",
       "..             ...                                  ...        ...     ...  \n",
       "73      Condiments                        Pavlova, Ltd.  Australia     NaN  \n",
       "74  Grains/Cereals  Plutzer LebensmittelgroÃŸmÃ¤rkte AG    Germany     NaN  \n",
       "75      Condiments           New Orleans Cajun Delights        USA     NaN  \n",
       "76      Condiments           New Orleans Cajun Delights        USA     NaN  \n",
       "77  Dairy Products                      Norske Meierier     Norway     NaN  \n",
       "\n",
       "[78 rows x 12 columns]"
      ]
     },
     "execution_count": 6,
     "metadata": {},
     "output_type": "execute_result"
    }
   ],
   "source": [
    "df"
   ]
  },
  {
   "cell_type": "code",
   "execution_count": null,
   "id": "bd696182",
   "metadata": {},
   "outputs": [],
   "source": [
    "df.shape"
   ]
  },
  {
   "cell_type": "markdown",
   "id": "d9e0e651",
   "metadata": {},
   "source": [
    "### 3. What’s the maximum unit_price?"
   ]
  },
  {
   "cell_type": "code",
   "execution_count": null,
   "id": "2644b321",
   "metadata": {},
   "outputs": [],
   "source": [
    "maxPrice = df['unit_price'].max()\n",
    "\n",
    "# Find the index where the cell value is equal to 'maxPrice'\n",
    "index = df[df['unit_price'] == maxPrice].index[0]\n",
    "\n",
    "# Obtain the cell value in another column at the same index\n",
    "productName = df.loc[index, 'product_name']"
   ]
  },
  {
   "cell_type": "code",
   "execution_count": null,
   "id": "faede0e5",
   "metadata": {},
   "outputs": [],
   "source": [
    "print('The maximum unit_price is {} and product name is \"{}\"'.format(maxPrice, productName))"
   ]
  },
  {
   "cell_type": "code",
   "execution_count": null,
   "id": "0075e4f1",
   "metadata": {},
   "outputs": [],
   "source": [
    "df.loc[ df[df['unit_price'] == maxPrice].index[0], \"product_id\":'product_name']"
   ]
  },
  {
   "cell_type": "markdown",
   "id": "5f194174",
   "metadata": {},
   "source": [
    "### 4. Use describe() to get the descriptive statistics for this file"
   ]
  },
  {
   "cell_type": "code",
   "execution_count": null,
   "id": "9b2608d9",
   "metadata": {},
   "outputs": [],
   "source": [
    "df.describe()"
   ]
  },
  {
   "cell_type": "markdown",
   "id": "a0d168e2",
   "metadata": {},
   "source": [
    "### 5. Replace any NULL values in reorder_level with 0"
   ]
  },
  {
   "cell_type": "code",
   "execution_count": null,
   "id": "87baeb82",
   "metadata": {},
   "outputs": [],
   "source": [
    "df['reorder_level'] = df['reorder_level'].fillna(0)"
   ]
  },
  {
   "cell_type": "code",
   "execution_count": null,
   "id": "01d39a59",
   "metadata": {},
   "outputs": [],
   "source": [
    "df['reorder_level'].isnull().sum()"
   ]
  },
  {
   "cell_type": "markdown",
   "id": "89a44cf6",
   "metadata": {},
   "source": [
    "### 6. Remove duplicate rows"
   ]
  },
  {
   "cell_type": "code",
   "execution_count": null,
   "id": "5829a0ef",
   "metadata": {},
   "outputs": [],
   "source": [
    "#count duplicates\n",
    "df.duplicated().sum()"
   ]
  },
  {
   "cell_type": "code",
   "execution_count": null,
   "id": "ae80293d",
   "metadata": {},
   "outputs": [],
   "source": [
    "#Indentifying duplicates\n",
    "df[df.duplicated(keep=False)]\n",
    "\n",
    "#df.loc[df.duplicated()]    # Show duplicated rows"
   ]
  },
  {
   "cell_type": "code",
   "execution_count": null,
   "id": "ab021aaa",
   "metadata": {},
   "outputs": [],
   "source": [
    "# remove duplicate row(s)\n",
    "df_nodupes = df.drop_duplicates()\n",
    "\n",
    "print('There is now '+str(df_nodupes.duplicated().sum())+' duplicated rows.')"
   ]
  },
  {
   "cell_type": "markdown",
   "id": "dd519f09",
   "metadata": {},
   "source": [
    "### 7. Change \"Gustaf's Kn√§ckebr√∂d\" To \"Gustaf's Knäckebröd\""
   ]
  },
  {
   "cell_type": "code",
   "execution_count": null,
   "id": "b094e400",
   "metadata": {},
   "outputs": [],
   "source": [
    "df=df.replace('Gustaf\\'s Kn√§ckebr√∂d', \"Gustaf's Knäckebröd\", regex=True)"
   ]
  },
  {
   "cell_type": "code",
   "execution_count": null,
   "id": "bc74cfed",
   "metadata": {},
   "outputs": [],
   "source": [
    "# Find the column name with the existing value\n",
    "# column_name = df.eq(\"Gustaf's Knäckebröd\").idxmax(axis=1)\n",
    "column_name = (df == \"Gustaf's Knäckebröd\").stack().reset_index().loc[0, 'level_1']\n",
    "\n",
    "# Get the index value for the column with the existing value\n",
    "index_value = df.loc[df[column_name] == \"Gustaf's Knäckebröd\"].index[0] if len(df.loc[df[column_name] == \"Gustaf's Knäckebröd\"].index) > 0 else None\n",
    "\n",
    "# Print the index value if it exists\n",
    "if index_value is not None:\n",
    "    print(\"Index value:\", index_value)\n",
    "else:\n",
    "    print(\"No rows found with the existing value.\")\n",
    "\n",
    "\n",
    "print(index_value)"
   ]
  },
  {
   "cell_type": "markdown",
   "id": "f1571047",
   "metadata": {},
   "source": [
    "### 8. Remove the column for website"
   ]
  },
  {
   "cell_type": "code",
   "execution_count": null,
   "id": "c98086de",
   "metadata": {},
   "outputs": [],
   "source": [
    "df_lean = df.drop(columns = 'website')"
   ]
  },
  {
   "cell_type": "code",
   "execution_count": null,
   "id": "473f5739",
   "metadata": {},
   "outputs": [],
   "source": [
    "df_lean"
   ]
  },
  {
   "cell_type": "markdown",
   "id": "4a678cc1",
   "metadata": {},
   "source": [
    "### 9.Create a crosstab, with category_name in rows and country in columns"
   ]
  },
  {
   "cell_type": "code",
   "execution_count": null,
   "id": "ea0a70d6",
   "metadata": {},
   "outputs": [],
   "source": [
    "pd.crosstab(df_lean['category_name'], df_lean['country'])"
   ]
  },
  {
   "cell_type": "code",
   "execution_count": null,
   "id": "96232519",
   "metadata": {},
   "outputs": [],
   "source": [
    "size = pd.crosstab(df_lean['category_name'], df_lean['country']).shape\n",
    "print('The crosstab between category_name and country is of size:', size[0], 'by', size[1])"
   ]
  },
  {
   "cell_type": "markdown",
   "id": "c00760db",
   "metadata": {},
   "source": [
    "### 10 . Create a pivot table with average unit_price by category"
   ]
  },
  {
   "cell_type": "code",
   "execution_count": null,
   "id": "d88a1fc8",
   "metadata": {},
   "outputs": [],
   "source": [
    "pivot_df = df_lean.pivot_table('unit_price', index='category_name',aggfunc='mean')\n",
    "pivot_df"
   ]
  },
  {
   "cell_type": "markdown",
   "id": "e6c5da31",
   "metadata": {},
   "source": [
    "### 11. Create a pivot table with average reorder_level  by category (rows) and country (columns)"
   ]
  },
  {
   "cell_type": "code",
   "execution_count": null,
   "id": "4a7b84fd",
   "metadata": {},
   "outputs": [],
   "source": [
    "pivot_df2 = df_lean.pivot_table('reorder_level', ['category_name', 'country'])\n",
    "pivot_df2\n",
    "\n",
    "# pivot_table = pd.pivot_table(df, values='reorder_level', index='category_name', columns='country', aggfunc='mean') ---> ALTERNATIVELY"
   ]
  },
  {
   "cell_type": "code",
   "execution_count": null,
   "id": "3fb619d7",
   "metadata": {},
   "outputs": [],
   "source": [
    "# Alternatively, we could do:\n",
    "pivot_table = pd.pivot_table(df_lean, values='reorder_level', index='category_name', columns='country', aggfunc='mean')\n",
    "pivot_table"
   ]
  },
  {
   "cell_type": "markdown",
   "id": "a1940e9f",
   "metadata": {},
   "source": [
    "### 12. Create a groupby table with sum of discontinued products by company name  "
   ]
  },
  {
   "cell_type": "code",
   "execution_count": null,
   "id": "4adf0bca",
   "metadata": {},
   "outputs": [],
   "source": [
    "groupby_sum = df_lean.groupby('company_name')['discontinued'].sum()\n",
    "groupby_sum"
   ]
  },
  {
   "cell_type": "markdown",
   "id": "6cf8a484",
   "metadata": {},
   "source": [
    "### 13. Create a groupby table with maximum unit_price by country and category (both in rows)"
   ]
  },
  {
   "cell_type": "code",
   "execution_count": null,
   "id": "bce94bd9",
   "metadata": {},
   "outputs": [],
   "source": [
    "groupby_max_unit = df_lean.groupby(['country', 'category_name'])['unit_price'].max()\n",
    "groupby_max_unit\n",
    "\n",
    "#groupby_max_unit.reset_index()"
   ]
  }
 ],
 "metadata": {
  "kernelspec": {
   "display_name": "Python 3 (ipykernel)",
   "language": "python",
   "name": "python3"
  },
  "language_info": {
   "codemirror_mode": {
    "name": "ipython",
    "version": 3
   },
   "file_extension": ".py",
   "mimetype": "text/x-python",
   "name": "python",
   "nbconvert_exporter": "python",
   "pygments_lexer": "ipython3",
   "version": "3.11.3"
  }
 },
 "nbformat": 4,
 "nbformat_minor": 5
}
