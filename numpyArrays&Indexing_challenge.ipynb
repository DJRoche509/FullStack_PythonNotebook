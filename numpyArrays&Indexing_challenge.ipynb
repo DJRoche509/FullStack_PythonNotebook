{
 "cells": [
  {
   "cell_type": "markdown",
   "id": "50e58780",
   "metadata": {},
   "source": [
    "# <center>NumPy Arrays and Indexing"
   ]
  },
  {
   "cell_type": "code",
   "execution_count": 1,
   "id": "5d1b4606",
   "metadata": {},
   "outputs": [],
   "source": [
    "import numpy as np"
   ]
  },
  {
   "cell_type": "markdown",
   "id": "c37c295e",
   "metadata": {},
   "source": [
    "### 1. Create a numpy array called ‘height_in_inches’ from a list of 10 numbers: [66, 68, 71, 64, 61, 74, 64, 65, 70, 71]."
   ]
  },
  {
   "cell_type": "code",
   "execution_count": 2,
   "id": "6e7e6476",
   "metadata": {},
   "outputs": [],
   "source": [
    "height_in_inches = [66, 68, 71, 64, 61, 74, 64, 65, 70, 71]"
   ]
  },
  {
   "cell_type": "markdown",
   "id": "1c774921",
   "metadata": {},
   "source": [
    "### 2. Create a new array called ‘height_in_feet’ and make its values equal to the values in the first array divided by 12."
   ]
  },
  {
   "cell_type": "code",
   "execution_count": 3,
   "id": "1b6d1578",
   "metadata": {},
   "outputs": [],
   "source": [
    "height_in_feet = list(map(lambda h: h/12, height_in_inches))"
   ]
  },
  {
   "cell_type": "code",
   "execution_count": 4,
   "id": "5565ed37",
   "metadata": {},
   "outputs": [
    {
     "name": "stdout",
     "output_type": "stream",
     "text": [
      "Height_in_feet has the following list values: 5.5  5.666666666666667  5.916666666666667  5.333333333333333  5.083333333333333  6.166666666666667  5.333333333333333  5.416666666666667  5.833333333333333  5.916666666666667\n"
     ]
    }
   ],
   "source": [
    "print('Height_in_feet has the following list values:', '  '.join(map(str, height_in_feet)))"
   ]
  },
  {
   "cell_type": "markdown",
   "id": "87ba580a",
   "metadata": {},
   "source": [
    "### 3. Create a 5x5 array of zeros. "
   ]
  },
  {
   "cell_type": "code",
   "execution_count": 5,
   "id": "cf727a46",
   "metadata": {},
   "outputs": [],
   "source": [
    "np_zeros = np.zeros((5,5), dtype=int)  # np.zeros((5,5)) would create same array's size but of type float"
   ]
  },
  {
   "cell_type": "code",
   "execution_count": 6,
   "id": "62a794c2",
   "metadata": {},
   "outputs": [
    {
     "name": "stdout",
     "output_type": "stream",
     "text": [
      "[[0 0 0 0 0]\n",
      " [0 0 0 0 0]\n",
      " [0 0 0 0 0]\n",
      " [0 0 0 0 0]\n",
      " [0 0 0 0 0]]\n",
      "\n",
      "np_zeros is of type: int32\n"
     ]
    }
   ],
   "source": [
    "print(np_zeros)\n",
    "\n",
    "print('\\nnp_zeros is of type:', np_zeros.dtype)"
   ]
  },
  {
   "cell_type": "markdown",
   "id": "dd8956f4",
   "metadata": {},
   "source": [
    "### 4. Create an array of random floating point numbers between 0 and 100. "
   ]
  },
  {
   "cell_type": "code",
   "execution_count": 7,
   "id": "414c0959",
   "metadata": {},
   "outputs": [
    {
     "name": "stdout",
     "output_type": "stream",
     "text": [
      "[  0.           2.04081633   4.08163265   6.12244898   8.16326531\n",
      "  10.20408163  12.24489796  14.28571429  16.32653061  18.36734694\n",
      "  20.40816327  22.44897959  24.48979592  26.53061224  28.57142857\n",
      "  30.6122449   32.65306122  34.69387755  36.73469388  38.7755102\n",
      "  40.81632653  42.85714286  44.89795918  46.93877551  48.97959184\n",
      "  51.02040816  53.06122449  55.10204082  57.14285714  59.18367347\n",
      "  61.2244898   63.26530612  65.30612245  67.34693878  69.3877551\n",
      "  71.42857143  73.46938776  75.51020408  77.55102041  79.59183673\n",
      "  81.63265306  83.67346939  85.71428571  87.75510204  89.79591837\n",
      "  91.83673469  93.87755102  95.91836735  97.95918367 100.        ]\n"
     ]
    }
   ],
   "source": [
    "random_np = np.linspace(0,100)\n",
    "print(random_np)"
   ]
  },
  {
   "cell_type": "markdown",
   "id": "e082add1",
   "metadata": {},
   "source": [
    "### 5. Create an array of numbers from 0 to 75 in increments of 5"
   ]
  },
  {
   "cell_type": "code",
   "execution_count": 8,
   "id": "5dfb7a51",
   "metadata": {},
   "outputs": [
    {
     "name": "stdout",
     "output_type": "stream",
     "text": [
      "[ 0  5 10 15 20 25 30 35 40 45 50 55 60 65 70]\n"
     ]
    }
   ],
   "source": [
    "rando_np = np.arange(0,75,5)\n",
    "print(rando_np)"
   ]
  },
  {
   "cell_type": "code",
   "execution_count": 9,
   "id": "d4c52b72",
   "metadata": {},
   "outputs": [
    {
     "name": "stdout",
     "output_type": "stream",
     "text": [
      "[ 0.   18.75 37.5  56.25 75.  ]\n"
     ]
    }
   ],
   "source": [
    "random2_np = np.linspace(0,75,5)  #Note: 5 indicates the number of steps, hence the 5 values\n",
    "print(random2_np)"
   ]
  }
 ],
 "metadata": {
  "kernelspec": {
   "display_name": "Python 3 (ipykernel)",
   "language": "python",
   "name": "python3"
  },
  "language_info": {
   "codemirror_mode": {
    "name": "ipython",
    "version": 3
   },
   "file_extension": ".py",
   "mimetype": "text/x-python",
   "name": "python",
   "nbconvert_exporter": "python",
   "pygments_lexer": "ipython3",
   "version": "3.11.3"
  }
 },
 "nbformat": 4,
 "nbformat_minor": 5
}
